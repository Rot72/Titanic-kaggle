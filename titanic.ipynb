{
  "cells": [
    {
      "cell_type": "markdown",
      "metadata": {
        "id": "view-in-github",
        "colab_type": "text"
      },
      "source": [
        "<a href=\"https://colab.research.google.com/github/Rot72/Titanic-kaggle/blob/main/titanic.ipynb\" target=\"_parent\"><img src=\"https://colab.research.google.com/assets/colab-badge.svg\" alt=\"Open In Colab\"/></a>"
      ]
    },
    {
      "cell_type": "code",
      "source": [
        "from google.colab import drive\n",
        "drive.mount('/content/drive')"
      ],
      "metadata": {
        "colab": {
          "base_uri": "https://localhost:8080/"
        },
        "id": "NTm2zWpieKBB",
        "outputId": "bc4be459-549a-4e56-9a72-5c07a363fabd"
      },
      "id": "NTm2zWpieKBB",
      "execution_count": null,
      "outputs": [
        {
          "output_type": "stream",
          "name": "stdout",
          "text": [
            "Drive already mounted at /content/drive; to attempt to forcibly remount, call drive.mount(\"/content/drive\", force_remount=True).\n"
          ]
        }
      ]
    },
    {
      "cell_type": "code",
      "execution_count": null,
      "id": "1af35ce0",
      "metadata": {
        "id": "1af35ce0"
      },
      "outputs": [],
      "source": [
        "import pandas as pd\n",
        "import numpy as np"
      ]
    },
    {
      "cell_type": "code",
      "execution_count": null,
      "id": "0343d082",
      "metadata": {
        "id": "0343d082"
      },
      "outputs": [],
      "source": [
        "path_train = '/content/drive/MyDrive/Colab Notebooks/titanic_train.csv'\n",
        "df = pd.read_csv(path_train)"
      ]
    },
    {
      "cell_type": "code",
      "execution_count": 59,
      "id": "f130d797",
      "metadata": {
        "id": "f130d797"
      },
      "outputs": [],
      "source": [
        "path_test = '/content/drive/MyDrive/Colab Notebooks/titanic_test.csv'\n",
        "df_test = pd.read_csv(path_test)"
      ]
    },
    {
      "cell_type": "code",
      "execution_count": null,
      "id": "6971fae1",
      "metadata": {
        "scrolled": false,
        "id": "6971fae1",
        "colab": {
          "base_uri": "https://localhost:8080/",
          "height": 991
        },
        "outputId": "9c9149b5-c2fb-4a17-f257-4d7daca243b9"
      },
      "outputs": [
        {
          "output_type": "execute_result",
          "data": {
            "text/plain": [
              "     PassengerId  Survived  Pclass  \\\n",
              "0              1         0       3   \n",
              "1              2         1       1   \n",
              "2              3         1       3   \n",
              "3              4         1       1   \n",
              "4              5         0       3   \n",
              "..           ...       ...     ...   \n",
              "886          887         0       2   \n",
              "887          888         1       1   \n",
              "888          889         0       3   \n",
              "889          890         1       1   \n",
              "890          891         0       3   \n",
              "\n",
              "                                                  Name     Sex   Age  SibSp  \\\n",
              "0                              Braund, Mr. Owen Harris    male  22.0      1   \n",
              "1    Cumings, Mrs. John Bradley (Florence Briggs Th...  female  38.0      1   \n",
              "2                               Heikkinen, Miss. Laina  female  26.0      0   \n",
              "3         Futrelle, Mrs. Jacques Heath (Lily May Peel)  female  35.0      1   \n",
              "4                             Allen, Mr. William Henry    male  35.0      0   \n",
              "..                                                 ...     ...   ...    ...   \n",
              "886                              Montvila, Rev. Juozas    male  27.0      0   \n",
              "887                       Graham, Miss. Margaret Edith  female  19.0      0   \n",
              "888           Johnston, Miss. Catherine Helen \"Carrie\"  female   NaN      1   \n",
              "889                              Behr, Mr. Karl Howell    male  26.0      0   \n",
              "890                                Dooley, Mr. Patrick    male  32.0      0   \n",
              "\n",
              "     Parch            Ticket     Fare Cabin Embarked  \n",
              "0        0         A/5 21171   7.2500   NaN        S  \n",
              "1        0          PC 17599  71.2833   C85        C  \n",
              "2        0  STON/O2. 3101282   7.9250   NaN        S  \n",
              "3        0            113803  53.1000  C123        S  \n",
              "4        0            373450   8.0500   NaN        S  \n",
              "..     ...               ...      ...   ...      ...  \n",
              "886      0            211536  13.0000   NaN        S  \n",
              "887      0            112053  30.0000   B42        S  \n",
              "888      2        W./C. 6607  23.4500   NaN        S  \n",
              "889      0            111369  30.0000  C148        C  \n",
              "890      0            370376   7.7500   NaN        Q  \n",
              "\n",
              "[891 rows x 12 columns]"
            ],
            "text/html": [
              "\n",
              "  <div id=\"df-d76f731b-4a2c-45c2-91f8-7467795d24db\">\n",
              "    <div class=\"colab-df-container\">\n",
              "      <div>\n",
              "<style scoped>\n",
              "    .dataframe tbody tr th:only-of-type {\n",
              "        vertical-align: middle;\n",
              "    }\n",
              "\n",
              "    .dataframe tbody tr th {\n",
              "        vertical-align: top;\n",
              "    }\n",
              "\n",
              "    .dataframe thead th {\n",
              "        text-align: right;\n",
              "    }\n",
              "</style>\n",
              "<table border=\"1\" class=\"dataframe\">\n",
              "  <thead>\n",
              "    <tr style=\"text-align: right;\">\n",
              "      <th></th>\n",
              "      <th>PassengerId</th>\n",
              "      <th>Survived</th>\n",
              "      <th>Pclass</th>\n",
              "      <th>Name</th>\n",
              "      <th>Sex</th>\n",
              "      <th>Age</th>\n",
              "      <th>SibSp</th>\n",
              "      <th>Parch</th>\n",
              "      <th>Ticket</th>\n",
              "      <th>Fare</th>\n",
              "      <th>Cabin</th>\n",
              "      <th>Embarked</th>\n",
              "    </tr>\n",
              "  </thead>\n",
              "  <tbody>\n",
              "    <tr>\n",
              "      <th>0</th>\n",
              "      <td>1</td>\n",
              "      <td>0</td>\n",
              "      <td>3</td>\n",
              "      <td>Braund, Mr. Owen Harris</td>\n",
              "      <td>male</td>\n",
              "      <td>22.0</td>\n",
              "      <td>1</td>\n",
              "      <td>0</td>\n",
              "      <td>A/5 21171</td>\n",
              "      <td>7.2500</td>\n",
              "      <td>NaN</td>\n",
              "      <td>S</td>\n",
              "    </tr>\n",
              "    <tr>\n",
              "      <th>1</th>\n",
              "      <td>2</td>\n",
              "      <td>1</td>\n",
              "      <td>1</td>\n",
              "      <td>Cumings, Mrs. John Bradley (Florence Briggs Th...</td>\n",
              "      <td>female</td>\n",
              "      <td>38.0</td>\n",
              "      <td>1</td>\n",
              "      <td>0</td>\n",
              "      <td>PC 17599</td>\n",
              "      <td>71.2833</td>\n",
              "      <td>C85</td>\n",
              "      <td>C</td>\n",
              "    </tr>\n",
              "    <tr>\n",
              "      <th>2</th>\n",
              "      <td>3</td>\n",
              "      <td>1</td>\n",
              "      <td>3</td>\n",
              "      <td>Heikkinen, Miss. Laina</td>\n",
              "      <td>female</td>\n",
              "      <td>26.0</td>\n",
              "      <td>0</td>\n",
              "      <td>0</td>\n",
              "      <td>STON/O2. 3101282</td>\n",
              "      <td>7.9250</td>\n",
              "      <td>NaN</td>\n",
              "      <td>S</td>\n",
              "    </tr>\n",
              "    <tr>\n",
              "      <th>3</th>\n",
              "      <td>4</td>\n",
              "      <td>1</td>\n",
              "      <td>1</td>\n",
              "      <td>Futrelle, Mrs. Jacques Heath (Lily May Peel)</td>\n",
              "      <td>female</td>\n",
              "      <td>35.0</td>\n",
              "      <td>1</td>\n",
              "      <td>0</td>\n",
              "      <td>113803</td>\n",
              "      <td>53.1000</td>\n",
              "      <td>C123</td>\n",
              "      <td>S</td>\n",
              "    </tr>\n",
              "    <tr>\n",
              "      <th>4</th>\n",
              "      <td>5</td>\n",
              "      <td>0</td>\n",
              "      <td>3</td>\n",
              "      <td>Allen, Mr. William Henry</td>\n",
              "      <td>male</td>\n",
              "      <td>35.0</td>\n",
              "      <td>0</td>\n",
              "      <td>0</td>\n",
              "      <td>373450</td>\n",
              "      <td>8.0500</td>\n",
              "      <td>NaN</td>\n",
              "      <td>S</td>\n",
              "    </tr>\n",
              "    <tr>\n",
              "      <th>...</th>\n",
              "      <td>...</td>\n",
              "      <td>...</td>\n",
              "      <td>...</td>\n",
              "      <td>...</td>\n",
              "      <td>...</td>\n",
              "      <td>...</td>\n",
              "      <td>...</td>\n",
              "      <td>...</td>\n",
              "      <td>...</td>\n",
              "      <td>...</td>\n",
              "      <td>...</td>\n",
              "      <td>...</td>\n",
              "    </tr>\n",
              "    <tr>\n",
              "      <th>886</th>\n",
              "      <td>887</td>\n",
              "      <td>0</td>\n",
              "      <td>2</td>\n",
              "      <td>Montvila, Rev. Juozas</td>\n",
              "      <td>male</td>\n",
              "      <td>27.0</td>\n",
              "      <td>0</td>\n",
              "      <td>0</td>\n",
              "      <td>211536</td>\n",
              "      <td>13.0000</td>\n",
              "      <td>NaN</td>\n",
              "      <td>S</td>\n",
              "    </tr>\n",
              "    <tr>\n",
              "      <th>887</th>\n",
              "      <td>888</td>\n",
              "      <td>1</td>\n",
              "      <td>1</td>\n",
              "      <td>Graham, Miss. Margaret Edith</td>\n",
              "      <td>female</td>\n",
              "      <td>19.0</td>\n",
              "      <td>0</td>\n",
              "      <td>0</td>\n",
              "      <td>112053</td>\n",
              "      <td>30.0000</td>\n",
              "      <td>B42</td>\n",
              "      <td>S</td>\n",
              "    </tr>\n",
              "    <tr>\n",
              "      <th>888</th>\n",
              "      <td>889</td>\n",
              "      <td>0</td>\n",
              "      <td>3</td>\n",
              "      <td>Johnston, Miss. Catherine Helen \"Carrie\"</td>\n",
              "      <td>female</td>\n",
              "      <td>NaN</td>\n",
              "      <td>1</td>\n",
              "      <td>2</td>\n",
              "      <td>W./C. 6607</td>\n",
              "      <td>23.4500</td>\n",
              "      <td>NaN</td>\n",
              "      <td>S</td>\n",
              "    </tr>\n",
              "    <tr>\n",
              "      <th>889</th>\n",
              "      <td>890</td>\n",
              "      <td>1</td>\n",
              "      <td>1</td>\n",
              "      <td>Behr, Mr. Karl Howell</td>\n",
              "      <td>male</td>\n",
              "      <td>26.0</td>\n",
              "      <td>0</td>\n",
              "      <td>0</td>\n",
              "      <td>111369</td>\n",
              "      <td>30.0000</td>\n",
              "      <td>C148</td>\n",
              "      <td>C</td>\n",
              "    </tr>\n",
              "    <tr>\n",
              "      <th>890</th>\n",
              "      <td>891</td>\n",
              "      <td>0</td>\n",
              "      <td>3</td>\n",
              "      <td>Dooley, Mr. Patrick</td>\n",
              "      <td>male</td>\n",
              "      <td>32.0</td>\n",
              "      <td>0</td>\n",
              "      <td>0</td>\n",
              "      <td>370376</td>\n",
              "      <td>7.7500</td>\n",
              "      <td>NaN</td>\n",
              "      <td>Q</td>\n",
              "    </tr>\n",
              "  </tbody>\n",
              "</table>\n",
              "<p>891 rows × 12 columns</p>\n",
              "</div>\n",
              "      <button class=\"colab-df-convert\" onclick=\"convertToInteractive('df-d76f731b-4a2c-45c2-91f8-7467795d24db')\"\n",
              "              title=\"Convert this dataframe to an interactive table.\"\n",
              "              style=\"display:none;\">\n",
              "        \n",
              "  <svg xmlns=\"http://www.w3.org/2000/svg\" height=\"24px\"viewBox=\"0 0 24 24\"\n",
              "       width=\"24px\">\n",
              "    <path d=\"M0 0h24v24H0V0z\" fill=\"none\"/>\n",
              "    <path d=\"M18.56 5.44l.94 2.06.94-2.06 2.06-.94-2.06-.94-.94-2.06-.94 2.06-2.06.94zm-11 1L8.5 8.5l.94-2.06 2.06-.94-2.06-.94L8.5 2.5l-.94 2.06-2.06.94zm10 10l.94 2.06.94-2.06 2.06-.94-2.06-.94-.94-2.06-.94 2.06-2.06.94z\"/><path d=\"M17.41 7.96l-1.37-1.37c-.4-.4-.92-.59-1.43-.59-.52 0-1.04.2-1.43.59L10.3 9.45l-7.72 7.72c-.78.78-.78 2.05 0 2.83L4 21.41c.39.39.9.59 1.41.59.51 0 1.02-.2 1.41-.59l7.78-7.78 2.81-2.81c.8-.78.8-2.07 0-2.86zM5.41 20L4 18.59l7.72-7.72 1.47 1.35L5.41 20z\"/>\n",
              "  </svg>\n",
              "      </button>\n",
              "      \n",
              "  <style>\n",
              "    .colab-df-container {\n",
              "      display:flex;\n",
              "      flex-wrap:wrap;\n",
              "      gap: 12px;\n",
              "    }\n",
              "\n",
              "    .colab-df-convert {\n",
              "      background-color: #E8F0FE;\n",
              "      border: none;\n",
              "      border-radius: 50%;\n",
              "      cursor: pointer;\n",
              "      display: none;\n",
              "      fill: #1967D2;\n",
              "      height: 32px;\n",
              "      padding: 0 0 0 0;\n",
              "      width: 32px;\n",
              "    }\n",
              "\n",
              "    .colab-df-convert:hover {\n",
              "      background-color: #E2EBFA;\n",
              "      box-shadow: 0px 1px 2px rgba(60, 64, 67, 0.3), 0px 1px 3px 1px rgba(60, 64, 67, 0.15);\n",
              "      fill: #174EA6;\n",
              "    }\n",
              "\n",
              "    [theme=dark] .colab-df-convert {\n",
              "      background-color: #3B4455;\n",
              "      fill: #D2E3FC;\n",
              "    }\n",
              "\n",
              "    [theme=dark] .colab-df-convert:hover {\n",
              "      background-color: #434B5C;\n",
              "      box-shadow: 0px 1px 3px 1px rgba(0, 0, 0, 0.15);\n",
              "      filter: drop-shadow(0px 1px 2px rgba(0, 0, 0, 0.3));\n",
              "      fill: #FFFFFF;\n",
              "    }\n",
              "  </style>\n",
              "\n",
              "      <script>\n",
              "        const buttonEl =\n",
              "          document.querySelector('#df-d76f731b-4a2c-45c2-91f8-7467795d24db button.colab-df-convert');\n",
              "        buttonEl.style.display =\n",
              "          google.colab.kernel.accessAllowed ? 'block' : 'none';\n",
              "\n",
              "        async function convertToInteractive(key) {\n",
              "          const element = document.querySelector('#df-d76f731b-4a2c-45c2-91f8-7467795d24db');\n",
              "          const dataTable =\n",
              "            await google.colab.kernel.invokeFunction('convertToInteractive',\n",
              "                                                     [key], {});\n",
              "          if (!dataTable) return;\n",
              "\n",
              "          const docLinkHtml = 'Like what you see? Visit the ' +\n",
              "            '<a target=\"_blank\" href=https://colab.research.google.com/notebooks/data_table.ipynb>data table notebook</a>'\n",
              "            + ' to learn more about interactive tables.';\n",
              "          element.innerHTML = '';\n",
              "          dataTable['output_type'] = 'display_data';\n",
              "          await google.colab.output.renderOutput(dataTable, element);\n",
              "          const docLink = document.createElement('div');\n",
              "          docLink.innerHTML = docLinkHtml;\n",
              "          element.appendChild(docLink);\n",
              "        }\n",
              "      </script>\n",
              "    </div>\n",
              "  </div>\n",
              "  "
            ]
          },
          "metadata": {},
          "execution_count": 49
        }
      ],
      "source": [
        "df"
      ]
    },
    {
      "cell_type": "code",
      "execution_count": 60,
      "id": "91f902de",
      "metadata": {
        "id": "91f902de",
        "colab": {
          "base_uri": "https://localhost:8080/",
          "height": 869
        },
        "outputId": "4c03448b-cff5-4938-a63b-74919a3c62b0"
      },
      "outputs": [
        {
          "output_type": "execute_result",
          "data": {
            "text/plain": [
              "     PassengerId  Pclass                                          Name  \\\n",
              "0            892       3                              Kelly, Mr. James   \n",
              "1            893       3              Wilkes, Mrs. James (Ellen Needs)   \n",
              "2            894       2                     Myles, Mr. Thomas Francis   \n",
              "3            895       3                              Wirz, Mr. Albert   \n",
              "4            896       3  Hirvonen, Mrs. Alexander (Helga E Lindqvist)   \n",
              "..           ...     ...                                           ...   \n",
              "413         1305       3                            Spector, Mr. Woolf   \n",
              "414         1306       1                  Oliva y Ocana, Dona. Fermina   \n",
              "415         1307       3                  Saether, Mr. Simon Sivertsen   \n",
              "416         1308       3                           Ware, Mr. Frederick   \n",
              "417         1309       3                      Peter, Master. Michael J   \n",
              "\n",
              "        Sex   Age  SibSp  Parch              Ticket      Fare Cabin Embarked  \n",
              "0      male  34.5      0      0              330911    7.8292   NaN        Q  \n",
              "1    female  47.0      1      0              363272    7.0000   NaN        S  \n",
              "2      male  62.0      0      0              240276    9.6875   NaN        Q  \n",
              "3      male  27.0      0      0              315154    8.6625   NaN        S  \n",
              "4    female  22.0      1      1             3101298   12.2875   NaN        S  \n",
              "..      ...   ...    ...    ...                 ...       ...   ...      ...  \n",
              "413    male   NaN      0      0           A.5. 3236    8.0500   NaN        S  \n",
              "414  female  39.0      0      0            PC 17758  108.9000  C105        C  \n",
              "415    male  38.5      0      0  SOTON/O.Q. 3101262    7.2500   NaN        S  \n",
              "416    male   NaN      0      0              359309    8.0500   NaN        S  \n",
              "417    male   NaN      1      1                2668   22.3583   NaN        C  \n",
              "\n",
              "[418 rows x 11 columns]"
            ],
            "text/html": [
              "\n",
              "  <div id=\"df-b0dfa34f-cc80-491a-8768-65460842a545\">\n",
              "    <div class=\"colab-df-container\">\n",
              "      <div>\n",
              "<style scoped>\n",
              "    .dataframe tbody tr th:only-of-type {\n",
              "        vertical-align: middle;\n",
              "    }\n",
              "\n",
              "    .dataframe tbody tr th {\n",
              "        vertical-align: top;\n",
              "    }\n",
              "\n",
              "    .dataframe thead th {\n",
              "        text-align: right;\n",
              "    }\n",
              "</style>\n",
              "<table border=\"1\" class=\"dataframe\">\n",
              "  <thead>\n",
              "    <tr style=\"text-align: right;\">\n",
              "      <th></th>\n",
              "      <th>PassengerId</th>\n",
              "      <th>Pclass</th>\n",
              "      <th>Name</th>\n",
              "      <th>Sex</th>\n",
              "      <th>Age</th>\n",
              "      <th>SibSp</th>\n",
              "      <th>Parch</th>\n",
              "      <th>Ticket</th>\n",
              "      <th>Fare</th>\n",
              "      <th>Cabin</th>\n",
              "      <th>Embarked</th>\n",
              "    </tr>\n",
              "  </thead>\n",
              "  <tbody>\n",
              "    <tr>\n",
              "      <th>0</th>\n",
              "      <td>892</td>\n",
              "      <td>3</td>\n",
              "      <td>Kelly, Mr. James</td>\n",
              "      <td>male</td>\n",
              "      <td>34.5</td>\n",
              "      <td>0</td>\n",
              "      <td>0</td>\n",
              "      <td>330911</td>\n",
              "      <td>7.8292</td>\n",
              "      <td>NaN</td>\n",
              "      <td>Q</td>\n",
              "    </tr>\n",
              "    <tr>\n",
              "      <th>1</th>\n",
              "      <td>893</td>\n",
              "      <td>3</td>\n",
              "      <td>Wilkes, Mrs. James (Ellen Needs)</td>\n",
              "      <td>female</td>\n",
              "      <td>47.0</td>\n",
              "      <td>1</td>\n",
              "      <td>0</td>\n",
              "      <td>363272</td>\n",
              "      <td>7.0000</td>\n",
              "      <td>NaN</td>\n",
              "      <td>S</td>\n",
              "    </tr>\n",
              "    <tr>\n",
              "      <th>2</th>\n",
              "      <td>894</td>\n",
              "      <td>2</td>\n",
              "      <td>Myles, Mr. Thomas Francis</td>\n",
              "      <td>male</td>\n",
              "      <td>62.0</td>\n",
              "      <td>0</td>\n",
              "      <td>0</td>\n",
              "      <td>240276</td>\n",
              "      <td>9.6875</td>\n",
              "      <td>NaN</td>\n",
              "      <td>Q</td>\n",
              "    </tr>\n",
              "    <tr>\n",
              "      <th>3</th>\n",
              "      <td>895</td>\n",
              "      <td>3</td>\n",
              "      <td>Wirz, Mr. Albert</td>\n",
              "      <td>male</td>\n",
              "      <td>27.0</td>\n",
              "      <td>0</td>\n",
              "      <td>0</td>\n",
              "      <td>315154</td>\n",
              "      <td>8.6625</td>\n",
              "      <td>NaN</td>\n",
              "      <td>S</td>\n",
              "    </tr>\n",
              "    <tr>\n",
              "      <th>4</th>\n",
              "      <td>896</td>\n",
              "      <td>3</td>\n",
              "      <td>Hirvonen, Mrs. Alexander (Helga E Lindqvist)</td>\n",
              "      <td>female</td>\n",
              "      <td>22.0</td>\n",
              "      <td>1</td>\n",
              "      <td>1</td>\n",
              "      <td>3101298</td>\n",
              "      <td>12.2875</td>\n",
              "      <td>NaN</td>\n",
              "      <td>S</td>\n",
              "    </tr>\n",
              "    <tr>\n",
              "      <th>...</th>\n",
              "      <td>...</td>\n",
              "      <td>...</td>\n",
              "      <td>...</td>\n",
              "      <td>...</td>\n",
              "      <td>...</td>\n",
              "      <td>...</td>\n",
              "      <td>...</td>\n",
              "      <td>...</td>\n",
              "      <td>...</td>\n",
              "      <td>...</td>\n",
              "      <td>...</td>\n",
              "    </tr>\n",
              "    <tr>\n",
              "      <th>413</th>\n",
              "      <td>1305</td>\n",
              "      <td>3</td>\n",
              "      <td>Spector, Mr. Woolf</td>\n",
              "      <td>male</td>\n",
              "      <td>NaN</td>\n",
              "      <td>0</td>\n",
              "      <td>0</td>\n",
              "      <td>A.5. 3236</td>\n",
              "      <td>8.0500</td>\n",
              "      <td>NaN</td>\n",
              "      <td>S</td>\n",
              "    </tr>\n",
              "    <tr>\n",
              "      <th>414</th>\n",
              "      <td>1306</td>\n",
              "      <td>1</td>\n",
              "      <td>Oliva y Ocana, Dona. Fermina</td>\n",
              "      <td>female</td>\n",
              "      <td>39.0</td>\n",
              "      <td>0</td>\n",
              "      <td>0</td>\n",
              "      <td>PC 17758</td>\n",
              "      <td>108.9000</td>\n",
              "      <td>C105</td>\n",
              "      <td>C</td>\n",
              "    </tr>\n",
              "    <tr>\n",
              "      <th>415</th>\n",
              "      <td>1307</td>\n",
              "      <td>3</td>\n",
              "      <td>Saether, Mr. Simon Sivertsen</td>\n",
              "      <td>male</td>\n",
              "      <td>38.5</td>\n",
              "      <td>0</td>\n",
              "      <td>0</td>\n",
              "      <td>SOTON/O.Q. 3101262</td>\n",
              "      <td>7.2500</td>\n",
              "      <td>NaN</td>\n",
              "      <td>S</td>\n",
              "    </tr>\n",
              "    <tr>\n",
              "      <th>416</th>\n",
              "      <td>1308</td>\n",
              "      <td>3</td>\n",
              "      <td>Ware, Mr. Frederick</td>\n",
              "      <td>male</td>\n",
              "      <td>NaN</td>\n",
              "      <td>0</td>\n",
              "      <td>0</td>\n",
              "      <td>359309</td>\n",
              "      <td>8.0500</td>\n",
              "      <td>NaN</td>\n",
              "      <td>S</td>\n",
              "    </tr>\n",
              "    <tr>\n",
              "      <th>417</th>\n",
              "      <td>1309</td>\n",
              "      <td>3</td>\n",
              "      <td>Peter, Master. Michael J</td>\n",
              "      <td>male</td>\n",
              "      <td>NaN</td>\n",
              "      <td>1</td>\n",
              "      <td>1</td>\n",
              "      <td>2668</td>\n",
              "      <td>22.3583</td>\n",
              "      <td>NaN</td>\n",
              "      <td>C</td>\n",
              "    </tr>\n",
              "  </tbody>\n",
              "</table>\n",
              "<p>418 rows × 11 columns</p>\n",
              "</div>\n",
              "      <button class=\"colab-df-convert\" onclick=\"convertToInteractive('df-b0dfa34f-cc80-491a-8768-65460842a545')\"\n",
              "              title=\"Convert this dataframe to an interactive table.\"\n",
              "              style=\"display:none;\">\n",
              "        \n",
              "  <svg xmlns=\"http://www.w3.org/2000/svg\" height=\"24px\"viewBox=\"0 0 24 24\"\n",
              "       width=\"24px\">\n",
              "    <path d=\"M0 0h24v24H0V0z\" fill=\"none\"/>\n",
              "    <path d=\"M18.56 5.44l.94 2.06.94-2.06 2.06-.94-2.06-.94-.94-2.06-.94 2.06-2.06.94zm-11 1L8.5 8.5l.94-2.06 2.06-.94-2.06-.94L8.5 2.5l-.94 2.06-2.06.94zm10 10l.94 2.06.94-2.06 2.06-.94-2.06-.94-.94-2.06-.94 2.06-2.06.94z\"/><path d=\"M17.41 7.96l-1.37-1.37c-.4-.4-.92-.59-1.43-.59-.52 0-1.04.2-1.43.59L10.3 9.45l-7.72 7.72c-.78.78-.78 2.05 0 2.83L4 21.41c.39.39.9.59 1.41.59.51 0 1.02-.2 1.41-.59l7.78-7.78 2.81-2.81c.8-.78.8-2.07 0-2.86zM5.41 20L4 18.59l7.72-7.72 1.47 1.35L5.41 20z\"/>\n",
              "  </svg>\n",
              "      </button>\n",
              "      \n",
              "  <style>\n",
              "    .colab-df-container {\n",
              "      display:flex;\n",
              "      flex-wrap:wrap;\n",
              "      gap: 12px;\n",
              "    }\n",
              "\n",
              "    .colab-df-convert {\n",
              "      background-color: #E8F0FE;\n",
              "      border: none;\n",
              "      border-radius: 50%;\n",
              "      cursor: pointer;\n",
              "      display: none;\n",
              "      fill: #1967D2;\n",
              "      height: 32px;\n",
              "      padding: 0 0 0 0;\n",
              "      width: 32px;\n",
              "    }\n",
              "\n",
              "    .colab-df-convert:hover {\n",
              "      background-color: #E2EBFA;\n",
              "      box-shadow: 0px 1px 2px rgba(60, 64, 67, 0.3), 0px 1px 3px 1px rgba(60, 64, 67, 0.15);\n",
              "      fill: #174EA6;\n",
              "    }\n",
              "\n",
              "    [theme=dark] .colab-df-convert {\n",
              "      background-color: #3B4455;\n",
              "      fill: #D2E3FC;\n",
              "    }\n",
              "\n",
              "    [theme=dark] .colab-df-convert:hover {\n",
              "      background-color: #434B5C;\n",
              "      box-shadow: 0px 1px 3px 1px rgba(0, 0, 0, 0.15);\n",
              "      filter: drop-shadow(0px 1px 2px rgba(0, 0, 0, 0.3));\n",
              "      fill: #FFFFFF;\n",
              "    }\n",
              "  </style>\n",
              "\n",
              "      <script>\n",
              "        const buttonEl =\n",
              "          document.querySelector('#df-b0dfa34f-cc80-491a-8768-65460842a545 button.colab-df-convert');\n",
              "        buttonEl.style.display =\n",
              "          google.colab.kernel.accessAllowed ? 'block' : 'none';\n",
              "\n",
              "        async function convertToInteractive(key) {\n",
              "          const element = document.querySelector('#df-b0dfa34f-cc80-491a-8768-65460842a545');\n",
              "          const dataTable =\n",
              "            await google.colab.kernel.invokeFunction('convertToInteractive',\n",
              "                                                     [key], {});\n",
              "          if (!dataTable) return;\n",
              "\n",
              "          const docLinkHtml = 'Like what you see? Visit the ' +\n",
              "            '<a target=\"_blank\" href=https://colab.research.google.com/notebooks/data_table.ipynb>data table notebook</a>'\n",
              "            + ' to learn more about interactive tables.';\n",
              "          element.innerHTML = '';\n",
              "          dataTable['output_type'] = 'display_data';\n",
              "          await google.colab.output.renderOutput(dataTable, element);\n",
              "          const docLink = document.createElement('div');\n",
              "          docLink.innerHTML = docLinkHtml;\n",
              "          element.appendChild(docLink);\n",
              "        }\n",
              "      </script>\n",
              "    </div>\n",
              "  </div>\n",
              "  "
            ]
          },
          "metadata": {},
          "execution_count": 60
        }
      ],
      "source": [
        "df_test"
      ]
    },
    {
      "cell_type": "code",
      "execution_count": 61,
      "id": "65a380db",
      "metadata": {
        "id": "65a380db",
        "colab": {
          "base_uri": "https://localhost:8080/"
        },
        "outputId": "468dc8da-4175-4c8e-834f-8fc857b6c851"
      },
      "outputs": [
        {
          "output_type": "stream",
          "name": "stdout",
          "text": [
            "<class 'pandas.core.frame.DataFrame'>\n",
            "RangeIndex: 891 entries, 0 to 890\n",
            "Data columns (total 12 columns):\n",
            " #   Column       Non-Null Count  Dtype  \n",
            "---  ------       --------------  -----  \n",
            " 0   PassengerId  891 non-null    int64  \n",
            " 1   Survived     891 non-null    int64  \n",
            " 2   Pclass       891 non-null    int64  \n",
            " 3   Name         891 non-null    object \n",
            " 4   Sex          891 non-null    object \n",
            " 5   Age          714 non-null    float64\n",
            " 6   SibSp        891 non-null    int64  \n",
            " 7   Parch        891 non-null    int64  \n",
            " 8   Ticket       891 non-null    object \n",
            " 9   Fare         891 non-null    float64\n",
            " 10  Cabin        204 non-null    object \n",
            " 11  Embarked     889 non-null    object \n",
            "dtypes: float64(2), int64(5), object(5)\n",
            "memory usage: 83.7+ KB\n"
          ]
        }
      ],
      "source": [
        "df.info()"
      ]
    },
    {
      "cell_type": "code",
      "execution_count": 62,
      "id": "b4295cf8",
      "metadata": {
        "id": "b4295cf8",
        "colab": {
          "base_uri": "https://localhost:8080/"
        },
        "outputId": "529f8e30-faaf-49d4-8e15-e74416bf93c8"
      },
      "outputs": [
        {
          "output_type": "stream",
          "name": "stdout",
          "text": [
            "<class 'pandas.core.frame.DataFrame'>\n",
            "RangeIndex: 418 entries, 0 to 417\n",
            "Data columns (total 11 columns):\n",
            " #   Column       Non-Null Count  Dtype  \n",
            "---  ------       --------------  -----  \n",
            " 0   PassengerId  418 non-null    int64  \n",
            " 1   Pclass       418 non-null    int64  \n",
            " 2   Name         418 non-null    object \n",
            " 3   Sex          418 non-null    object \n",
            " 4   Age          332 non-null    float64\n",
            " 5   SibSp        418 non-null    int64  \n",
            " 6   Parch        418 non-null    int64  \n",
            " 7   Ticket       418 non-null    object \n",
            " 8   Fare         417 non-null    float64\n",
            " 9   Cabin        91 non-null     object \n",
            " 10  Embarked     418 non-null    object \n",
            "dtypes: float64(2), int64(4), object(5)\n",
            "memory usage: 36.0+ KB\n"
          ]
        }
      ],
      "source": [
        "df_test.info()"
      ]
    },
    {
      "cell_type": "code",
      "execution_count": 63,
      "id": "813fb0d3",
      "metadata": {
        "id": "813fb0d3"
      },
      "outputs": [],
      "source": [
        "df = df.drop(['Name', 'Ticket', 'Cabin'], axis=1)"
      ]
    },
    {
      "cell_type": "code",
      "execution_count": 64,
      "id": "d940d41b",
      "metadata": {
        "id": "d940d41b"
      },
      "outputs": [],
      "source": [
        "df_test = df_test.drop(['Name', 'Ticket', 'Cabin'], axis=1)"
      ]
    },
    {
      "cell_type": "code",
      "execution_count": 65,
      "id": "65360d57",
      "metadata": {
        "id": "65360d57",
        "colab": {
          "base_uri": "https://localhost:8080/"
        },
        "outputId": "08a45f49-9595-44a1-a850-c0431a4ec60e"
      },
      "outputs": [
        {
          "output_type": "stream",
          "name": "stdout",
          "text": [
            "<class 'pandas.core.frame.DataFrame'>\n",
            "RangeIndex: 891 entries, 0 to 890\n",
            "Data columns (total 9 columns):\n",
            " #   Column       Non-Null Count  Dtype  \n",
            "---  ------       --------------  -----  \n",
            " 0   PassengerId  891 non-null    int64  \n",
            " 1   Survived     891 non-null    int64  \n",
            " 2   Pclass       891 non-null    int64  \n",
            " 3   Sex          891 non-null    object \n",
            " 4   Age          714 non-null    float64\n",
            " 5   SibSp        891 non-null    int64  \n",
            " 6   Parch        891 non-null    int64  \n",
            " 7   Fare         891 non-null    float64\n",
            " 8   Embarked     889 non-null    object \n",
            "dtypes: float64(2), int64(5), object(2)\n",
            "memory usage: 62.8+ KB\n"
          ]
        }
      ],
      "source": [
        "df.info()"
      ]
    },
    {
      "cell_type": "code",
      "execution_count": 66,
      "id": "510512b9",
      "metadata": {
        "id": "510512b9",
        "colab": {
          "base_uri": "https://localhost:8080/"
        },
        "outputId": "57e9516c-7ab0-4999-97b8-be64f888aa4c"
      },
      "outputs": [
        {
          "output_type": "stream",
          "name": "stdout",
          "text": [
            "<class 'pandas.core.frame.DataFrame'>\n",
            "RangeIndex: 418 entries, 0 to 417\n",
            "Data columns (total 8 columns):\n",
            " #   Column       Non-Null Count  Dtype  \n",
            "---  ------       --------------  -----  \n",
            " 0   PassengerId  418 non-null    int64  \n",
            " 1   Pclass       418 non-null    int64  \n",
            " 2   Sex          418 non-null    object \n",
            " 3   Age          332 non-null    float64\n",
            " 4   SibSp        418 non-null    int64  \n",
            " 5   Parch        418 non-null    int64  \n",
            " 6   Fare         417 non-null    float64\n",
            " 7   Embarked     418 non-null    object \n",
            "dtypes: float64(2), int64(4), object(2)\n",
            "memory usage: 26.2+ KB\n"
          ]
        }
      ],
      "source": [
        "df_test.info()"
      ]
    },
    {
      "cell_type": "code",
      "execution_count": 67,
      "id": "39f97ca9",
      "metadata": {
        "id": "39f97ca9",
        "colab": {
          "base_uri": "https://localhost:8080/"
        },
        "outputId": "2502f95f-5af4-4859-9874-e16f71d623ea"
      },
      "outputs": [
        {
          "output_type": "stream",
          "name": "stdout",
          "text": [
            "Number of null entries in 'Fare': 0\n"
          ]
        }
      ],
      "source": [
        "num_null_entries = df['Fare'].isnull().sum()\n",
        "print(\"Number of null entries in 'Fare':\", num_null_entries)"
      ]
    },
    {
      "cell_type": "code",
      "execution_count": 68,
      "id": "30ebaf5e",
      "metadata": {
        "id": "30ebaf5e",
        "colab": {
          "base_uri": "https://localhost:8080/"
        },
        "outputId": "d83d2f8b-6aa5-4d55-cd07-af150258d242"
      },
      "outputs": [
        {
          "output_type": "stream",
          "name": "stdout",
          "text": [
            "Number of null entries in 'Fare': 1\n"
          ]
        }
      ],
      "source": [
        "num_null_entries = df_test['Fare'].isnull().sum()\n",
        "print(\"Number of null entries in 'Fare':\", num_null_entries)"
      ]
    },
    {
      "cell_type": "code",
      "execution_count": 69,
      "id": "50e7f67b",
      "metadata": {
        "id": "50e7f67b",
        "colab": {
          "base_uri": "https://localhost:8080/"
        },
        "outputId": "fc85d4fb-55d1-4a60-9620-c4b47254212b"
      },
      "outputs": [
        {
          "output_type": "stream",
          "name": "stdout",
          "text": [
            "35.627188489208635\n"
          ]
        }
      ],
      "source": [
        "mean_fare = df_test['Fare'].mean()\n",
        "print(mean_fare)\n",
        "df_test['Fare'] = df_test['Fare'].fillna(mean_fare)"
      ]
    },
    {
      "cell_type": "code",
      "execution_count": 70,
      "id": "a2bc00ee",
      "metadata": {
        "id": "a2bc00ee",
        "colab": {
          "base_uri": "https://localhost:8080/"
        },
        "outputId": "05675566-b9dc-4a75-efa0-37bffeb69d63"
      },
      "outputs": [
        {
          "output_type": "stream",
          "name": "stdout",
          "text": [
            "<class 'pandas.core.frame.DataFrame'>\n",
            "RangeIndex: 418 entries, 0 to 417\n",
            "Data columns (total 8 columns):\n",
            " #   Column       Non-Null Count  Dtype  \n",
            "---  ------       --------------  -----  \n",
            " 0   PassengerId  418 non-null    int64  \n",
            " 1   Pclass       418 non-null    int64  \n",
            " 2   Sex          418 non-null    object \n",
            " 3   Age          332 non-null    float64\n",
            " 4   SibSp        418 non-null    int64  \n",
            " 5   Parch        418 non-null    int64  \n",
            " 6   Fare         418 non-null    float64\n",
            " 7   Embarked     418 non-null    object \n",
            "dtypes: float64(2), int64(4), object(2)\n",
            "memory usage: 26.2+ KB\n"
          ]
        }
      ],
      "source": [
        "df_test.info()"
      ]
    },
    {
      "cell_type": "code",
      "execution_count": 71,
      "id": "61d9eaff",
      "metadata": {
        "id": "61d9eaff",
        "colab": {
          "base_uri": "https://localhost:8080/"
        },
        "outputId": "db530098-1759-4926-a205-f730ca91affd"
      },
      "outputs": [
        {
          "output_type": "stream",
          "name": "stdout",
          "text": [
            "Number of null entries in 'Embarked': 2\n",
            "S    644\n",
            "C    168\n",
            "Q     77\n",
            "Name: Embarked, dtype: int64\n",
            "Mode of Embarked: S\n"
          ]
        }
      ],
      "source": [
        "num_null_entries = df['Embarked'].isnull().sum()\n",
        "print(\"Number of null entries in 'Embarked':\", num_null_entries)\n",
        "\n",
        "value_counts = df['Embarked'].value_counts()\n",
        "print(value_counts)\n",
        "\n",
        "mode_embarked = df['Embarked'].mode()[0]\n",
        "print(\"Mode of Embarked:\", mode_embarked)\n",
        "\n",
        "df.loc[df.Embarked.isnull(), 'Embarked'] = mode_embarked"
      ]
    },
    {
      "cell_type": "code",
      "execution_count": 72,
      "id": "b5a2f3fd",
      "metadata": {
        "id": "b5a2f3fd"
      },
      "outputs": [],
      "source": [
        "df = pd.get_dummies(df, columns=['Embarked'], prefix='Embarked')"
      ]
    },
    {
      "cell_type": "code",
      "execution_count": 73,
      "id": "f3e50062",
      "metadata": {
        "id": "f3e50062"
      },
      "outputs": [],
      "source": [
        "df_test = pd.get_dummies(df_test, columns=['Embarked'], prefix='Embarked')"
      ]
    },
    {
      "cell_type": "code",
      "execution_count": 74,
      "id": "a59caab8",
      "metadata": {
        "id": "a59caab8"
      },
      "outputs": [],
      "source": [
        "df = pd.get_dummies(df, columns=['Sex'], prefix='Sex')"
      ]
    },
    {
      "cell_type": "code",
      "execution_count": 75,
      "id": "f093826e",
      "metadata": {
        "id": "f093826e"
      },
      "outputs": [],
      "source": [
        "df_test = pd.get_dummies(df_test, columns=['Sex'], prefix='Sex')"
      ]
    },
    {
      "cell_type": "code",
      "execution_count": 76,
      "id": "05244c12",
      "metadata": {
        "id": "05244c12",
        "colab": {
          "base_uri": "https://localhost:8080/"
        },
        "outputId": "7debff27-08eb-4339-d4df-66a91eab5ce3"
      },
      "outputs": [
        {
          "output_type": "stream",
          "name": "stdout",
          "text": [
            "<class 'pandas.core.frame.DataFrame'>\n",
            "RangeIndex: 891 entries, 0 to 890\n",
            "Data columns (total 12 columns):\n",
            " #   Column       Non-Null Count  Dtype  \n",
            "---  ------       --------------  -----  \n",
            " 0   PassengerId  891 non-null    int64  \n",
            " 1   Survived     891 non-null    int64  \n",
            " 2   Pclass       891 non-null    int64  \n",
            " 3   Age          714 non-null    float64\n",
            " 4   SibSp        891 non-null    int64  \n",
            " 5   Parch        891 non-null    int64  \n",
            " 6   Fare         891 non-null    float64\n",
            " 7   Embarked_C   891 non-null    uint8  \n",
            " 8   Embarked_Q   891 non-null    uint8  \n",
            " 9   Embarked_S   891 non-null    uint8  \n",
            " 10  Sex_female   891 non-null    uint8  \n",
            " 11  Sex_male     891 non-null    uint8  \n",
            "dtypes: float64(2), int64(5), uint8(5)\n",
            "memory usage: 53.2 KB\n"
          ]
        }
      ],
      "source": [
        "df.info()"
      ]
    },
    {
      "cell_type": "code",
      "execution_count": 77,
      "id": "0fd2650e",
      "metadata": {
        "id": "0fd2650e",
        "colab": {
          "base_uri": "https://localhost:8080/"
        },
        "outputId": "5c7c81b9-474b-452a-c584-e7a827725c92"
      },
      "outputs": [
        {
          "output_type": "stream",
          "name": "stdout",
          "text": [
            "<class 'pandas.core.frame.DataFrame'>\n",
            "RangeIndex: 418 entries, 0 to 417\n",
            "Data columns (total 11 columns):\n",
            " #   Column       Non-Null Count  Dtype  \n",
            "---  ------       --------------  -----  \n",
            " 0   PassengerId  418 non-null    int64  \n",
            " 1   Pclass       418 non-null    int64  \n",
            " 2   Age          332 non-null    float64\n",
            " 3   SibSp        418 non-null    int64  \n",
            " 4   Parch        418 non-null    int64  \n",
            " 5   Fare         418 non-null    float64\n",
            " 6   Embarked_C   418 non-null    uint8  \n",
            " 7   Embarked_Q   418 non-null    uint8  \n",
            " 8   Embarked_S   418 non-null    uint8  \n",
            " 9   Sex_female   418 non-null    uint8  \n",
            " 10  Sex_male     418 non-null    uint8  \n",
            "dtypes: float64(2), int64(4), uint8(5)\n",
            "memory usage: 21.8 KB\n"
          ]
        }
      ],
      "source": [
        "df_test.info()"
      ]
    },
    {
      "cell_type": "code",
      "execution_count": 78,
      "id": "a6a2b594",
      "metadata": {
        "id": "a6a2b594"
      },
      "outputs": [],
      "source": [
        "# Create age groups column\n",
        "df['Age_Group'] = pd.cut(df['Age'], bins=[0, 17, 64, float('inf')], labels=[1, 2, 3])\n",
        "\n",
        "# Aplicar one-hot encoding na coluna \"Age_Group\"\n",
        "df = pd.get_dummies(df, columns=['Age_Group'])"
      ]
    },
    {
      "cell_type": "code",
      "execution_count": 79,
      "id": "80148eb1",
      "metadata": {
        "id": "80148eb1"
      },
      "outputs": [],
      "source": [
        "# Create age groups column\n",
        "df_test['Age_Group'] = pd.cut(df_test['Age'], bins=[0, 17, 64, float('inf')], labels=[1, 2, 3])\n",
        "\n",
        "# Aplicar one-hot encoding na coluna \"Age_Group\"\n",
        "df_test = pd.get_dummies(df_test, columns=['Age_Group'])"
      ]
    },
    {
      "cell_type": "code",
      "execution_count": 80,
      "id": "0685cc86",
      "metadata": {
        "id": "0685cc86",
        "colab": {
          "base_uri": "https://localhost:8080/",
          "height": 487
        },
        "outputId": "fccb615c-669a-4898-e39c-9bb65349c1c6"
      },
      "outputs": [
        {
          "output_type": "execute_result",
          "data": {
            "text/plain": [
              "     PassengerId  Survived  Pclass   Age  SibSp  Parch      Fare  Embarked_C  \\\n",
              "445          446         1       1   4.0      0      2   81.8583           0   \n",
              "310          311         1       1  24.0      0      0   83.1583           1   \n",
              "309          310         1       1  30.0      0      0   56.9292           1   \n",
              "307          308         1       1  17.0      1      0  108.9000           1   \n",
              "306          307         1       1   NaN      0      0  110.8833           1   \n",
              "..           ...       ...     ...   ...    ...    ...       ...         ...   \n",
              "379          380         0       3  19.0      0      0    7.7750           0   \n",
              "381          382         1       3   1.0      0      2   15.7417           1   \n",
              "382          383         0       3  32.0      0      0    7.9250           0   \n",
              "371          372         0       3  18.0      1      0    6.4958           0   \n",
              "890          891         0       3  32.0      0      0    7.7500           0   \n",
              "\n",
              "     Embarked_Q  Embarked_S  Sex_female  Sex_male  Age_Group_1  Age_Group_2  \\\n",
              "445           0           1           0         1            1            0   \n",
              "310           0           0           1         0            0            1   \n",
              "309           0           0           1         0            0            1   \n",
              "307           0           0           1         0            1            0   \n",
              "306           0           0           1         0            0            0   \n",
              "..          ...         ...         ...       ...          ...          ...   \n",
              "379           0           1           0         1            0            1   \n",
              "381           0           0           1         0            1            0   \n",
              "382           0           1           0         1            0            1   \n",
              "371           0           1           0         1            0            1   \n",
              "890           1           0           0         1            0            1   \n",
              "\n",
              "     Age_Group_3  \n",
              "445            0  \n",
              "310            0  \n",
              "309            0  \n",
              "307            0  \n",
              "306            0  \n",
              "..           ...  \n",
              "379            0  \n",
              "381            0  \n",
              "382            0  \n",
              "371            0  \n",
              "890            0  \n",
              "\n",
              "[891 rows x 15 columns]"
            ],
            "text/html": [
              "\n",
              "  <div id=\"df-00f57575-a722-45a3-b251-aff676d59e7b\">\n",
              "    <div class=\"colab-df-container\">\n",
              "      <div>\n",
              "<style scoped>\n",
              "    .dataframe tbody tr th:only-of-type {\n",
              "        vertical-align: middle;\n",
              "    }\n",
              "\n",
              "    .dataframe tbody tr th {\n",
              "        vertical-align: top;\n",
              "    }\n",
              "\n",
              "    .dataframe thead th {\n",
              "        text-align: right;\n",
              "    }\n",
              "</style>\n",
              "<table border=\"1\" class=\"dataframe\">\n",
              "  <thead>\n",
              "    <tr style=\"text-align: right;\">\n",
              "      <th></th>\n",
              "      <th>PassengerId</th>\n",
              "      <th>Survived</th>\n",
              "      <th>Pclass</th>\n",
              "      <th>Age</th>\n",
              "      <th>SibSp</th>\n",
              "      <th>Parch</th>\n",
              "      <th>Fare</th>\n",
              "      <th>Embarked_C</th>\n",
              "      <th>Embarked_Q</th>\n",
              "      <th>Embarked_S</th>\n",
              "      <th>Sex_female</th>\n",
              "      <th>Sex_male</th>\n",
              "      <th>Age_Group_1</th>\n",
              "      <th>Age_Group_2</th>\n",
              "      <th>Age_Group_3</th>\n",
              "    </tr>\n",
              "  </thead>\n",
              "  <tbody>\n",
              "    <tr>\n",
              "      <th>445</th>\n",
              "      <td>446</td>\n",
              "      <td>1</td>\n",
              "      <td>1</td>\n",
              "      <td>4.0</td>\n",
              "      <td>0</td>\n",
              "      <td>2</td>\n",
              "      <td>81.8583</td>\n",
              "      <td>0</td>\n",
              "      <td>0</td>\n",
              "      <td>1</td>\n",
              "      <td>0</td>\n",
              "      <td>1</td>\n",
              "      <td>1</td>\n",
              "      <td>0</td>\n",
              "      <td>0</td>\n",
              "    </tr>\n",
              "    <tr>\n",
              "      <th>310</th>\n",
              "      <td>311</td>\n",
              "      <td>1</td>\n",
              "      <td>1</td>\n",
              "      <td>24.0</td>\n",
              "      <td>0</td>\n",
              "      <td>0</td>\n",
              "      <td>83.1583</td>\n",
              "      <td>1</td>\n",
              "      <td>0</td>\n",
              "      <td>0</td>\n",
              "      <td>1</td>\n",
              "      <td>0</td>\n",
              "      <td>0</td>\n",
              "      <td>1</td>\n",
              "      <td>0</td>\n",
              "    </tr>\n",
              "    <tr>\n",
              "      <th>309</th>\n",
              "      <td>310</td>\n",
              "      <td>1</td>\n",
              "      <td>1</td>\n",
              "      <td>30.0</td>\n",
              "      <td>0</td>\n",
              "      <td>0</td>\n",
              "      <td>56.9292</td>\n",
              "      <td>1</td>\n",
              "      <td>0</td>\n",
              "      <td>0</td>\n",
              "      <td>1</td>\n",
              "      <td>0</td>\n",
              "      <td>0</td>\n",
              "      <td>1</td>\n",
              "      <td>0</td>\n",
              "    </tr>\n",
              "    <tr>\n",
              "      <th>307</th>\n",
              "      <td>308</td>\n",
              "      <td>1</td>\n",
              "      <td>1</td>\n",
              "      <td>17.0</td>\n",
              "      <td>1</td>\n",
              "      <td>0</td>\n",
              "      <td>108.9000</td>\n",
              "      <td>1</td>\n",
              "      <td>0</td>\n",
              "      <td>0</td>\n",
              "      <td>1</td>\n",
              "      <td>0</td>\n",
              "      <td>1</td>\n",
              "      <td>0</td>\n",
              "      <td>0</td>\n",
              "    </tr>\n",
              "    <tr>\n",
              "      <th>306</th>\n",
              "      <td>307</td>\n",
              "      <td>1</td>\n",
              "      <td>1</td>\n",
              "      <td>NaN</td>\n",
              "      <td>0</td>\n",
              "      <td>0</td>\n",
              "      <td>110.8833</td>\n",
              "      <td>1</td>\n",
              "      <td>0</td>\n",
              "      <td>0</td>\n",
              "      <td>1</td>\n",
              "      <td>0</td>\n",
              "      <td>0</td>\n",
              "      <td>0</td>\n",
              "      <td>0</td>\n",
              "    </tr>\n",
              "    <tr>\n",
              "      <th>...</th>\n",
              "      <td>...</td>\n",
              "      <td>...</td>\n",
              "      <td>...</td>\n",
              "      <td>...</td>\n",
              "      <td>...</td>\n",
              "      <td>...</td>\n",
              "      <td>...</td>\n",
              "      <td>...</td>\n",
              "      <td>...</td>\n",
              "      <td>...</td>\n",
              "      <td>...</td>\n",
              "      <td>...</td>\n",
              "      <td>...</td>\n",
              "      <td>...</td>\n",
              "      <td>...</td>\n",
              "    </tr>\n",
              "    <tr>\n",
              "      <th>379</th>\n",
              "      <td>380</td>\n",
              "      <td>0</td>\n",
              "      <td>3</td>\n",
              "      <td>19.0</td>\n",
              "      <td>0</td>\n",
              "      <td>0</td>\n",
              "      <td>7.7750</td>\n",
              "      <td>0</td>\n",
              "      <td>0</td>\n",
              "      <td>1</td>\n",
              "      <td>0</td>\n",
              "      <td>1</td>\n",
              "      <td>0</td>\n",
              "      <td>1</td>\n",
              "      <td>0</td>\n",
              "    </tr>\n",
              "    <tr>\n",
              "      <th>381</th>\n",
              "      <td>382</td>\n",
              "      <td>1</td>\n",
              "      <td>3</td>\n",
              "      <td>1.0</td>\n",
              "      <td>0</td>\n",
              "      <td>2</td>\n",
              "      <td>15.7417</td>\n",
              "      <td>1</td>\n",
              "      <td>0</td>\n",
              "      <td>0</td>\n",
              "      <td>1</td>\n",
              "      <td>0</td>\n",
              "      <td>1</td>\n",
              "      <td>0</td>\n",
              "      <td>0</td>\n",
              "    </tr>\n",
              "    <tr>\n",
              "      <th>382</th>\n",
              "      <td>383</td>\n",
              "      <td>0</td>\n",
              "      <td>3</td>\n",
              "      <td>32.0</td>\n",
              "      <td>0</td>\n",
              "      <td>0</td>\n",
              "      <td>7.9250</td>\n",
              "      <td>0</td>\n",
              "      <td>0</td>\n",
              "      <td>1</td>\n",
              "      <td>0</td>\n",
              "      <td>1</td>\n",
              "      <td>0</td>\n",
              "      <td>1</td>\n",
              "      <td>0</td>\n",
              "    </tr>\n",
              "    <tr>\n",
              "      <th>371</th>\n",
              "      <td>372</td>\n",
              "      <td>0</td>\n",
              "      <td>3</td>\n",
              "      <td>18.0</td>\n",
              "      <td>1</td>\n",
              "      <td>0</td>\n",
              "      <td>6.4958</td>\n",
              "      <td>0</td>\n",
              "      <td>0</td>\n",
              "      <td>1</td>\n",
              "      <td>0</td>\n",
              "      <td>1</td>\n",
              "      <td>0</td>\n",
              "      <td>1</td>\n",
              "      <td>0</td>\n",
              "    </tr>\n",
              "    <tr>\n",
              "      <th>890</th>\n",
              "      <td>891</td>\n",
              "      <td>0</td>\n",
              "      <td>3</td>\n",
              "      <td>32.0</td>\n",
              "      <td>0</td>\n",
              "      <td>0</td>\n",
              "      <td>7.7500</td>\n",
              "      <td>0</td>\n",
              "      <td>1</td>\n",
              "      <td>0</td>\n",
              "      <td>0</td>\n",
              "      <td>1</td>\n",
              "      <td>0</td>\n",
              "      <td>1</td>\n",
              "      <td>0</td>\n",
              "    </tr>\n",
              "  </tbody>\n",
              "</table>\n",
              "<p>891 rows × 15 columns</p>\n",
              "</div>\n",
              "      <button class=\"colab-df-convert\" onclick=\"convertToInteractive('df-00f57575-a722-45a3-b251-aff676d59e7b')\"\n",
              "              title=\"Convert this dataframe to an interactive table.\"\n",
              "              style=\"display:none;\">\n",
              "        \n",
              "  <svg xmlns=\"http://www.w3.org/2000/svg\" height=\"24px\"viewBox=\"0 0 24 24\"\n",
              "       width=\"24px\">\n",
              "    <path d=\"M0 0h24v24H0V0z\" fill=\"none\"/>\n",
              "    <path d=\"M18.56 5.44l.94 2.06.94-2.06 2.06-.94-2.06-.94-.94-2.06-.94 2.06-2.06.94zm-11 1L8.5 8.5l.94-2.06 2.06-.94-2.06-.94L8.5 2.5l-.94 2.06-2.06.94zm10 10l.94 2.06.94-2.06 2.06-.94-2.06-.94-.94-2.06-.94 2.06-2.06.94z\"/><path d=\"M17.41 7.96l-1.37-1.37c-.4-.4-.92-.59-1.43-.59-.52 0-1.04.2-1.43.59L10.3 9.45l-7.72 7.72c-.78.78-.78 2.05 0 2.83L4 21.41c.39.39.9.59 1.41.59.51 0 1.02-.2 1.41-.59l7.78-7.78 2.81-2.81c.8-.78.8-2.07 0-2.86zM5.41 20L4 18.59l7.72-7.72 1.47 1.35L5.41 20z\"/>\n",
              "  </svg>\n",
              "      </button>\n",
              "      \n",
              "  <style>\n",
              "    .colab-df-container {\n",
              "      display:flex;\n",
              "      flex-wrap:wrap;\n",
              "      gap: 12px;\n",
              "    }\n",
              "\n",
              "    .colab-df-convert {\n",
              "      background-color: #E8F0FE;\n",
              "      border: none;\n",
              "      border-radius: 50%;\n",
              "      cursor: pointer;\n",
              "      display: none;\n",
              "      fill: #1967D2;\n",
              "      height: 32px;\n",
              "      padding: 0 0 0 0;\n",
              "      width: 32px;\n",
              "    }\n",
              "\n",
              "    .colab-df-convert:hover {\n",
              "      background-color: #E2EBFA;\n",
              "      box-shadow: 0px 1px 2px rgba(60, 64, 67, 0.3), 0px 1px 3px 1px rgba(60, 64, 67, 0.15);\n",
              "      fill: #174EA6;\n",
              "    }\n",
              "\n",
              "    [theme=dark] .colab-df-convert {\n",
              "      background-color: #3B4455;\n",
              "      fill: #D2E3FC;\n",
              "    }\n",
              "\n",
              "    [theme=dark] .colab-df-convert:hover {\n",
              "      background-color: #434B5C;\n",
              "      box-shadow: 0px 1px 3px 1px rgba(0, 0, 0, 0.15);\n",
              "      filter: drop-shadow(0px 1px 2px rgba(0, 0, 0, 0.3));\n",
              "      fill: #FFFFFF;\n",
              "    }\n",
              "  </style>\n",
              "\n",
              "      <script>\n",
              "        const buttonEl =\n",
              "          document.querySelector('#df-00f57575-a722-45a3-b251-aff676d59e7b button.colab-df-convert');\n",
              "        buttonEl.style.display =\n",
              "          google.colab.kernel.accessAllowed ? 'block' : 'none';\n",
              "\n",
              "        async function convertToInteractive(key) {\n",
              "          const element = document.querySelector('#df-00f57575-a722-45a3-b251-aff676d59e7b');\n",
              "          const dataTable =\n",
              "            await google.colab.kernel.invokeFunction('convertToInteractive',\n",
              "                                                     [key], {});\n",
              "          if (!dataTable) return;\n",
              "\n",
              "          const docLinkHtml = 'Like what you see? Visit the ' +\n",
              "            '<a target=\"_blank\" href=https://colab.research.google.com/notebooks/data_table.ipynb>data table notebook</a>'\n",
              "            + ' to learn more about interactive tables.';\n",
              "          element.innerHTML = '';\n",
              "          dataTable['output_type'] = 'display_data';\n",
              "          await google.colab.output.renderOutput(dataTable, element);\n",
              "          const docLink = document.createElement('div');\n",
              "          docLink.innerHTML = docLinkHtml;\n",
              "          element.appendChild(docLink);\n",
              "        }\n",
              "      </script>\n",
              "    </div>\n",
              "  </div>\n",
              "  "
            ]
          },
          "metadata": {},
          "execution_count": 80
        }
      ],
      "source": [
        "# Apply one-hot encoding on column \"Age_Group\"\n",
        "df = df.sort_values('Pclass', ascending=True)\n",
        "\n",
        "df"
      ]
    },
    {
      "cell_type": "code",
      "execution_count": 81,
      "id": "ffe191b7",
      "metadata": {
        "id": "ffe191b7",
        "colab": {
          "base_uri": "https://localhost:8080/",
          "height": 487
        },
        "outputId": "4ea3244e-54b9-412d-f93a-cd7a37ed9cbc"
      },
      "outputs": [
        {
          "output_type": "execute_result",
          "data": {
            "text/plain": [
              "     PassengerId  Pclass   Age  SibSp  Parch      Fare  Embarked_C  \\\n",
              "208         1100       1  33.0      0      0   27.7208           1   \n",
              "350         1242       1  45.0      0      1   63.3583           1   \n",
              "122         1014       1  35.0      1      0   57.7500           1   \n",
              "343         1235       1  58.0      0      1  512.3292           1   \n",
              "131         1023       1  53.0      0      0   28.5000           1   \n",
              "..           ...     ...   ...    ...    ...       ...         ...   \n",
              "165         1057       3  26.0      1      1   22.0250           0   \n",
              "163         1055       3   NaN      0      0    7.0000           0   \n",
              "161         1053       3   7.0      1      1   15.2458           1   \n",
              "199         1091       3   NaN      0      0    8.1125           0   \n",
              "417         1309       3   NaN      1      1   22.3583           1   \n",
              "\n",
              "     Embarked_Q  Embarked_S  Sex_female  Sex_male  Age_Group_1  Age_Group_2  \\\n",
              "208           0           0           1         0            0            1   \n",
              "350           0           0           1         0            0            1   \n",
              "122           0           0           1         0            0            1   \n",
              "343           0           0           1         0            0            1   \n",
              "131           0           0           0         1            0            1   \n",
              "..          ...         ...         ...       ...          ...          ...   \n",
              "165           0           1           1         0            0            1   \n",
              "163           0           1           0         1            0            0   \n",
              "161           0           0           0         1            1            0   \n",
              "199           0           1           1         0            0            0   \n",
              "417           0           0           0         1            0            0   \n",
              "\n",
              "     Age_Group_3  \n",
              "208            0  \n",
              "350            0  \n",
              "122            0  \n",
              "343            0  \n",
              "131            0  \n",
              "..           ...  \n",
              "165            0  \n",
              "163            0  \n",
              "161            0  \n",
              "199            0  \n",
              "417            0  \n",
              "\n",
              "[418 rows x 14 columns]"
            ],
            "text/html": [
              "\n",
              "  <div id=\"df-d1c4d13b-8911-4da5-8acc-962267ddcb5b\">\n",
              "    <div class=\"colab-df-container\">\n",
              "      <div>\n",
              "<style scoped>\n",
              "    .dataframe tbody tr th:only-of-type {\n",
              "        vertical-align: middle;\n",
              "    }\n",
              "\n",
              "    .dataframe tbody tr th {\n",
              "        vertical-align: top;\n",
              "    }\n",
              "\n",
              "    .dataframe thead th {\n",
              "        text-align: right;\n",
              "    }\n",
              "</style>\n",
              "<table border=\"1\" class=\"dataframe\">\n",
              "  <thead>\n",
              "    <tr style=\"text-align: right;\">\n",
              "      <th></th>\n",
              "      <th>PassengerId</th>\n",
              "      <th>Pclass</th>\n",
              "      <th>Age</th>\n",
              "      <th>SibSp</th>\n",
              "      <th>Parch</th>\n",
              "      <th>Fare</th>\n",
              "      <th>Embarked_C</th>\n",
              "      <th>Embarked_Q</th>\n",
              "      <th>Embarked_S</th>\n",
              "      <th>Sex_female</th>\n",
              "      <th>Sex_male</th>\n",
              "      <th>Age_Group_1</th>\n",
              "      <th>Age_Group_2</th>\n",
              "      <th>Age_Group_3</th>\n",
              "    </tr>\n",
              "  </thead>\n",
              "  <tbody>\n",
              "    <tr>\n",
              "      <th>208</th>\n",
              "      <td>1100</td>\n",
              "      <td>1</td>\n",
              "      <td>33.0</td>\n",
              "      <td>0</td>\n",
              "      <td>0</td>\n",
              "      <td>27.7208</td>\n",
              "      <td>1</td>\n",
              "      <td>0</td>\n",
              "      <td>0</td>\n",
              "      <td>1</td>\n",
              "      <td>0</td>\n",
              "      <td>0</td>\n",
              "      <td>1</td>\n",
              "      <td>0</td>\n",
              "    </tr>\n",
              "    <tr>\n",
              "      <th>350</th>\n",
              "      <td>1242</td>\n",
              "      <td>1</td>\n",
              "      <td>45.0</td>\n",
              "      <td>0</td>\n",
              "      <td>1</td>\n",
              "      <td>63.3583</td>\n",
              "      <td>1</td>\n",
              "      <td>0</td>\n",
              "      <td>0</td>\n",
              "      <td>1</td>\n",
              "      <td>0</td>\n",
              "      <td>0</td>\n",
              "      <td>1</td>\n",
              "      <td>0</td>\n",
              "    </tr>\n",
              "    <tr>\n",
              "      <th>122</th>\n",
              "      <td>1014</td>\n",
              "      <td>1</td>\n",
              "      <td>35.0</td>\n",
              "      <td>1</td>\n",
              "      <td>0</td>\n",
              "      <td>57.7500</td>\n",
              "      <td>1</td>\n",
              "      <td>0</td>\n",
              "      <td>0</td>\n",
              "      <td>1</td>\n",
              "      <td>0</td>\n",
              "      <td>0</td>\n",
              "      <td>1</td>\n",
              "      <td>0</td>\n",
              "    </tr>\n",
              "    <tr>\n",
              "      <th>343</th>\n",
              "      <td>1235</td>\n",
              "      <td>1</td>\n",
              "      <td>58.0</td>\n",
              "      <td>0</td>\n",
              "      <td>1</td>\n",
              "      <td>512.3292</td>\n",
              "      <td>1</td>\n",
              "      <td>0</td>\n",
              "      <td>0</td>\n",
              "      <td>1</td>\n",
              "      <td>0</td>\n",
              "      <td>0</td>\n",
              "      <td>1</td>\n",
              "      <td>0</td>\n",
              "    </tr>\n",
              "    <tr>\n",
              "      <th>131</th>\n",
              "      <td>1023</td>\n",
              "      <td>1</td>\n",
              "      <td>53.0</td>\n",
              "      <td>0</td>\n",
              "      <td>0</td>\n",
              "      <td>28.5000</td>\n",
              "      <td>1</td>\n",
              "      <td>0</td>\n",
              "      <td>0</td>\n",
              "      <td>0</td>\n",
              "      <td>1</td>\n",
              "      <td>0</td>\n",
              "      <td>1</td>\n",
              "      <td>0</td>\n",
              "    </tr>\n",
              "    <tr>\n",
              "      <th>...</th>\n",
              "      <td>...</td>\n",
              "      <td>...</td>\n",
              "      <td>...</td>\n",
              "      <td>...</td>\n",
              "      <td>...</td>\n",
              "      <td>...</td>\n",
              "      <td>...</td>\n",
              "      <td>...</td>\n",
              "      <td>...</td>\n",
              "      <td>...</td>\n",
              "      <td>...</td>\n",
              "      <td>...</td>\n",
              "      <td>...</td>\n",
              "      <td>...</td>\n",
              "    </tr>\n",
              "    <tr>\n",
              "      <th>165</th>\n",
              "      <td>1057</td>\n",
              "      <td>3</td>\n",
              "      <td>26.0</td>\n",
              "      <td>1</td>\n",
              "      <td>1</td>\n",
              "      <td>22.0250</td>\n",
              "      <td>0</td>\n",
              "      <td>0</td>\n",
              "      <td>1</td>\n",
              "      <td>1</td>\n",
              "      <td>0</td>\n",
              "      <td>0</td>\n",
              "      <td>1</td>\n",
              "      <td>0</td>\n",
              "    </tr>\n",
              "    <tr>\n",
              "      <th>163</th>\n",
              "      <td>1055</td>\n",
              "      <td>3</td>\n",
              "      <td>NaN</td>\n",
              "      <td>0</td>\n",
              "      <td>0</td>\n",
              "      <td>7.0000</td>\n",
              "      <td>0</td>\n",
              "      <td>0</td>\n",
              "      <td>1</td>\n",
              "      <td>0</td>\n",
              "      <td>1</td>\n",
              "      <td>0</td>\n",
              "      <td>0</td>\n",
              "      <td>0</td>\n",
              "    </tr>\n",
              "    <tr>\n",
              "      <th>161</th>\n",
              "      <td>1053</td>\n",
              "      <td>3</td>\n",
              "      <td>7.0</td>\n",
              "      <td>1</td>\n",
              "      <td>1</td>\n",
              "      <td>15.2458</td>\n",
              "      <td>1</td>\n",
              "      <td>0</td>\n",
              "      <td>0</td>\n",
              "      <td>0</td>\n",
              "      <td>1</td>\n",
              "      <td>1</td>\n",
              "      <td>0</td>\n",
              "      <td>0</td>\n",
              "    </tr>\n",
              "    <tr>\n",
              "      <th>199</th>\n",
              "      <td>1091</td>\n",
              "      <td>3</td>\n",
              "      <td>NaN</td>\n",
              "      <td>0</td>\n",
              "      <td>0</td>\n",
              "      <td>8.1125</td>\n",
              "      <td>0</td>\n",
              "      <td>0</td>\n",
              "      <td>1</td>\n",
              "      <td>1</td>\n",
              "      <td>0</td>\n",
              "      <td>0</td>\n",
              "      <td>0</td>\n",
              "      <td>0</td>\n",
              "    </tr>\n",
              "    <tr>\n",
              "      <th>417</th>\n",
              "      <td>1309</td>\n",
              "      <td>3</td>\n",
              "      <td>NaN</td>\n",
              "      <td>1</td>\n",
              "      <td>1</td>\n",
              "      <td>22.3583</td>\n",
              "      <td>1</td>\n",
              "      <td>0</td>\n",
              "      <td>0</td>\n",
              "      <td>0</td>\n",
              "      <td>1</td>\n",
              "      <td>0</td>\n",
              "      <td>0</td>\n",
              "      <td>0</td>\n",
              "    </tr>\n",
              "  </tbody>\n",
              "</table>\n",
              "<p>418 rows × 14 columns</p>\n",
              "</div>\n",
              "      <button class=\"colab-df-convert\" onclick=\"convertToInteractive('df-d1c4d13b-8911-4da5-8acc-962267ddcb5b')\"\n",
              "              title=\"Convert this dataframe to an interactive table.\"\n",
              "              style=\"display:none;\">\n",
              "        \n",
              "  <svg xmlns=\"http://www.w3.org/2000/svg\" height=\"24px\"viewBox=\"0 0 24 24\"\n",
              "       width=\"24px\">\n",
              "    <path d=\"M0 0h24v24H0V0z\" fill=\"none\"/>\n",
              "    <path d=\"M18.56 5.44l.94 2.06.94-2.06 2.06-.94-2.06-.94-.94-2.06-.94 2.06-2.06.94zm-11 1L8.5 8.5l.94-2.06 2.06-.94-2.06-.94L8.5 2.5l-.94 2.06-2.06.94zm10 10l.94 2.06.94-2.06 2.06-.94-2.06-.94-.94-2.06-.94 2.06-2.06.94z\"/><path d=\"M17.41 7.96l-1.37-1.37c-.4-.4-.92-.59-1.43-.59-.52 0-1.04.2-1.43.59L10.3 9.45l-7.72 7.72c-.78.78-.78 2.05 0 2.83L4 21.41c.39.39.9.59 1.41.59.51 0 1.02-.2 1.41-.59l7.78-7.78 2.81-2.81c.8-.78.8-2.07 0-2.86zM5.41 20L4 18.59l7.72-7.72 1.47 1.35L5.41 20z\"/>\n",
              "  </svg>\n",
              "      </button>\n",
              "      \n",
              "  <style>\n",
              "    .colab-df-container {\n",
              "      display:flex;\n",
              "      flex-wrap:wrap;\n",
              "      gap: 12px;\n",
              "    }\n",
              "\n",
              "    .colab-df-convert {\n",
              "      background-color: #E8F0FE;\n",
              "      border: none;\n",
              "      border-radius: 50%;\n",
              "      cursor: pointer;\n",
              "      display: none;\n",
              "      fill: #1967D2;\n",
              "      height: 32px;\n",
              "      padding: 0 0 0 0;\n",
              "      width: 32px;\n",
              "    }\n",
              "\n",
              "    .colab-df-convert:hover {\n",
              "      background-color: #E2EBFA;\n",
              "      box-shadow: 0px 1px 2px rgba(60, 64, 67, 0.3), 0px 1px 3px 1px rgba(60, 64, 67, 0.15);\n",
              "      fill: #174EA6;\n",
              "    }\n",
              "\n",
              "    [theme=dark] .colab-df-convert {\n",
              "      background-color: #3B4455;\n",
              "      fill: #D2E3FC;\n",
              "    }\n",
              "\n",
              "    [theme=dark] .colab-df-convert:hover {\n",
              "      background-color: #434B5C;\n",
              "      box-shadow: 0px 1px 3px 1px rgba(0, 0, 0, 0.15);\n",
              "      filter: drop-shadow(0px 1px 2px rgba(0, 0, 0, 0.3));\n",
              "      fill: #FFFFFF;\n",
              "    }\n",
              "  </style>\n",
              "\n",
              "      <script>\n",
              "        const buttonEl =\n",
              "          document.querySelector('#df-d1c4d13b-8911-4da5-8acc-962267ddcb5b button.colab-df-convert');\n",
              "        buttonEl.style.display =\n",
              "          google.colab.kernel.accessAllowed ? 'block' : 'none';\n",
              "\n",
              "        async function convertToInteractive(key) {\n",
              "          const element = document.querySelector('#df-d1c4d13b-8911-4da5-8acc-962267ddcb5b');\n",
              "          const dataTable =\n",
              "            await google.colab.kernel.invokeFunction('convertToInteractive',\n",
              "                                                     [key], {});\n",
              "          if (!dataTable) return;\n",
              "\n",
              "          const docLinkHtml = 'Like what you see? Visit the ' +\n",
              "            '<a target=\"_blank\" href=https://colab.research.google.com/notebooks/data_table.ipynb>data table notebook</a>'\n",
              "            + ' to learn more about interactive tables.';\n",
              "          element.innerHTML = '';\n",
              "          dataTable['output_type'] = 'display_data';\n",
              "          await google.colab.output.renderOutput(dataTable, element);\n",
              "          const docLink = document.createElement('div');\n",
              "          docLink.innerHTML = docLinkHtml;\n",
              "          element.appendChild(docLink);\n",
              "        }\n",
              "      </script>\n",
              "    </div>\n",
              "  </div>\n",
              "  "
            ]
          },
          "metadata": {},
          "execution_count": 81
        }
      ],
      "source": [
        "# Apply one-hot encoding on column \"Age_Group\"\n",
        "df_test = df_test.sort_values('Pclass', ascending=True)\n",
        "\n",
        "df_test"
      ]
    },
    {
      "cell_type": "code",
      "execution_count": 82,
      "id": "45809964",
      "metadata": {
        "id": "45809964",
        "colab": {
          "base_uri": "https://localhost:8080/"
        },
        "outputId": "7ee9f19f-c275-495d-e325-cc11e499c733"
      },
      "outputs": [
        {
          "output_type": "stream",
          "name": "stdout",
          "text": [
            "df -> Number of people who are aged equal to null': 177\n"
          ]
        }
      ],
      "source": [
        "num_null_age = df['Age'].isnull().sum()\n",
        "print(\"df -> Number of people who are aged equal to null':\", num_null_age)"
      ]
    },
    {
      "cell_type": "code",
      "execution_count": 83,
      "id": "72ed1ce7",
      "metadata": {
        "id": "72ed1ce7",
        "colab": {
          "base_uri": "https://localhost:8080/"
        },
        "outputId": "7160c190-4060-4609-c697-b49c34c7201d"
      },
      "outputs": [
        {
          "output_type": "stream",
          "name": "stdout",
          "text": [
            "df_test -> Number of people who are aged equal to null': 86\n"
          ]
        }
      ],
      "source": [
        "num_null_age = df_test['Age'].isnull().sum()\n",
        "print(\"df_test -> Number of people who are aged equal to null':\", num_null_age)"
      ]
    },
    {
      "cell_type": "markdown",
      "id": "46849ee5",
      "metadata": {
        "id": "46849ee5"
      },
      "source": [
        "## df -> Number of men who are aged equal to null"
      ]
    },
    {
      "cell_type": "code",
      "execution_count": 84,
      "id": "1946dcc3",
      "metadata": {
        "id": "1946dcc3",
        "colab": {
          "base_uri": "https://localhost:8080/"
        },
        "outputId": "b6795756-0325-420d-a599-456e52218b89"
      },
      "outputs": [
        {
          "output_type": "stream",
          "name": "stdout",
          "text": [
            "Number of men who are aged equal to null: 124\n",
            "\n",
            "Number of survivor men 1 class who are aged equal to null: 5\n",
            "Number of survivor men 2 class who are aged equal to null: 2\n",
            "Number of survivor men 3 class who are aged equal to null: 9\n",
            "Number of survivor men who are aged equal to null: 16\n",
            "\n",
            "Number of non survivor men 1 class who are aged equal to null: 16\n",
            "Number of non survivor men 2 class who are aged equal to null: 7\n",
            "Number of non survivor men 3 class who are aged equal to null: 85\n",
            "Number of non-survivor men who are aged equal to null: 108\n"
          ]
        }
      ],
      "source": [
        "condition = (df['Sex_male'] == 1)\n",
        "num_nan_age = df[condition]['Age'].isnull().sum()\n",
        "print(\"Number of men who are aged equal to null:\", num_nan_age)\n",
        "print(\"\")\n",
        "\n",
        "condition = (df['Pclass'] == 1) & (df['Survived'] == 1) & (df['Sex_male'] == 1)\n",
        "num_nan_age = df[condition]['Age'].isnull().sum()\n",
        "print(\"Number of survivor men 1 class who are aged equal to null:\", num_nan_age)\n",
        "\n",
        "condition = (df['Pclass'] == 2) & (df['Survived'] == 1) & (df['Sex_male'] == 1)\n",
        "num_nan_age = df[condition]['Age'].isnull().sum()\n",
        "print(\"Number of survivor men 2 class who are aged equal to null:\", num_nan_age)\n",
        "\n",
        "condition = (df['Pclass'] == 3) & (df['Survived'] == 1) & (df['Sex_male'] == 1)\n",
        "num_nan_age = df[condition]['Age'].isnull().sum()\n",
        "print(\"Number of survivor men 3 class who are aged equal to null:\", num_nan_age)\n",
        "\n",
        "condition = (df['Survived'] == 1) & (df['Sex_male'] == 1)\n",
        "num_nan_age = df[condition]['Age'].isnull().sum()\n",
        "print(\"Number of survivor men who are aged equal to null:\", num_nan_age)\n",
        "\n",
        "print(\"\")\n",
        "\n",
        "condition = (df['Pclass'] == 1) & (df['Survived'] == 0) & (df['Sex_male'] == 1)\n",
        "num_nan_age = df[condition]['Age'].isnull().sum()\n",
        "print(\"Number of non survivor men 1 class who are aged equal to null:\", num_nan_age)\n",
        "\n",
        "condition = (df['Pclass'] == 2) & (df['Survived'] == 0) & (df['Sex_male'] == 1)\n",
        "num_nan_age = df[condition]['Age'].isnull().sum()\n",
        "print(\"Number of non survivor men 2 class who are aged equal to null:\", num_nan_age)\n",
        "\n",
        "condition = (df['Pclass'] == 3) & (df['Survived'] == 0) & (df['Sex_male'] == 1)\n",
        "num_nan_age = df[condition]['Age'].isnull().sum()\n",
        "print(\"Number of non survivor men 3 class who are aged equal to null:\", num_nan_age)\n",
        "\n",
        "condition = (df['Survived'] == 0) & (df['Sex_male'] == 1)\n",
        "num_nan_age = df[condition]['Age'].isnull().sum()\n",
        "print(\"Number of non-survivor men who are aged equal to null:\", num_nan_age)\n"
      ]
    },
    {
      "cell_type": "markdown",
      "id": "5e318f69",
      "metadata": {
        "id": "5e318f69"
      },
      "source": [
        "## df -> Number of women who are aged equal to null"
      ]
    },
    {
      "cell_type": "code",
      "execution_count": 85,
      "id": "a591d507",
      "metadata": {
        "id": "a591d507",
        "colab": {
          "base_uri": "https://localhost:8080/"
        },
        "outputId": "cf3df170-be64-457f-9c5c-a08f6fd5a937"
      },
      "outputs": [
        {
          "output_type": "stream",
          "name": "stdout",
          "text": [
            "Number of women who are aged equal to null: 53\n",
            "\n",
            "Number of survivor women 1 class who are aged equal to null: 9\n",
            "Number of survivor women 2 class who are aged equal to null: 2\n",
            "Number of survivor women 3 class who are aged equal to null: 25\n",
            "Number of survivor women who are aged equal to null: 36\n",
            "\n",
            "Number of non survivor women 1 class who are aged equal to null: 0\n",
            "Number of non survivor women 2 class who are aged equal to null: 0\n",
            "Number of non survivor women 3 class who are aged equal to null: 17\n",
            "Number of non-survivor women who are aged equal to null: 17\n"
          ]
        }
      ],
      "source": [
        "condition = (df['Sex_female'] == 1)\n",
        "num_nan_age = df[condition]['Age'].isnull().sum()\n",
        "print(\"Number of women who are aged equal to null:\", num_nan_age)\n",
        "print(\"\")\n",
        "\n",
        "condition = (df['Pclass'] == 1) & (df['Survived'] == 1) & (df['Sex_female'] == 1)\n",
        "num_nan_age = df[condition]['Age'].isnull().sum()\n",
        "print(\"Number of survivor women 1 class who are aged equal to null:\", num_nan_age)\n",
        "\n",
        "condition = (df['Pclass'] == 2) & (df['Survived'] == 1) & (df['Sex_female'] == 1)\n",
        "num_nan_age = df[condition]['Age'].isnull().sum()\n",
        "print(\"Number of survivor women 2 class who are aged equal to null:\", num_nan_age)\n",
        "\n",
        "condition = (df['Pclass'] == 3) & (df['Survived'] == 1) & (df['Sex_female'] == 1)\n",
        "num_nan_age = df[condition]['Age'].isnull().sum()\n",
        "print(\"Number of survivor women 3 class who are aged equal to null:\", num_nan_age)\n",
        "\n",
        "condition = (df['Survived'] == 1) & (df['Sex_female'] == 1)\n",
        "num_nan_age = df[condition]['Age'].isnull().sum()\n",
        "print(\"Number of survivor women who are aged equal to null:\", num_nan_age)\n",
        "\n",
        "print(\"\")\n",
        "\n",
        "condition = (df['Pclass'] == 1) & (df['Survived'] == 0) & (df['Sex_female'] == 1)\n",
        "num_nan_age = df[condition]['Age'].isnull().sum()\n",
        "print(\"Number of non survivor women 1 class who are aged equal to null:\", num_nan_age)\n",
        "\n",
        "condition = (df['Pclass'] == 2) & (df['Survived'] == 0) & (df['Sex_female'] == 1)\n",
        "num_nan_age = df[condition]['Age'].isnull().sum()\n",
        "print(\"Number of non survivor women 2 class who are aged equal to null:\", num_nan_age)\n",
        "\n",
        "condition = (df['Pclass'] == 3) & (df['Survived'] == 0) & (df['Sex_female'] == 1)\n",
        "num_nan_age = df[condition]['Age'].isnull().sum()\n",
        "print(\"Number of non survivor women 3 class who are aged equal to null:\", num_nan_age)\n",
        "\n",
        "condition = (df['Survived'] == 0) & (df['Sex_female'] == 1)\n",
        "num_nan_age = df[condition]['Age'].isnull().sum()\n",
        "print(\"Number of non-survivor women who are aged equal to null:\", num_nan_age)"
      ]
    },
    {
      "cell_type": "markdown",
      "id": "540a96a9",
      "metadata": {
        "id": "540a96a9"
      },
      "source": [
        "## df -> Survived=1, Pclass=1, Sex_male=1"
      ]
    },
    {
      "cell_type": "code",
      "execution_count": 86,
      "id": "ccf7256f",
      "metadata": {
        "colab": {
          "base_uri": "https://localhost:8080/"
        },
        "id": "ccf7256f",
        "outputId": "2c73699f-d13f-4e20-f186-c4ad9d26c73b"
      },
      "outputs": [
        {
          "output_type": "stream",
          "name": "stdout",
          "text": [
            "Number of people who are aged equal to null: 5\n",
            "Average age before outlier removal:  36.248000000000005\n",
            "Average age after outlier removal:  35.12615384615385\n",
            "Final average age:  36.123350427350424\n"
          ]
        }
      ],
      "source": [
        "condition = (df['Survived'] == 1) & (df['Pclass'] == 1) & (df['Sex_male'] == 1)\n",
        "\n",
        "num_nan_age = df[condition]['Age'].isnull().sum()\n",
        "print(\"Number of people who are aged equal to null:\", num_nan_age)\n",
        "\n",
        "# Calculate the mean age before outlier removal\n",
        "mean_age = df.loc[condition, 'Age'].mean()\n",
        "print('Average age before outlier removal: ', mean_age)\n",
        "\n",
        "# Calculate the mean age after outlier removal\n",
        "mean_age = df.loc[condition & (df['Age'] < 65), 'Age'].mean()\n",
        "print('Average age after outlier removal: ', mean_age)\n",
        "\n",
        "# Fill in the null values of the \"Age\" column with the mean\n",
        "df.loc[condition, 'Age'] = df.loc[condition, 'Age'].fillna(mean_age)\n",
        "\n",
        "# Calculate the mean age\n",
        "mean_age = df.loc[condition, 'Age'].mean()\n",
        "print('Final average age: ', mean_age)\n",
        "\n",
        "#show df by age\n",
        "#df_filtered = df.loc[(df['Survived'] == 1) & (df['Pclass'] == 1) & (df['Sex_male'] == 1)]\n",
        "#df_filtered_sorted = df_filtered.sort_values(by='Age')\n",
        "#print(df_filtered_sorted)\n"
      ]
    },
    {
      "cell_type": "markdown",
      "id": "48ee2c41",
      "metadata": {
        "id": "48ee2c41"
      },
      "source": [
        "## df -> Survived=0, Pclass=1, Sex_male=1"
      ]
    },
    {
      "cell_type": "code",
      "execution_count": 87,
      "id": "66dede3d",
      "metadata": {
        "colab": {
          "base_uri": "https://localhost:8080/"
        },
        "id": "66dede3d",
        "outputId": "30023526-d3b2-4448-fbd3-bf6689cd300d"
      },
      "outputs": [
        {
          "output_type": "stream",
          "name": "stdout",
          "text": [
            "Number of people for the specified conditions: 16\n",
            "Average age:  44.58196721311475\n"
          ]
        }
      ],
      "source": [
        "condition = (df['Survived'] == 0) & (df['Pclass'] == 1) & (df['Sex_male'] == 1)\n",
        "\n",
        "num_nan_age = df[condition]['Age'].isnull().sum()\n",
        "print(\"Number of people for the specified conditions:\", num_nan_age)\n",
        "\n",
        "# Filter the DataFrame with conditions and age not null\n",
        "filtered_df = df[condition & df['Age'].notnull()]\n",
        "\n",
        "# Calculate the mean age\n",
        "mean_age = filtered_df['Age'].mean()\n",
        "\n",
        "# Fill in the null values of the \"Age\" column with the mean\n",
        "df.loc[condition, 'Age'] = df.loc[condition, 'Age'].fillna(mean_age)\n",
        "\n",
        "# Calculate the mean age\n",
        "mean_age = filtered_df['Age'].mean()\n",
        "print('Average age: ', mean_age)"
      ]
    },
    {
      "cell_type": "markdown",
      "id": "c8ca6722",
      "metadata": {
        "id": "c8ca6722"
      },
      "source": [
        "## df -> Survived=1, Pclass=2, Sex_male=1"
      ]
    },
    {
      "cell_type": "code",
      "execution_count": 88,
      "id": "0d1f95ce",
      "metadata": {
        "id": "0d1f95ce",
        "outputId": "8a2913e1-6caa-4e20-cce7-168b4884e360",
        "colab": {
          "base_uri": "https://localhost:8080/"
        }
      },
      "outputs": [
        {
          "output_type": "stream",
          "name": "stdout",
          "text": [
            "Number of people who are aged equal to null: 2\n",
            "Average age:  16.022\n"
          ]
        }
      ],
      "source": [
        "condition = (df['Survived'] == 1) & (df['Pclass'] == 2) & (df['Sex_male'] == 1)\n",
        "\n",
        "num_nan_age = df[condition]['Age'].isnull().sum()\n",
        "print(\"Number of people who are aged equal to null:\", num_nan_age)\n",
        "\n",
        "# Filter the DataFrame with conditions and age not null\n",
        "filtered_df = df[condition & df['Age'].notnull()]\n",
        "\n",
        "# Calculate the mean age\n",
        "mean_age = filtered_df['Age'].mean()\n",
        "\n",
        "# Fill in the null values of the \"Age\" column with the mean\n",
        "df.loc[condition, 'Age'] = df.loc[condition, 'Age'].fillna(mean_age)\n",
        "\n",
        "# Calculate the mean age\n",
        "mean_age = filtered_df['Age'].mean()\n",
        "print('Average age: ', mean_age)"
      ]
    },
    {
      "cell_type": "markdown",
      "id": "9c5dc9d3",
      "metadata": {
        "id": "9c5dc9d3"
      },
      "source": [
        "## df -> Survived=0, Pclass=2, Sex_male=1"
      ]
    },
    {
      "cell_type": "code",
      "execution_count": 89,
      "id": "a6436f59",
      "metadata": {
        "id": "a6436f59",
        "outputId": "a30239de-acad-4248-b8f3-049fdd62697e",
        "colab": {
          "base_uri": "https://localhost:8080/"
        }
      },
      "outputs": [
        {
          "output_type": "stream",
          "name": "stdout",
          "text": [
            "Number of people who are aged equal to null: 7\n",
            "Average age:  33.36904761904762\n"
          ]
        }
      ],
      "source": [
        "condition = (df['Survived'] == 0) & (df['Pclass'] == 2) & (df['Sex_male'] == 1)\n",
        "\n",
        "num_nan_age = df[condition]['Age'].isnull().sum()\n",
        "print(\"Number of people who are aged equal to null:\", num_nan_age)\n",
        "\n",
        "# Filter the DataFrame with conditions and age not null\n",
        "filtered_df = df[condition & df['Age'].notnull()]\n",
        "\n",
        "# Calculate the mean age\n",
        "mean_age = filtered_df['Age'].mean()\n",
        "\n",
        "# Fill in the null values of the \"Age\" column with the mean\n",
        "df.loc[condition, 'Age'] = df.loc[condition, 'Age'].fillna(mean_age)\n",
        "\n",
        "# Calculate the mean age\n",
        "mean_age = filtered_df['Age'].mean()\n",
        "print('Average age: ', mean_age)"
      ]
    },
    {
      "cell_type": "markdown",
      "id": "672ac00b",
      "metadata": {
        "id": "672ac00b"
      },
      "source": [
        "## df -> Survived=1, Pclass=3, Sex_male=1"
      ]
    },
    {
      "cell_type": "code",
      "execution_count": 90,
      "id": "5b0b43ef",
      "metadata": {
        "id": "5b0b43ef",
        "outputId": "75f00299-5cb3-440a-b49c-6fced2a54c20",
        "colab": {
          "base_uri": "https://localhost:8080/"
        }
      },
      "outputs": [
        {
          "output_type": "stream",
          "name": "stdout",
          "text": [
            "Number of people who are aged equal to null: 9\n",
            "Average age:  22.27421052631579\n"
          ]
        }
      ],
      "source": [
        "condition = (df['Survived'] == 1) & (df['Pclass'] == 3) & (df['Sex_male'] == 1)\n",
        "\n",
        "num_nan_age = df[condition]['Age'].isnull().sum()\n",
        "print(\"Number of people who are aged equal to null:\", num_nan_age)\n",
        "\n",
        "# Filter the DataFrame with conditions and age not null\n",
        "filtered_df = df[condition & df['Age'].notnull()]\n",
        "\n",
        "# Calculate the mean age\n",
        "mean_age = filtered_df['Age'].mean()\n",
        "\n",
        "# Fill in the null values of the \"Age\" column with the mean\n",
        "df.loc[condition, 'Age'] = df.loc[condition, 'Age'].fillna(mean_age)\n",
        "\n",
        "# Calculate the mean age\n",
        "mean_age = filtered_df['Age'].mean()\n",
        "print('Average age: ', mean_age)\n"
      ]
    },
    {
      "cell_type": "markdown",
      "id": "47662cd9",
      "metadata": {
        "id": "47662cd9"
      },
      "source": [
        "##  df -> Survived=0, Pclass=3, Sex_male=1"
      ]
    },
    {
      "cell_type": "code",
      "execution_count": 91,
      "id": "66c38b9f",
      "metadata": {
        "id": "66c38b9f",
        "outputId": "0da413ce-8460-4a85-e2a2-2499e2a5768d",
        "colab": {
          "base_uri": "https://localhost:8080/"
        }
      },
      "outputs": [
        {
          "output_type": "stream",
          "name": "stdout",
          "text": [
            "Number of people who are aged equal to null: 85\n",
            "Average age:  27.25581395348837\n"
          ]
        }
      ],
      "source": [
        "condition = (df['Survived'] == 0) & (df['Pclass'] == 3) & (df['Sex_male'] == 1)\n",
        "\n",
        "num_nan_age = df[condition]['Age'].isnull().sum()\n",
        "print(\"Number of people who are aged equal to null:\", num_nan_age)\n",
        "\n",
        "# Filter the DataFrame with conditions and age not null\n",
        "filtered_df = df[condition & df['Age'].notnull()]\n",
        "\n",
        "# Calculate the mean age\n",
        "mean_age = filtered_df['Age'].mean()\n",
        "\n",
        "# Fill in the null values of the \"Age\" column with the mean\n",
        "df.loc[condition, 'Age'] = df.loc[condition, 'Age'].fillna(mean_age)\n",
        "\n",
        "# Calculate the mean age\n",
        "mean_age = filtered_df['Age'].mean()\n",
        "print('Average age: ', mean_age)\n"
      ]
    },
    {
      "cell_type": "markdown",
      "id": "28a16cfc",
      "metadata": {
        "id": "28a16cfc"
      },
      "source": [
        "## df ->  Survived=1, Sex_male=1"
      ]
    },
    {
      "cell_type": "code",
      "execution_count": 92,
      "id": "3d41af83",
      "metadata": {
        "id": "3d41af83",
        "outputId": "674e97f0-f34b-409e-dea9-da94efb73da9",
        "colab": {
          "base_uri": "https://localhost:8080/"
        }
      },
      "outputs": [
        {
          "output_type": "stream",
          "name": "stdout",
          "text": [
            "Average age:  5.072608695652174\n"
          ]
        }
      ],
      "source": [
        "condition = (df['Age_Group_1'] == 1) & (df['Survived'] == 1) & (df['Sex_male'] == 1)\n",
        "\n",
        "# Filter the DataFrame with conditions and age not null\n",
        "filtered_df = df[condition & df['Age'].notnull()]\n",
        "\n",
        "# Calculate the mean age\n",
        "mean_age = filtered_df['Age'].mean()\n",
        "print('Average age: ', mean_age)"
      ]
    },
    {
      "cell_type": "code",
      "execution_count": 93,
      "id": "94e0878d",
      "metadata": {
        "id": "94e0878d",
        "outputId": "c56543c2-d0c4-454a-c167-ab9e0b8a85c0",
        "colab": {
          "base_uri": "https://localhost:8080/"
        }
      },
      "outputs": [
        {
          "output_type": "stream",
          "name": "stdout",
          "text": [
            "Average age:  27.016629944656987\n"
          ]
        }
      ],
      "source": [
        "condition = (df['Survived'] == 1) & (df['Sex_male'] == 1)\n",
        "\n",
        "# Filter the DataFrame with conditions and age not null\n",
        "filtered_df = df[condition & df['Age'].notnull()]\n",
        "\n",
        "# Calculate the mean age\n",
        "mean_age = filtered_df['Age'].mean()\n",
        "print('Average age: ', mean_age)"
      ]
    },
    {
      "cell_type": "markdown",
      "id": "2bd1c9dc",
      "metadata": {
        "id": "2bd1c9dc"
      },
      "source": [
        "## ============================================"
      ]
    },
    {
      "cell_type": "markdown",
      "id": "bfc2eab6",
      "metadata": {
        "id": "bfc2eab6"
      },
      "source": [
        "## df ->  Survived=1, Pclass=1, Sex_female=1"
      ]
    },
    {
      "cell_type": "code",
      "execution_count": 94,
      "id": "0767f904",
      "metadata": {
        "id": "0767f904",
        "outputId": "79946b58-2114-425b-cd00-6236c978deea",
        "colab": {
          "base_uri": "https://localhost:8080/"
        }
      },
      "outputs": [
        {
          "output_type": "stream",
          "name": "stdout",
          "text": [
            "Number of people for the specified conditions: 9\n",
            "Average age:  34.9390243902439\n"
          ]
        }
      ],
      "source": [
        "condition = (df['Survived'] == 1) & (df['Pclass'] == 1) & (df['Sex_female'] == 1)\n",
        "\n",
        "num_nan_age = df[condition]['Age'].isnull().sum()\n",
        "print(\"Number of people for the specified conditions:\", num_nan_age)\n",
        "\n",
        "# Filter the DataFrame with conditions and age not null\n",
        "filtered_df = df[condition & df['Age'].notnull()]\n",
        "\n",
        "# Calculate the mean age\n",
        "mean_age = filtered_df['Age'].mean()\n",
        "\n",
        "# Fill in the null values of the \"Age\" column with the mean\n",
        "df.loc[condition, 'Age'] = df.loc[condition, 'Age'].fillna(mean_age)\n",
        "\n",
        "# Calculate the mean age\n",
        "mean_age = filtered_df['Age'].mean()\n",
        "print('Average age: ', mean_age)"
      ]
    },
    {
      "cell_type": "markdown",
      "id": "3b3e591a",
      "metadata": {
        "id": "3b3e591a"
      },
      "source": [
        "##  df -> Survived=0, Pclass=1, Sex_female=1"
      ]
    },
    {
      "cell_type": "code",
      "execution_count": 95,
      "id": "f9456e5e",
      "metadata": {
        "id": "f9456e5e",
        "outputId": "b81a7fd5-9673-493c-ac69-219235affc7a",
        "colab": {
          "base_uri": "https://localhost:8080/"
        }
      },
      "outputs": [
        {
          "output_type": "stream",
          "name": "stdout",
          "text": [
            "Number of people for the specified conditions: 0\n",
            "Average age:  25.666666666666668\n"
          ]
        }
      ],
      "source": [
        "condition = (df['Survived'] == 0) & (df['Pclass'] == 1) & (df['Sex_female'] == 1)\n",
        "\n",
        "num_nan_age = df[condition]['Age'].isnull().sum()\n",
        "print(\"Number of people for the specified conditions:\", num_nan_age)\n",
        "\n",
        "# Filter the DataFrame with conditions and age not null\n",
        "filtered_df = df[condition & df['Age'].notnull()]\n",
        "\n",
        "# Calculate the mean age\n",
        "mean_age = filtered_df['Age'].mean()\n",
        "\n",
        "# Fill in the null values of the \"Age\" column with the mean\n",
        "df.loc[condition, 'Age'] = df.loc[condition, 'Age'].fillna(mean_age)\n",
        "\n",
        "# Calculate the mean age\n",
        "mean_age = filtered_df['Age'].mean()\n",
        "print('Average age: ', mean_age)"
      ]
    },
    {
      "cell_type": "markdown",
      "id": "5257cf26",
      "metadata": {
        "id": "5257cf26"
      },
      "source": [
        "## df ->  Survived=1, Pclass=2, Sex_female=1"
      ]
    },
    {
      "cell_type": "code",
      "execution_count": 96,
      "id": "d677e583",
      "metadata": {
        "id": "d677e583",
        "outputId": "98c045e9-b3bb-4cdd-d38c-57ee34857883",
        "colab": {
          "base_uri": "https://localhost:8080/"
        }
      },
      "outputs": [
        {
          "output_type": "stream",
          "name": "stdout",
          "text": [
            "Number of people for the specified conditions: 2\n",
            "Average age:  28.080882352941178\n"
          ]
        }
      ],
      "source": [
        "condition = (df['Survived'] == 1) & (df['Pclass'] == 2) & (df['Sex_female'] == 1)\n",
        "\n",
        "num_nan_age = df[condition]['Age'].isnull().sum()\n",
        "print(\"Number of people for the specified conditions:\", num_nan_age)\n",
        "\n",
        "# Filter the DataFrame with conditions and age not null\n",
        "filtered_df = df[condition & df['Age'].notnull()]\n",
        "\n",
        "# Calculate the mean age\n",
        "mean_age = filtered_df['Age'].mean()\n",
        "\n",
        "# Fill in the null values of the \"Age\" column with the mean\n",
        "df.loc[condition, 'Age'] = df.loc[condition, 'Age'].fillna(mean_age)\n",
        "\n",
        "# Calculate the mean age\n",
        "mean_age = filtered_df['Age'].mean()\n",
        "print('Average age: ', mean_age)"
      ]
    },
    {
      "cell_type": "markdown",
      "id": "cf75b947",
      "metadata": {
        "id": "cf75b947"
      },
      "source": [
        "##  df -> Survived=0, Pclass=2, Sex_female=1"
      ]
    },
    {
      "cell_type": "code",
      "execution_count": 97,
      "id": "40b1ae52",
      "metadata": {
        "id": "40b1ae52",
        "outputId": "700ec1f4-95bd-4548-edb7-42b5bd789995",
        "colab": {
          "base_uri": "https://localhost:8080/"
        }
      },
      "outputs": [
        {
          "output_type": "stream",
          "name": "stdout",
          "text": [
            "Number of people for the specified conditions: 0\n",
            "Average age:  36.0\n"
          ]
        }
      ],
      "source": [
        "condition = (df['Survived'] == 0) & (df['Pclass'] == 2) & (df['Sex_female'] == 1)\n",
        "\n",
        "num_nan_age = df[condition]['Age'].isnull().sum()\n",
        "print(\"Number of people for the specified conditions:\", num_nan_age)\n",
        "\n",
        "# Filter the DataFrame with conditions and age not null\n",
        "filtered_df = df[condition & df['Age'].notnull()]\n",
        "\n",
        "# Calculate the mean age\n",
        "mean_age = filtered_df['Age'].mean()\n",
        "\n",
        "# Fill in the null values of the \"Age\" column with the mean\n",
        "df.loc[condition, 'Age'] = df.loc[condition, 'Age'].fillna(mean_age)\n",
        "\n",
        "# Calculate the mean age\n",
        "mean_age = filtered_df['Age'].mean()\n",
        "print('Average age: ', mean_age)"
      ]
    },
    {
      "cell_type": "markdown",
      "id": "bec5fc1e",
      "metadata": {
        "id": "bec5fc1e"
      },
      "source": [
        "## df ->  Survived=1, Pclass=3, Sex_female=1"
      ]
    },
    {
      "cell_type": "code",
      "execution_count": 98,
      "id": "b3096bb5",
      "metadata": {
        "id": "b3096bb5",
        "outputId": "eb5563cc-e8e0-481e-cbfa-62506deeba38",
        "colab": {
          "base_uri": "https://localhost:8080/"
        }
      },
      "outputs": [
        {
          "output_type": "stream",
          "name": "stdout",
          "text": [
            "Number of people for the specified conditions: 25\n",
            "Average age:  19.329787234042552\n"
          ]
        }
      ],
      "source": [
        "condition = (df['Survived'] == 1) & (df['Pclass'] == 3) & (df['Sex_female'] == 1)\n",
        "\n",
        "num_nan_age = df[condition]['Age'].isnull().sum()\n",
        "print(\"Number of people for the specified conditions:\", num_nan_age)\n",
        "\n",
        "# Filter the DataFrame with conditions and age not null\n",
        "filtered_df = df[condition & df['Age'].notnull()]\n",
        "\n",
        "# Calculate the mean age\n",
        "mean_age = filtered_df['Age'].mean()\n",
        "\n",
        "# Fill in the null values of the \"Age\" column with the mean\n",
        "df.loc[condition, 'Age'] = df.loc[condition, 'Age'].fillna(mean_age)\n",
        "\n",
        "# Calculate the mean age\n",
        "mean_age = filtered_df['Age'].mean()\n",
        "print('Average age: ', mean_age)"
      ]
    },
    {
      "cell_type": "markdown",
      "id": "2315f535",
      "metadata": {
        "id": "2315f535"
      },
      "source": [
        "## df ->  Survived=0, Pclass=3, Sex_female=1"
      ]
    },
    {
      "cell_type": "code",
      "execution_count": 99,
      "id": "54c23369",
      "metadata": {
        "id": "54c23369",
        "outputId": "30678522-1b40-4d13-af9f-f4f9c8a79bc2",
        "colab": {
          "base_uri": "https://localhost:8080/"
        }
      },
      "outputs": [
        {
          "output_type": "stream",
          "name": "stdout",
          "text": [
            "Number of people for the specified conditions: 17\n",
            "Average age:  23.818181818181817\n"
          ]
        }
      ],
      "source": [
        "condition = (df['Survived'] == 0) & (df['Pclass'] == 3) & (df['Sex_female'] == 1)\n",
        "\n",
        "num_nan_age = df[condition]['Age'].isnull().sum()\n",
        "print(\"Number of people for the specified conditions:\", num_nan_age)\n",
        "\n",
        "# Filter the DataFrame with conditions and age not null\n",
        "filtered_df = df[condition & df['Age'].notnull()]\n",
        "\n",
        "# Calculate the mean age\n",
        "mean_age = filtered_df['Age'].mean()\n",
        "\n",
        "# Fill in the null values of the \"Age\" column with the mean\n",
        "df.loc[condition, 'Age'] = df.loc[condition, 'Age'].fillna(mean_age)\n",
        "\n",
        "# Calculate the mean age\n",
        "mean_age = filtered_df['Age'].mean()\n",
        "print('Average age: ', mean_age)"
      ]
    },
    {
      "cell_type": "code",
      "execution_count": 100,
      "id": "fad56c6d",
      "metadata": {
        "id": "fad56c6d",
        "outputId": "f154c43c-5503-4761-9765-0ae224a4d7ed",
        "colab": {
          "base_uri": "https://localhost:8080/"
        }
      },
      "outputs": [
        {
          "output_type": "stream",
          "name": "stdout",
          "text": [
            "<class 'pandas.core.frame.DataFrame'>\n",
            "Int64Index: 891 entries, 445 to 890\n",
            "Data columns (total 15 columns):\n",
            " #   Column       Non-Null Count  Dtype  \n",
            "---  ------       --------------  -----  \n",
            " 0   PassengerId  891 non-null    int64  \n",
            " 1   Survived     891 non-null    int64  \n",
            " 2   Pclass       891 non-null    int64  \n",
            " 3   Age          891 non-null    float64\n",
            " 4   SibSp        891 non-null    int64  \n",
            " 5   Parch        891 non-null    int64  \n",
            " 6   Fare         891 non-null    float64\n",
            " 7   Embarked_C   891 non-null    uint8  \n",
            " 8   Embarked_Q   891 non-null    uint8  \n",
            " 9   Embarked_S   891 non-null    uint8  \n",
            " 10  Sex_female   891 non-null    uint8  \n",
            " 11  Sex_male     891 non-null    uint8  \n",
            " 12  Age_Group_1  891 non-null    uint8  \n",
            " 13  Age_Group_2  891 non-null    uint8  \n",
            " 14  Age_Group_3  891 non-null    uint8  \n",
            "dtypes: float64(2), int64(5), uint8(8)\n",
            "memory usage: 62.6 KB\n"
          ]
        }
      ],
      "source": [
        "df.info()"
      ]
    },
    {
      "cell_type": "markdown",
      "id": "bed280ff",
      "metadata": {
        "id": "bed280ff"
      },
      "source": [
        "## df_test -> Number of men who are aged equal to null"
      ]
    },
    {
      "cell_type": "code",
      "execution_count": 101,
      "id": "58a211de",
      "metadata": {
        "id": "58a211de",
        "outputId": "571bbd4d-8f2b-4341-9a3d-4b9cda2c2125",
        "colab": {
          "base_uri": "https://localhost:8080/"
        }
      },
      "outputs": [
        {
          "output_type": "stream",
          "name": "stdout",
          "text": [
            "Number of men who are aged equal to null: 61\n",
            "\n",
            "Number of men 1 class who are aged equal to null: 7\n",
            "Number of men 2 class who are aged equal to null: 4\n",
            "Number of men 3 class who are aged equal to null: 50\n"
          ]
        }
      ],
      "source": [
        "condition = (df_test['Sex_male'] == 1)\n",
        "num_nan_age = df_test[condition]['Age'].isnull().sum()\n",
        "print(\"Number of men who are aged equal to null:\", num_nan_age)\n",
        "print(\"\")\n",
        "\n",
        "condition = (df_test['Pclass'] == 1) & (df_test['Sex_male'] == 1)\n",
        "num_nan_age = df_test[condition]['Age'].isnull().sum()\n",
        "print(\"Number of men 1 class who are aged equal to null:\", num_nan_age)\n",
        "\n",
        "condition = (df_test['Pclass'] == 2) & (df_test['Sex_male'] == 1)\n",
        "num_nan_age = df_test[condition]['Age'].isnull().sum()\n",
        "print(\"Number of men 2 class who are aged equal to null:\", num_nan_age)\n",
        "\n",
        "condition = (df_test['Pclass'] == 3) & (df_test['Sex_male'] == 1)\n",
        "num_nan_age = df_test[condition]['Age'].isnull().sum()\n",
        "print(\"Number of men 3 class who are aged equal to null:\", num_nan_age)"
      ]
    },
    {
      "cell_type": "markdown",
      "id": "bb39bd08",
      "metadata": {
        "id": "bb39bd08"
      },
      "source": [
        "## df_test -> Number of women who are aged equal to null"
      ]
    },
    {
      "cell_type": "code",
      "execution_count": 102,
      "id": "11baa48c",
      "metadata": {
        "id": "11baa48c",
        "outputId": "1fc7e568-5511-49f9-d6e4-841c5bd0f573",
        "colab": {
          "base_uri": "https://localhost:8080/"
        }
      },
      "outputs": [
        {
          "output_type": "stream",
          "name": "stdout",
          "text": [
            "Number of women who are aged equal to null: 25\n",
            "\n",
            "Number of survivor women 1 class who are aged equal to null: 2\n",
            "Number of survivor women 2 class who are aged equal to null: 1\n",
            "Number of survivor women 3 class who are aged equal to null: 22\n"
          ]
        }
      ],
      "source": [
        "condition = (df_test['Sex_female'] == 1)\n",
        "num_nan_age = df_test[condition]['Age'].isnull().sum()\n",
        "print(\"Number of women who are aged equal to null:\", num_nan_age)\n",
        "print(\"\")\n",
        "\n",
        "condition = (df_test['Pclass'] == 1) & (df_test['Sex_female'] == 1)\n",
        "num_nan_age = df_test[condition]['Age'].isnull().sum()\n",
        "print(\"Number of survivor women 1 class who are aged equal to null:\", num_nan_age)\n",
        "\n",
        "condition = (df_test['Pclass'] == 2) & (df_test['Sex_female'] == 1)\n",
        "num_nan_age = df_test[condition]['Age'].isnull().sum()\n",
        "print(\"Number of survivor women 2 class who are aged equal to null:\", num_nan_age)\n",
        "\n",
        "condition = (df_test['Pclass'] == 3) & (df_test['Sex_female'] == 1)\n",
        "num_nan_age = df_test[condition]['Age'].isnull().sum()\n",
        "print(\"Number of survivor women 3 class who are aged equal to null:\", num_nan_age)"
      ]
    },
    {
      "cell_type": "code",
      "execution_count": 103,
      "id": "4386ad32",
      "metadata": {
        "id": "4386ad32",
        "outputId": "366e00df-2a43-4a99-a4b2-0c58f3ee0cae",
        "colab": {
          "base_uri": "https://localhost:8080/",
          "height": 487
        }
      },
      "outputs": [
        {
          "output_type": "display_data",
          "data": {
            "text/plain": [
              "     PassengerId  Pclass   Age  SibSp  Parch      Fare  Embarked_C  \\\n",
              "208         1100       1  33.0      0      0   27.7208           1   \n",
              "350         1242       1  45.0      0      1   63.3583           1   \n",
              "122         1014       1  35.0      1      0   57.7500           1   \n",
              "343         1235       1  58.0      0      1  512.3292           1   \n",
              "131         1023       1  53.0      0      0   28.5000           1   \n",
              "..           ...     ...   ...    ...    ...       ...         ...   \n",
              "165         1057       3  26.0      1      1   22.0250           0   \n",
              "163         1055       3   NaN      0      0    7.0000           0   \n",
              "161         1053       3   7.0      1      1   15.2458           1   \n",
              "199         1091       3   NaN      0      0    8.1125           0   \n",
              "417         1309       3   NaN      1      1   22.3583           1   \n",
              "\n",
              "     Embarked_Q  Embarked_S  Sex_female  Sex_male  Age_Group_1  Age_Group_2  \\\n",
              "208           0           0           1         0            0            1   \n",
              "350           0           0           1         0            0            1   \n",
              "122           0           0           1         0            0            1   \n",
              "343           0           0           1         0            0            1   \n",
              "131           0           0           0         1            0            1   \n",
              "..          ...         ...         ...       ...          ...          ...   \n",
              "165           0           1           1         0            0            1   \n",
              "163           0           1           0         1            0            0   \n",
              "161           0           0           0         1            1            0   \n",
              "199           0           1           1         0            0            0   \n",
              "417           0           0           0         1            0            0   \n",
              "\n",
              "     Age_Group_3  \n",
              "208            0  \n",
              "350            0  \n",
              "122            0  \n",
              "343            0  \n",
              "131            0  \n",
              "..           ...  \n",
              "165            0  \n",
              "163            0  \n",
              "161            0  \n",
              "199            0  \n",
              "417            0  \n",
              "\n",
              "[418 rows x 14 columns]"
            ],
            "text/html": [
              "\n",
              "  <div id=\"df-f38f8489-d812-460e-b3b7-e09d731a30b4\">\n",
              "    <div class=\"colab-df-container\">\n",
              "      <div>\n",
              "<style scoped>\n",
              "    .dataframe tbody tr th:only-of-type {\n",
              "        vertical-align: middle;\n",
              "    }\n",
              "\n",
              "    .dataframe tbody tr th {\n",
              "        vertical-align: top;\n",
              "    }\n",
              "\n",
              "    .dataframe thead th {\n",
              "        text-align: right;\n",
              "    }\n",
              "</style>\n",
              "<table border=\"1\" class=\"dataframe\">\n",
              "  <thead>\n",
              "    <tr style=\"text-align: right;\">\n",
              "      <th></th>\n",
              "      <th>PassengerId</th>\n",
              "      <th>Pclass</th>\n",
              "      <th>Age</th>\n",
              "      <th>SibSp</th>\n",
              "      <th>Parch</th>\n",
              "      <th>Fare</th>\n",
              "      <th>Embarked_C</th>\n",
              "      <th>Embarked_Q</th>\n",
              "      <th>Embarked_S</th>\n",
              "      <th>Sex_female</th>\n",
              "      <th>Sex_male</th>\n",
              "      <th>Age_Group_1</th>\n",
              "      <th>Age_Group_2</th>\n",
              "      <th>Age_Group_3</th>\n",
              "    </tr>\n",
              "  </thead>\n",
              "  <tbody>\n",
              "    <tr>\n",
              "      <th>208</th>\n",
              "      <td>1100</td>\n",
              "      <td>1</td>\n",
              "      <td>33.0</td>\n",
              "      <td>0</td>\n",
              "      <td>0</td>\n",
              "      <td>27.7208</td>\n",
              "      <td>1</td>\n",
              "      <td>0</td>\n",
              "      <td>0</td>\n",
              "      <td>1</td>\n",
              "      <td>0</td>\n",
              "      <td>0</td>\n",
              "      <td>1</td>\n",
              "      <td>0</td>\n",
              "    </tr>\n",
              "    <tr>\n",
              "      <th>350</th>\n",
              "      <td>1242</td>\n",
              "      <td>1</td>\n",
              "      <td>45.0</td>\n",
              "      <td>0</td>\n",
              "      <td>1</td>\n",
              "      <td>63.3583</td>\n",
              "      <td>1</td>\n",
              "      <td>0</td>\n",
              "      <td>0</td>\n",
              "      <td>1</td>\n",
              "      <td>0</td>\n",
              "      <td>0</td>\n",
              "      <td>1</td>\n",
              "      <td>0</td>\n",
              "    </tr>\n",
              "    <tr>\n",
              "      <th>122</th>\n",
              "      <td>1014</td>\n",
              "      <td>1</td>\n",
              "      <td>35.0</td>\n",
              "      <td>1</td>\n",
              "      <td>0</td>\n",
              "      <td>57.7500</td>\n",
              "      <td>1</td>\n",
              "      <td>0</td>\n",
              "      <td>0</td>\n",
              "      <td>1</td>\n",
              "      <td>0</td>\n",
              "      <td>0</td>\n",
              "      <td>1</td>\n",
              "      <td>0</td>\n",
              "    </tr>\n",
              "    <tr>\n",
              "      <th>343</th>\n",
              "      <td>1235</td>\n",
              "      <td>1</td>\n",
              "      <td>58.0</td>\n",
              "      <td>0</td>\n",
              "      <td>1</td>\n",
              "      <td>512.3292</td>\n",
              "      <td>1</td>\n",
              "      <td>0</td>\n",
              "      <td>0</td>\n",
              "      <td>1</td>\n",
              "      <td>0</td>\n",
              "      <td>0</td>\n",
              "      <td>1</td>\n",
              "      <td>0</td>\n",
              "    </tr>\n",
              "    <tr>\n",
              "      <th>131</th>\n",
              "      <td>1023</td>\n",
              "      <td>1</td>\n",
              "      <td>53.0</td>\n",
              "      <td>0</td>\n",
              "      <td>0</td>\n",
              "      <td>28.5000</td>\n",
              "      <td>1</td>\n",
              "      <td>0</td>\n",
              "      <td>0</td>\n",
              "      <td>0</td>\n",
              "      <td>1</td>\n",
              "      <td>0</td>\n",
              "      <td>1</td>\n",
              "      <td>0</td>\n",
              "    </tr>\n",
              "    <tr>\n",
              "      <th>...</th>\n",
              "      <td>...</td>\n",
              "      <td>...</td>\n",
              "      <td>...</td>\n",
              "      <td>...</td>\n",
              "      <td>...</td>\n",
              "      <td>...</td>\n",
              "      <td>...</td>\n",
              "      <td>...</td>\n",
              "      <td>...</td>\n",
              "      <td>...</td>\n",
              "      <td>...</td>\n",
              "      <td>...</td>\n",
              "      <td>...</td>\n",
              "      <td>...</td>\n",
              "    </tr>\n",
              "    <tr>\n",
              "      <th>165</th>\n",
              "      <td>1057</td>\n",
              "      <td>3</td>\n",
              "      <td>26.0</td>\n",
              "      <td>1</td>\n",
              "      <td>1</td>\n",
              "      <td>22.0250</td>\n",
              "      <td>0</td>\n",
              "      <td>0</td>\n",
              "      <td>1</td>\n",
              "      <td>1</td>\n",
              "      <td>0</td>\n",
              "      <td>0</td>\n",
              "      <td>1</td>\n",
              "      <td>0</td>\n",
              "    </tr>\n",
              "    <tr>\n",
              "      <th>163</th>\n",
              "      <td>1055</td>\n",
              "      <td>3</td>\n",
              "      <td>NaN</td>\n",
              "      <td>0</td>\n",
              "      <td>0</td>\n",
              "      <td>7.0000</td>\n",
              "      <td>0</td>\n",
              "      <td>0</td>\n",
              "      <td>1</td>\n",
              "      <td>0</td>\n",
              "      <td>1</td>\n",
              "      <td>0</td>\n",
              "      <td>0</td>\n",
              "      <td>0</td>\n",
              "    </tr>\n",
              "    <tr>\n",
              "      <th>161</th>\n",
              "      <td>1053</td>\n",
              "      <td>3</td>\n",
              "      <td>7.0</td>\n",
              "      <td>1</td>\n",
              "      <td>1</td>\n",
              "      <td>15.2458</td>\n",
              "      <td>1</td>\n",
              "      <td>0</td>\n",
              "      <td>0</td>\n",
              "      <td>0</td>\n",
              "      <td>1</td>\n",
              "      <td>1</td>\n",
              "      <td>0</td>\n",
              "      <td>0</td>\n",
              "    </tr>\n",
              "    <tr>\n",
              "      <th>199</th>\n",
              "      <td>1091</td>\n",
              "      <td>3</td>\n",
              "      <td>NaN</td>\n",
              "      <td>0</td>\n",
              "      <td>0</td>\n",
              "      <td>8.1125</td>\n",
              "      <td>0</td>\n",
              "      <td>0</td>\n",
              "      <td>1</td>\n",
              "      <td>1</td>\n",
              "      <td>0</td>\n",
              "      <td>0</td>\n",
              "      <td>0</td>\n",
              "      <td>0</td>\n",
              "    </tr>\n",
              "    <tr>\n",
              "      <th>417</th>\n",
              "      <td>1309</td>\n",
              "      <td>3</td>\n",
              "      <td>NaN</td>\n",
              "      <td>1</td>\n",
              "      <td>1</td>\n",
              "      <td>22.3583</td>\n",
              "      <td>1</td>\n",
              "      <td>0</td>\n",
              "      <td>0</td>\n",
              "      <td>0</td>\n",
              "      <td>1</td>\n",
              "      <td>0</td>\n",
              "      <td>0</td>\n",
              "      <td>0</td>\n",
              "    </tr>\n",
              "  </tbody>\n",
              "</table>\n",
              "<p>418 rows × 14 columns</p>\n",
              "</div>\n",
              "      <button class=\"colab-df-convert\" onclick=\"convertToInteractive('df-f38f8489-d812-460e-b3b7-e09d731a30b4')\"\n",
              "              title=\"Convert this dataframe to an interactive table.\"\n",
              "              style=\"display:none;\">\n",
              "        \n",
              "  <svg xmlns=\"http://www.w3.org/2000/svg\" height=\"24px\"viewBox=\"0 0 24 24\"\n",
              "       width=\"24px\">\n",
              "    <path d=\"M0 0h24v24H0V0z\" fill=\"none\"/>\n",
              "    <path d=\"M18.56 5.44l.94 2.06.94-2.06 2.06-.94-2.06-.94-.94-2.06-.94 2.06-2.06.94zm-11 1L8.5 8.5l.94-2.06 2.06-.94-2.06-.94L8.5 2.5l-.94 2.06-2.06.94zm10 10l.94 2.06.94-2.06 2.06-.94-2.06-.94-.94-2.06-.94 2.06-2.06.94z\"/><path d=\"M17.41 7.96l-1.37-1.37c-.4-.4-.92-.59-1.43-.59-.52 0-1.04.2-1.43.59L10.3 9.45l-7.72 7.72c-.78.78-.78 2.05 0 2.83L4 21.41c.39.39.9.59 1.41.59.51 0 1.02-.2 1.41-.59l7.78-7.78 2.81-2.81c.8-.78.8-2.07 0-2.86zM5.41 20L4 18.59l7.72-7.72 1.47 1.35L5.41 20z\"/>\n",
              "  </svg>\n",
              "      </button>\n",
              "      \n",
              "  <style>\n",
              "    .colab-df-container {\n",
              "      display:flex;\n",
              "      flex-wrap:wrap;\n",
              "      gap: 12px;\n",
              "    }\n",
              "\n",
              "    .colab-df-convert {\n",
              "      background-color: #E8F0FE;\n",
              "      border: none;\n",
              "      border-radius: 50%;\n",
              "      cursor: pointer;\n",
              "      display: none;\n",
              "      fill: #1967D2;\n",
              "      height: 32px;\n",
              "      padding: 0 0 0 0;\n",
              "      width: 32px;\n",
              "    }\n",
              "\n",
              "    .colab-df-convert:hover {\n",
              "      background-color: #E2EBFA;\n",
              "      box-shadow: 0px 1px 2px rgba(60, 64, 67, 0.3), 0px 1px 3px 1px rgba(60, 64, 67, 0.15);\n",
              "      fill: #174EA6;\n",
              "    }\n",
              "\n",
              "    [theme=dark] .colab-df-convert {\n",
              "      background-color: #3B4455;\n",
              "      fill: #D2E3FC;\n",
              "    }\n",
              "\n",
              "    [theme=dark] .colab-df-convert:hover {\n",
              "      background-color: #434B5C;\n",
              "      box-shadow: 0px 1px 3px 1px rgba(0, 0, 0, 0.15);\n",
              "      filter: drop-shadow(0px 1px 2px rgba(0, 0, 0, 0.3));\n",
              "      fill: #FFFFFF;\n",
              "    }\n",
              "  </style>\n",
              "\n",
              "      <script>\n",
              "        const buttonEl =\n",
              "          document.querySelector('#df-f38f8489-d812-460e-b3b7-e09d731a30b4 button.colab-df-convert');\n",
              "        buttonEl.style.display =\n",
              "          google.colab.kernel.accessAllowed ? 'block' : 'none';\n",
              "\n",
              "        async function convertToInteractive(key) {\n",
              "          const element = document.querySelector('#df-f38f8489-d812-460e-b3b7-e09d731a30b4');\n",
              "          const dataTable =\n",
              "            await google.colab.kernel.invokeFunction('convertToInteractive',\n",
              "                                                     [key], {});\n",
              "          if (!dataTable) return;\n",
              "\n",
              "          const docLinkHtml = 'Like what you see? Visit the ' +\n",
              "            '<a target=\"_blank\" href=https://colab.research.google.com/notebooks/data_table.ipynb>data table notebook</a>'\n",
              "            + ' to learn more about interactive tables.';\n",
              "          element.innerHTML = '';\n",
              "          dataTable['output_type'] = 'display_data';\n",
              "          await google.colab.output.renderOutput(dataTable, element);\n",
              "          const docLink = document.createElement('div');\n",
              "          docLink.innerHTML = docLinkHtml;\n",
              "          element.appendChild(docLink);\n",
              "        }\n",
              "      </script>\n",
              "    </div>\n",
              "  </div>\n",
              "  "
            ]
          },
          "metadata": {}
        }
      ],
      "source": [
        "display(df_test)"
      ]
    },
    {
      "cell_type": "markdown",
      "id": "f1cceddb",
      "metadata": {
        "id": "f1cceddb"
      },
      "source": [
        "## df_test -> Pclass=1, Sex_male=1, Age_Group_1=1"
      ]
    },
    {
      "cell_type": "code",
      "execution_count": 104,
      "id": "87f84e0f",
      "metadata": {
        "id": "87f84e0f",
        "outputId": "01f041ab-98ab-45e5-d247-daf72071c668",
        "colab": {
          "base_uri": "https://localhost:8080/"
        }
      },
      "outputs": [
        {
          "output_type": "stream",
          "name": "stdout",
          "text": [
            "     Pclass  Sex_male  Age_Group_1  Age_Group_2  Age_Group_3   Age\n",
            "196       1         1            1            0            0   6.0\n",
            "64        1         1            1            0            0  13.0\n",
            "403       1         1            1            0            0  17.0\n",
            "23        1         1            0            1            0  21.0\n",
            "390       1         1            0            1            0  23.0\n",
            "287       1         1            0            1            0  24.0\n",
            "50        1         1            0            1            0  24.0\n",
            "94        1         1            0            1            0  25.0\n",
            "252       1         1            0            1            0  27.0\n",
            "73        1         1            0            1            0  28.5\n",
            "34        1         1            0            1            0  30.0\n",
            "306       1         1            0            1            0  30.0\n",
            "298       1         1            0            1            0  30.0\n",
            "335       1         1            0            1            0  30.0\n",
            "68        1         1            0            1            0  31.0\n",
            "75        1         1            0            1            0  32.5\n",
            "323       1         1            0            1            0  33.0\n",
            "118       1         1            0            1            0  36.0\n",
            "181       1         1            0            1            0  37.0\n",
            "331       1         1            0            1            0  39.0\n",
            "234       1         1            0            1            0  39.0\n",
            "28        1         1            0            1            0  41.0\n",
            "245       1         1            0            1            0  41.0\n",
            "215       1         1            0            1            0  42.0\n",
            "158       1         1            0            1            0  42.0\n",
            "144       1         1            0            1            0  42.0\n",
            "404       1         1            0            1            0  43.0\n",
            "242       1         1            0            1            0  45.0\n",
            "46        1         1            0            1            0  45.0\n",
            "327       1         1            0            1            0  46.0\n",
            "270       1         1            0            1            0  46.0\n",
            "11        1         1            0            1            0  46.0\n",
            "67        1         1            0            1            0  47.0\n",
            "202       1         1            0            1            0  47.0\n",
            "166       1         1            0            1            0  48.0\n",
            "82        1         1            0            1            0  49.0\n",
            "372       1         1            0            1            0  49.0\n",
            "407       1         1            0            1            0  50.0\n",
            "355       1         1            0            1            0  50.0\n",
            "131       1         1            0            1            0  53.0\n",
            "293       1         1            0            1            0  53.0\n",
            "177       1         1            0            1            0  54.0\n",
            "308       1         1            0            1            0  55.0\n",
            "378       1         1            0            1            0  55.0\n",
            "20        1         1            0            1            0  55.0\n",
            "217       1         1            0            1            0  57.0\n",
            "316       1         1            0            1            0  57.0\n",
            "142       1         1            0            1            0  61.0\n",
            "236       1         1            0            1            0  64.0\n",
            "81        1         1            0            0            1  67.0\n",
            "146       1         1            0            0            0   NaN\n",
            "148       1         1            0            0            0   NaN\n",
            "290       1         1            0            0            0   NaN\n",
            "266       1         1            0            0            0   NaN\n",
            "191       1         1            0            0            0   NaN\n",
            "205       1         1            0            0            0   NaN\n",
            "41        1         1            0            0            0   NaN\n"
          ]
        }
      ],
      "source": [
        "filtered_data = df_test[(df_test['Pclass'] == 1) & (df_test['Sex_male'] == 1)]\n",
        "selected_columns = ['Pclass', 'Sex_male', 'Age_Group_1', 'Age_Group_2', 'Age_Group_3', 'Age']\n",
        "filtered_data = filtered_data[selected_columns].sort_values(by='Age')\n",
        "print(filtered_data)\n"
      ]
    },
    {
      "cell_type": "markdown",
      "id": "cefc0b48",
      "metadata": {
        "id": "cefc0b48"
      },
      "source": [
        "## Pclass=1, Sex_male=1"
      ]
    },
    {
      "cell_type": "code",
      "execution_count": 105,
      "id": "d9f42e6f",
      "metadata": {
        "id": "d9f42e6f",
        "outputId": "7e95edb5-81da-4682-a2ff-c25a2b9d7e08",
        "colab": {
          "base_uri": "https://localhost:8080/"
        }
      },
      "outputs": [
        {
          "output_type": "stream",
          "name": "stdout",
          "text": [
            "Number of Pclass=1 men without registered age: 7\n"
          ]
        }
      ],
      "source": [
        "# df_test -> Pclass=1, Sex_male=1\n",
        "count = df_test[(df_test['Pclass'] == 1) & (df_test['Sex_male'] == 1) & (df_test['Age'].isnull())].shape[0]\n",
        "print(\"Number of Pclass=1 men without registered age:\", count)"
      ]
    },
    {
      "cell_type": "code",
      "execution_count": 106,
      "id": "1a207ac2",
      "metadata": {
        "id": "1a207ac2",
        "outputId": "9744aba2-e82b-4af3-b745-1a348c2d980b",
        "colab": {
          "base_uri": "https://localhost:8080/"
        }
      },
      "outputs": [
        {
          "output_type": "stream",
          "name": "stdout",
          "text": [
            "Number of people for the specified conditions: 3\n",
            "Average age Pclass=1, Sex_male=1, Age_Group_1=1:  12.0\n"
          ]
        }
      ],
      "source": [
        "# df_test -> Pclass=1, Sex_male=1, Age_Group_1=1\n",
        "condition = (df_test['Pclass'] == 1) & (df_test['Sex_male'] == 1) & (df_test['Age_Group_1'] == 1)\n",
        "\n",
        "num_age = df_test[condition]['Age'].notnull().sum()\n",
        "print(\"Number of people for the specified conditions:\", num_age)\n",
        "\n",
        "# Filter the DataFrame with conditions and age not null\n",
        "filtered_df_test = df_test[condition & df_test['Age'].notnull()]\n",
        "\n",
        "# Calculate the mean age\n",
        "mean_age = filtered_df_test['Age'].mean()\n",
        "print('Average age Pclass=1, Sex_male=1, Age_Group_1=1: ', mean_age)"
      ]
    },
    {
      "cell_type": "code",
      "execution_count": 107,
      "id": "39fcaa94",
      "metadata": {
        "id": "39fcaa94",
        "outputId": "1ec7c1b0-6a23-4986-b666-0c8c824d6082",
        "colab": {
          "base_uri": "https://localhost:8080/"
        }
      },
      "outputs": [
        {
          "output_type": "stream",
          "name": "stdout",
          "text": [
            "Number of people for the specified conditions: 46\n",
            "Average age Pclass=1, Sex_male=1, Age_Group_2=1:  41.80434782608695\n"
          ]
        }
      ],
      "source": [
        "# df_test -> Pclass=1, Sex_male=1, Age_Group_2=1\n",
        "condition = (df_test['Pclass'] == 1) & (df_test['Sex_male'] == 1) & (df_test['Age_Group_2'] == 1)\n",
        "\n",
        "num_age = df_test[condition]['Age'].notnull().sum()\n",
        "print(\"Number of people for the specified conditions:\", num_age)\n",
        "\n",
        "# Filter the DataFrame with conditions and age not null\n",
        "filtered_df_test = df_test[condition & df_test['Age'].notnull()]\n",
        "\n",
        "# Calculate the mean age\n",
        "mean_age = filtered_df_test['Age'].mean()\n",
        "print('Average age Pclass=1, Sex_male=1, Age_Group_2=1: ', mean_age)"
      ]
    },
    {
      "cell_type": "code",
      "execution_count": 108,
      "id": "31f20434",
      "metadata": {
        "id": "31f20434",
        "outputId": "906bced6-66d4-432a-8b3a-1ba992cf6195",
        "colab": {
          "base_uri": "https://localhost:8080/"
        }
      },
      "outputs": [
        {
          "output_type": "stream",
          "name": "stdout",
          "text": [
            "Number of people for the specified conditions: 0\n",
            "Average age Pclass=1, Sex_male=1, Age_Group_3=1:  nan\n"
          ]
        }
      ],
      "source": [
        "# df_test -> Pclass=1, Sex_male=1, Age_Group_3=1\n",
        "condition = (df_test['Pclass'] == 1) & (df_test['Sex_male'] == 1) & (df_test['Age_Group_1'] == 3)\n",
        "\n",
        "num_age = df_test[condition]['Age'].notnull().sum()\n",
        "print(\"Number of people for the specified conditions:\", num_age)\n",
        "\n",
        "# Filter the DataFrame with conditions and age not null\n",
        "filtered_df_test = df_test[condition & df_test['Age'].notnull()]\n",
        "\n",
        "# Calculate the mean age\n",
        "mean_age = filtered_df_test['Age'].mean()\n",
        "print('Average age Pclass=1, Sex_male=1, Age_Group_3=1: ', mean_age)"
      ]
    },
    {
      "cell_type": "code",
      "execution_count": 109,
      "id": "f2f7e4a6",
      "metadata": {
        "id": "f2f7e4a6",
        "outputId": "d19421b0-09eb-434c-b5c8-8b9626c11f9e",
        "colab": {
          "base_uri": "https://localhost:8080/"
        }
      },
      "outputs": [
        {
          "output_type": "stream",
          "name": "stdout",
          "text": [
            "Number of people for the specified conditions: 50\n",
            "Average age Pclass=1, Sex_male=1:  40.52\n"
          ]
        }
      ],
      "source": [
        "# df_test -> Pclass=1, Sex_male=1\n",
        "condition = (df_test['Pclass'] == 1) & (df_test['Sex_male'] == 1)\n",
        "\n",
        "num_age = df_test[condition]['Age'].notnull().sum()\n",
        "print(\"Number of people for the specified conditions:\", num_age)\n",
        "\n",
        "# Filter the DataFrame with conditions and age not null\n",
        "filtered_df_test = df_test[condition & df_test['Age'].notnull()]\n",
        "\n",
        "# Calculate the mean age\n",
        "mean_age = filtered_df_test['Age'].mean()\n",
        "print('Average age Pclass=1, Sex_male=1: ', mean_age)"
      ]
    },
    {
      "cell_type": "code",
      "execution_count": 110,
      "id": "d6de5ab0",
      "metadata": {
        "id": "d6de5ab0",
        "outputId": "7adc2ce0-9ef4-424e-fb4d-0b62b0f8d8c4",
        "colab": {
          "base_uri": "https://localhost:8080/"
        }
      },
      "outputs": [
        {
          "output_type": "stream",
          "name": "stdout",
          "text": [
            "Number of people for the specified conditions: 7\n",
            "Average age to fill in the empty age fields:  40.52\n"
          ]
        }
      ],
      "source": [
        "# df_test -> Pclass=1, Sex_male=1, no Age information\n",
        "condition = (df_test['Pclass'] == 1) & (df_test['Sex_male'] == 1)\n",
        "num_nan_age = df_test[condition]['Age'].isnull().sum()\n",
        "print(\"Number of people for the specified conditions:\", num_nan_age)\n",
        "\n",
        "# Filter the DataFrame with conditions and age not null\n",
        "filtered_df_test = df_test[condition & df_test['Age'].notnull()]\n",
        "\n",
        "# Calculate the mean age\n",
        "mean_age_to_fill = filtered_df_test['Age'].mean()\n",
        "print('Average age to fill in the empty age fields: ', mean_age_to_fill)\n",
        "\n",
        "#Fill in the null values of the \"Age\" column with the mean\n",
        "df_test.loc[condition, 'Age'] = df_test.loc[condition, 'Age'].fillna(mean_age_to_fill)"
      ]
    },
    {
      "cell_type": "code",
      "execution_count": 111,
      "id": "c81644f9",
      "metadata": {
        "id": "c81644f9",
        "outputId": "2f2d0a3b-383c-4c21-f9e9-15b90f8757e0",
        "colab": {
          "base_uri": "https://localhost:8080/"
        }
      },
      "outputs": [
        {
          "output_type": "stream",
          "name": "stdout",
          "text": [
            "New Average age:  40.519999999999996\n"
          ]
        }
      ],
      "source": [
        "# df_test -> Pclass=1, Sex_male=1, new average age\n",
        "condition = (df_test['Pclass'] == 1) & (df_test['Sex_male'] == 1)\n",
        "\n",
        "# Filter the DataFrame with conditions and age not null\n",
        "filtered_df_test = df_test[condition & df_test['Age']]\n",
        "\n",
        "# Calculate the mean age\n",
        "mean_age = filtered_df_test['Age'].mean()\n",
        "print('New Average age: ', mean_age)"
      ]
    },
    {
      "cell_type": "markdown",
      "id": "f5de8241",
      "metadata": {
        "id": "f5de8241"
      },
      "source": [
        "## Pclass=2, Sex_male=1"
      ]
    },
    {
      "cell_type": "code",
      "execution_count": 112,
      "id": "804907d1",
      "metadata": {
        "id": "804907d1",
        "outputId": "580cb2e0-43ea-4335-c0f6-208c0f8a8103",
        "colab": {
          "base_uri": "https://localhost:8080/"
        }
      },
      "outputs": [
        {
          "output_type": "stream",
          "name": "stdout",
          "text": [
            "Number of Pclass=2 men without registered age: 4\n"
          ]
        }
      ],
      "source": [
        "# df_test -> Pclass=2, Sex_male=1\n",
        "count = df_test[(df_test['Pclass'] == 2) & (df_test['Sex_male'] == 1) & (df_test['Age'].isnull())].shape[0]\n",
        "print(\"Number of Pclass=2 men without registered age:\", count)\n"
      ]
    },
    {
      "cell_type": "code",
      "execution_count": 113,
      "id": "7d8e4931",
      "metadata": {
        "id": "7d8e4931",
        "outputId": "0a59619d-13e8-44ac-ae0b-8b6893b91961",
        "colab": {
          "base_uri": "https://localhost:8080/"
        }
      },
      "outputs": [
        {
          "output_type": "stream",
          "name": "stdout",
          "text": [
            "Number of people for the specified conditions: 4\n",
            "Average age Pclass=2, Sex_male=1, Age_Group_1=1:  10.25\n"
          ]
        }
      ],
      "source": [
        "# df_test -> Pclass=2, Sex_male=1, Age_Group_1=1\n",
        "condition = (df_test['Pclass'] == 2) & (df_test['Sex_male'] == 1) & (df_test['Age_Group_1'] == 1)\n",
        "\n",
        "num_age = df_test[condition]['Age'].notnull().sum()\n",
        "print(\"Number of people for the specified conditions:\", num_age)\n",
        "\n",
        "# Filter the DataFrame with conditions and age not null\n",
        "filtered_df_test = df_test[condition & df_test['Age'].notnull()]\n",
        "\n",
        "# Calculate the mean age\n",
        "mean_age = filtered_df_test['Age'].mean()\n",
        "print('Average age Pclass=2, Sex_male=1, Age_Group_1=1: ', mean_age)"
      ]
    },
    {
      "cell_type": "code",
      "execution_count": 114,
      "id": "e9c9946a",
      "metadata": {
        "id": "e9c9946a",
        "outputId": "dbadb53d-e141-46bf-a87d-9f75e0013541",
        "colab": {
          "base_uri": "https://localhost:8080/"
        }
      },
      "outputs": [
        {
          "output_type": "stream",
          "name": "stdout",
          "text": [
            "Number of people for the specified conditions: 55\n",
            "Average age Pclass=2, Sex_male=1, Age_Group_2=1:  32.445454545454545\n"
          ]
        }
      ],
      "source": [
        "# df_test -> Pclass=2, Sex_male=1, Age_Group_2=1\n",
        "condition = (df_test['Pclass'] == 2) & (df_test['Sex_male'] == 1) & (df_test['Age_Group_2'] == 1)\n",
        "\n",
        "num_age = df_test[condition]['Age'].notnull().sum()\n",
        "print(\"Number of people for the specified conditions:\", num_age)\n",
        "\n",
        "# Filter the DataFrame with conditions and age not null\n",
        "filtered_df_test = df_test[condition & df_test['Age'].notnull()]\n",
        "\n",
        "# Calculate the mean age\n",
        "mean_age = filtered_df_test['Age'].mean()\n",
        "print('Average age Pclass=2, Sex_male=1, Age_Group_2=1: ', mean_age)"
      ]
    },
    {
      "cell_type": "code",
      "execution_count": 115,
      "id": "1d8acb98",
      "metadata": {
        "id": "1d8acb98",
        "outputId": "bfe29783-955a-4b0e-924b-12aed7f72064",
        "colab": {
          "base_uri": "https://localhost:8080/"
        }
      },
      "outputs": [
        {
          "output_type": "stream",
          "name": "stdout",
          "text": [
            "Number of people for the specified conditions: 0\n",
            "Average age Pclass=2, Sex_male=1, Age_Group_3=1:  nan\n"
          ]
        }
      ],
      "source": [
        "# df_test -> Pclass=2, Sex_male=1, Age_Group_3=1\n",
        "condition = (df_test['Pclass'] == 2) & (df_test['Sex_male'] == 1) & (df_test['Age_Group_1'] == 3)\n",
        "\n",
        "num_age = df_test[condition]['Age'].notnull().sum()\n",
        "print(\"Number of people for the specified conditions:\", num_age)\n",
        "\n",
        "# Filter the DataFrame with conditions and age not null\n",
        "filtered_df_test = df_test[condition & df_test['Age'].notnull()]\n",
        "\n",
        "# Calculate the mean age\n",
        "mean_age = filtered_df_test['Age'].mean()\n",
        "print('Average age Pclass=2, Sex_male=1, Age_Group_3=1: ', mean_age)"
      ]
    },
    {
      "cell_type": "code",
      "execution_count": 116,
      "id": "f5b71523",
      "metadata": {
        "id": "f5b71523",
        "outputId": "26436055-267d-4f5e-e7f8-bebf6211b9c2",
        "colab": {
          "base_uri": "https://localhost:8080/"
        }
      },
      "outputs": [
        {
          "output_type": "stream",
          "name": "stdout",
          "text": [
            "Number of people for the specified conditions: 59\n",
            "Average age Pclass=2, Sex_male=1:  30.940677966101696\n"
          ]
        }
      ],
      "source": [
        "# df_test -> Pclass=2, Sex_male=1\n",
        "condition = (df_test['Pclass'] == 2) & (df_test['Sex_male'] == 1)\n",
        "\n",
        "num_age = df_test[condition]['Age'].notnull().sum()\n",
        "print(\"Number of people for the specified conditions:\", num_age)\n",
        "\n",
        "# Filter the DataFrame with conditions and age not null\n",
        "filtered_df_test = df_test[condition & df_test['Age'].notnull()]\n",
        "\n",
        "# Calculate the mean age\n",
        "mean_age = filtered_df_test['Age'].mean()\n",
        "print('Average age Pclass=2, Sex_male=1: ', mean_age)"
      ]
    },
    {
      "cell_type": "code",
      "execution_count": 117,
      "id": "002a6389",
      "metadata": {
        "id": "002a6389",
        "outputId": "a6e8296a-a49a-43e4-c8b7-c415e729fdb3",
        "colab": {
          "base_uri": "https://localhost:8080/"
        }
      },
      "outputs": [
        {
          "output_type": "stream",
          "name": "stdout",
          "text": [
            "Number of people for the specified conditions: 4\n",
            "Average age to fill in the empty age fields:  30.940677966101696\n"
          ]
        }
      ],
      "source": [
        "# df_test -> Pclass=2, Sex_male=1, no Age information\n",
        "condition = (df_test['Pclass'] == 2) & (df_test['Sex_male'] == 1)\n",
        "num_nan_age = df_test[condition]['Age'].isnull().sum()\n",
        "print(\"Number of people for the specified conditions:\", num_nan_age)\n",
        "\n",
        "# Filter the DataFrame with conditions and age not null\n",
        "filtered_df_test = df_test[condition & df_test['Age'].notnull()]\n",
        "\n",
        "# Calculate the mean age\n",
        "mean_age_to_fill = filtered_df_test['Age'].mean()\n",
        "print('Average age to fill in the empty age fields: ', mean_age_to_fill)\n",
        "\n",
        "#Fill in the null values of the \"Age\" column with the mean\n",
        "df_test.loc[condition, 'Age'] = df_test.loc[condition, 'Age'].fillna(mean_age_to_fill)"
      ]
    },
    {
      "cell_type": "code",
      "execution_count": 118,
      "id": "d8e02a8a",
      "metadata": {
        "id": "d8e02a8a",
        "outputId": "95c01740-c9f8-4b92-d05a-51fe54efd81d",
        "colab": {
          "base_uri": "https://localhost:8080/"
        }
      },
      "outputs": [
        {
          "output_type": "stream",
          "name": "stdout",
          "text": [
            "New Average age:  30.940677966101696\n"
          ]
        }
      ],
      "source": [
        "# df_test -> Pclass=2, Sex_male=1, new average age\n",
        "condition = (df_test['Pclass'] == 2) & (df_test['Sex_male'] == 1)\n",
        "\n",
        "# Filter the DataFrame with conditions and age not null\n",
        "filtered_df_test = df_test[condition & df_test['Age']]\n",
        "\n",
        "# Calculate the mean age\n",
        "mean_age = filtered_df_test['Age'].mean()\n",
        "print('New Average age: ', mean_age)"
      ]
    },
    {
      "cell_type": "code",
      "execution_count": 119,
      "id": "a4de772c",
      "metadata": {
        "id": "a4de772c",
        "outputId": "1a0a5165-face-46c2-85c7-2f17a2409a11",
        "colab": {
          "base_uri": "https://localhost:8080/"
        }
      },
      "outputs": [
        {
          "output_type": "stream",
          "name": "stdout",
          "text": [
            "Number of people for the specified conditions: 63\n",
            "New average age Pclass=2, Sex_male=1:  30.940677966101696\n"
          ]
        }
      ],
      "source": [
        "# df_test -> Pclass=2, Sex_male=1\n",
        "condition = (df_test['Pclass'] == 2) & (df_test['Sex_male'] == 1)\n",
        "\n",
        "num_age = df_test[condition]['Age'].notnull().sum()\n",
        "print(\"Number of people for the specified conditions:\", num_age)\n",
        "\n",
        "# Filter the DataFrame with conditions and age not null\n",
        "filtered_df_test = df_test[condition & df_test['Age'].notnull()]\n",
        "\n",
        "# Calculate the mean age\n",
        "mean_age = filtered_df_test['Age'].mean()\n",
        "print('New average age Pclass=2, Sex_male=1: ', mean_age)"
      ]
    },
    {
      "cell_type": "markdown",
      "id": "4b22082c",
      "metadata": {
        "id": "4b22082c"
      },
      "source": [
        "## Pclass=3, Sex_male=1"
      ]
    },
    {
      "cell_type": "code",
      "execution_count": 120,
      "id": "3413ec18",
      "metadata": {
        "id": "3413ec18",
        "outputId": "6369be1d-d18b-4570-ee6b-4a8bb5c7cba1",
        "colab": {
          "base_uri": "https://localhost:8080/"
        }
      },
      "outputs": [
        {
          "output_type": "stream",
          "name": "stdout",
          "text": [
            "Number of Pclass=3 class men without registered age: 50\n"
          ]
        }
      ],
      "source": [
        "# df_test -> Pclass=3, Sex_male=1\n",
        "count = df_test[(df_test['Pclass'] == 3) & (df_test['Sex_male'] == 1) & (df_test['Age'].isnull())].shape[0]\n",
        "print(\"Number of Pclass=3 class men without registered age:\", count)"
      ]
    },
    {
      "cell_type": "code",
      "execution_count": 121,
      "id": "5bf44f43",
      "metadata": {
        "id": "5bf44f43",
        "outputId": "02ee686e-6188-4d9b-b232-f961d9f96670",
        "colab": {
          "base_uri": "https://localhost:8080/"
        }
      },
      "outputs": [
        {
          "output_type": "stream",
          "name": "stdout",
          "text": [
            "Number of people for the specified conditions: 17\n",
            "Average age Pclass=3, Sex_male=1, Age_Group_1=1:  9.524117647058823\n"
          ]
        }
      ],
      "source": [
        "# df_test -> Pclass=3, Sex_male=1, Age_Group_1=1\n",
        "condition = (df_test['Pclass'] == 3) & (df_test['Sex_male'] == 1) & (df_test['Age_Group_1'] == 1)\n",
        "\n",
        "num_age = df_test[condition]['Age'].notnull().sum()\n",
        "print(\"Number of people for the specified conditions:\", num_age)\n",
        "\n",
        "# Filter the DataFrame with conditions and age not null\n",
        "filtered_df_test = df_test[condition & df_test['Age'].notnull()]\n",
        "\n",
        "# Calculate the mean age\n",
        "mean_age = filtered_df_test['Age'].mean()\n",
        "print('Average age Pclass=3, Sex_male=1, Age_Group_1=1: ', mean_age)"
      ]
    },
    {
      "cell_type": "code",
      "execution_count": 122,
      "id": "a1f43f62",
      "metadata": {
        "id": "a1f43f62",
        "outputId": "48c4744e-2aca-4f13-e524-7895226b1cac",
        "colab": {
          "base_uri": "https://localhost:8080/"
        }
      },
      "outputs": [
        {
          "output_type": "stream",
          "name": "stdout",
          "text": [
            "Number of people for the specified conditions: 79\n",
            "Average age Pclass=3, Sex_male=1, Age_Group_2=1:  27.753164556962027\n"
          ]
        }
      ],
      "source": [
        "# df_test -> Pclass=3, Sex_male=1, Age_Group_2=1\n",
        "condition = (df_test['Pclass'] == 3) & (df_test['Sex_male'] == 1) & (df_test['Age_Group_2'] == 1)\n",
        "\n",
        "num_age = df_test[condition]['Age'].notnull().sum()\n",
        "print(\"Number of people for the specified conditions:\", num_age)\n",
        "\n",
        "# Filter the DataFrame with conditions and age not null\n",
        "filtered_df_test = df_test[condition & df_test['Age'].notnull()]\n",
        "\n",
        "# Calculate the mean age\n",
        "mean_age = filtered_df_test['Age'].mean()\n",
        "print('Average age Pclass=3, Sex_male=1, Age_Group_2=1: ', mean_age)"
      ]
    },
    {
      "cell_type": "code",
      "execution_count": 123,
      "id": "603c7125",
      "metadata": {
        "id": "603c7125",
        "outputId": "e0478ba3-3759-4b47-ddfb-1827b991faa0",
        "colab": {
          "base_uri": "https://localhost:8080/"
        }
      },
      "outputs": [
        {
          "output_type": "stream",
          "name": "stdout",
          "text": [
            "Number of people for the specified conditions: 0\n",
            "Average age Pclass=3, Sex_male=1, Age_Group_3=1:  nan\n"
          ]
        }
      ],
      "source": [
        "# df_test -> Pclass=3, Sex_male=1, Age_Group_3=1\n",
        "condition = (df_test['Pclass'] == 3) & (df_test['Sex_male'] == 1) & (df_test['Age_Group_1'] == 3)\n",
        "\n",
        "num_age = df_test[condition]['Age'].notnull().sum()\n",
        "print(\"Number of people for the specified conditions:\", num_age)\n",
        "\n",
        "# Filter the DataFrame with conditions and age not null\n",
        "filtered_df_test = df_test[condition & df_test['Age'].notnull()]\n",
        "\n",
        "# Calculate the mean age\n",
        "mean_age = filtered_df_test['Age'].mean()\n",
        "print('Average age Pclass=3, Sex_male=1, Age_Group_3=1: ', mean_age)"
      ]
    },
    {
      "cell_type": "code",
      "execution_count": 124,
      "id": "3a1b2c08",
      "metadata": {
        "id": "3a1b2c08",
        "outputId": "e7240c0d-1ee1-4538-feb1-c5df47842ee0",
        "colab": {
          "base_uri": "https://localhost:8080/"
        }
      },
      "outputs": [
        {
          "output_type": "stream",
          "name": "stdout",
          "text": [
            "Number of people for the specified conditions: 96\n",
            "Average age Pclass=3, Sex_male=1:  24.525104166666665\n"
          ]
        }
      ],
      "source": [
        "# df_test -> Pclass=3, Sex_male=1\n",
        "condition = (df_test['Pclass'] == 3) & (df_test['Sex_male'] == 1)\n",
        "\n",
        "num_age = df_test[condition]['Age'].notnull().sum()\n",
        "print(\"Number of people for the specified conditions:\", num_age)\n",
        "\n",
        "# Filter the DataFrame with conditions and age not null\n",
        "filtered_df_test = df_test[condition & df_test['Age'].notnull()]\n",
        "\n",
        "# Calculate the mean age\n",
        "mean_age = filtered_df_test['Age'].mean()\n",
        "print('Average age Pclass=3, Sex_male=1: ', mean_age)"
      ]
    },
    {
      "cell_type": "code",
      "execution_count": 125,
      "id": "bdfcb81e",
      "metadata": {
        "id": "bdfcb81e",
        "outputId": "dc7d5e3e-abc6-4009-8e20-4a0df534e3dd",
        "colab": {
          "base_uri": "https://localhost:8080/"
        }
      },
      "outputs": [
        {
          "output_type": "stream",
          "name": "stdout",
          "text": [
            "Number of people no age information: 50\n",
            "Average age to fill in the empty age fields:  24.525104166666665\n"
          ]
        }
      ],
      "source": [
        "# df_test -> Pclass=3, Sex_male=1, no Age information\n",
        "condition = (df_test['Pclass'] == 3) & (df_test['Sex_male'] == 1)\n",
        "num_nan_age = df_test[condition]['Age'].isnull().sum()\n",
        "print(\"Number of people no age information:\", num_nan_age)\n",
        "\n",
        "# Filter the DataFrame with conditions and age not null\n",
        "filtered_df_test = df_test[condition & df_test['Age'].notnull()]\n",
        "\n",
        "# Calculate the mean age\n",
        "mean_age_to_fill = filtered_df_test['Age'].mean()\n",
        "print('Average age to fill in the empty age fields: ', mean_age_to_fill)\n",
        "\n",
        "#Fill in the null values of the \"Age\" column with the mean\n",
        "df_test.loc[condition, 'Age'] = df_test.loc[condition, 'Age'].fillna(mean_age_to_fill)"
      ]
    },
    {
      "cell_type": "code",
      "execution_count": 126,
      "id": "98b8a6e6",
      "metadata": {
        "id": "98b8a6e6",
        "outputId": "17753a60-6c03-4fab-a73b-284b772c7705",
        "colab": {
          "base_uri": "https://localhost:8080/"
        }
      },
      "outputs": [
        {
          "output_type": "stream",
          "name": "stdout",
          "text": [
            "New Average age:  24.525104166666665\n"
          ]
        }
      ],
      "source": [
        "# df_test -> Pclass=3, Sex_male=1, new average age\n",
        "condition = (df_test['Pclass'] == 3) & (df_test['Sex_male'] == 1)\n",
        "\n",
        "# Filter the DataFrame with conditions and age not null\n",
        "filtered_df_test = df_test[condition & df_test['Age']]\n",
        "\n",
        "# Calculate the mean age\n",
        "mean_age = filtered_df_test['Age'].mean()\n",
        "print('New Average age: ', mean_age)"
      ]
    },
    {
      "cell_type": "code",
      "execution_count": 127,
      "id": "8d8312a9",
      "metadata": {
        "id": "8d8312a9",
        "outputId": "c9611b9f-6227-40dd-e3ef-f825602c8503",
        "colab": {
          "base_uri": "https://localhost:8080/"
        }
      },
      "outputs": [
        {
          "output_type": "stream",
          "name": "stdout",
          "text": [
            "Number of people for the specified conditions: 146\n",
            "New average age Pclass=3, Sex_male=1:  24.525104166666665\n"
          ]
        }
      ],
      "source": [
        "# df_test -> Pclass=3, Sex_male=1\n",
        "condition = (df_test['Pclass'] == 3) & (df_test['Sex_male'] == 1)\n",
        "\n",
        "num_age = df_test[condition]['Age'].notnull().sum()\n",
        "print(\"Number of people for the specified conditions:\", num_age)\n",
        "\n",
        "# Filter the DataFrame with conditions and age not null\n",
        "filtered_df_test = df_test[condition & df_test['Age'].notnull()]\n",
        "\n",
        "# Calculate the mean age\n",
        "mean_age = filtered_df_test['Age'].mean()\n",
        "print('New average age Pclass=3, Sex_male=1: ', mean_age)"
      ]
    },
    {
      "cell_type": "markdown",
      "id": "1cfc53ac",
      "metadata": {
        "id": "1cfc53ac"
      },
      "source": [
        "## Pclass=1, Sex_female=1"
      ]
    },
    {
      "cell_type": "code",
      "execution_count": 128,
      "id": "70ba0eb8",
      "metadata": {
        "id": "70ba0eb8",
        "outputId": "a8c72faa-762b-4071-fefd-89c8420d3e71",
        "colab": {
          "base_uri": "https://localhost:8080/"
        }
      },
      "outputs": [
        {
          "output_type": "stream",
          "name": "stdout",
          "text": [
            "Number of Pclass=1 men without registered age: 2\n",
            "Number of people for the specified conditions: 0\n",
            "Average age Pclass=1, Sex_female=1, Age_Group_1=1:  nan\n",
            "Number of people for the specified conditions: 47\n",
            "Average age Pclass=1, Sex_female=1, Age_Group_2=1:  40.59574468085106\n",
            "Number of people for the specified conditions: 0\n",
            "Average age Pclass=1, Sex_female=1, Age_Group_3=1:  nan\n",
            "Number of people for the specified conditions: 48\n",
            "Average age Pclass=1, Sex_female=1:  41.333333333333336\n",
            "Number of people for the specified conditions: 2\n",
            "Average age to fill in the empty age fields:  41.333333333333336\n",
            "New Average age:  41.33333333333334\n"
          ]
        }
      ],
      "source": [
        "# df_test -> Pclass=1, Sex_female=1\n",
        "count = df_test[(df_test['Pclass'] == 1) & (df_test['Sex_female'] == 1) & (df_test['Age'].isnull())].shape[0]\n",
        "print(\"Number of Pclass=1 men without registered age:\", count)\n",
        "\n",
        "# df_test -> Pclass=1, Sex_female=1, Age_Group_1=1\n",
        "condition = (df_test['Pclass'] == 1) & (df_test['Sex_female'] == 1) & (df_test['Age_Group_1'] == 1)\n",
        "\n",
        "num_age = df_test[condition]['Age'].notnull().sum()\n",
        "print(\"Number of people for the specified conditions:\", num_age)\n",
        "\n",
        "# Filter the DataFrame with conditions and age not null\n",
        "filtered_df_test = df_test[condition & df_test['Age'].notnull()]\n",
        "\n",
        "# Calculate the mean age\n",
        "mean_age = filtered_df_test['Age'].mean()\n",
        "print('Average age Pclass=1, Sex_female=1, Age_Group_1=1: ', mean_age)\n",
        "\n",
        "# df_test -> Pclass=1, Sex_female=1, Age_Group_2=1\n",
        "condition = (df_test['Pclass'] == 1) & (df_test['Sex_female'] == 1) & (df_test['Age_Group_2'] == 1)\n",
        "\n",
        "num_age = df_test[condition]['Age'].notnull().sum()\n",
        "print(\"Number of people for the specified conditions:\", num_age)\n",
        "\n",
        "# Filter the DataFrame with conditions and age not null\n",
        "filtered_df_test = df_test[condition & df_test['Age'].notnull()]\n",
        "\n",
        "# Calculate the mean age\n",
        "mean_age = filtered_df_test['Age'].mean()\n",
        "print('Average age Pclass=1, Sex_female=1, Age_Group_2=1: ', mean_age)\n",
        "\n",
        "# df_test -> Pclass=1, Sex_female=1, Age_Group_3=1\n",
        "condition = (df_test['Pclass'] == 1) & (df_test['Sex_female'] == 1) & (df_test['Age_Group_1'] == 3)\n",
        "\n",
        "num_age = df_test[condition]['Age'].notnull().sum()\n",
        "print(\"Number of people for the specified conditions:\", num_age)\n",
        "\n",
        "# Filter the DataFrame with conditions and age not null\n",
        "filtered_df_test = df_test[condition & df_test['Age'].notnull()]\n",
        "\n",
        "# Calculate the mean age\n",
        "mean_age = filtered_df_test['Age'].mean()\n",
        "print('Average age Pclass=1, Sex_female=1, Age_Group_3=1: ', mean_age)\n",
        "\n",
        "# df_test -> Pclass=1, Sex_female=1\n",
        "condition = (df_test['Pclass'] == 1) & (df_test['Sex_female'] == 1)\n",
        "\n",
        "num_age = df_test[condition]['Age'].notnull().sum()\n",
        "print(\"Number of people for the specified conditions:\", num_age)\n",
        "\n",
        "# Filter the DataFrame with conditions and age not null\n",
        "filtered_df_test = df_test[condition & df_test['Age'].notnull()]\n",
        "\n",
        "# Calculate the mean age\n",
        "mean_age = filtered_df_test['Age'].mean()\n",
        "print('Average age Pclass=1, Sex_female=1: ', mean_age)\n",
        "\n",
        "# df_test -> Pclass=1, Sex_female=1, no Age information\n",
        "condition = (df_test['Pclass'] == 1) & (df_test['Sex_female'] == 1)\n",
        "num_nan_age = df_test[condition]['Age'].isnull().sum()\n",
        "print(\"Number of people for the specified conditions:\", num_nan_age)\n",
        "\n",
        "# Filter the DataFrame with conditions and age not null\n",
        "filtered_df_test = df_test[condition & df_test['Age'].notnull()]\n",
        "\n",
        "# Calculate the mean age\n",
        "mean_age_to_fill = filtered_df_test['Age'].mean()\n",
        "print('Average age to fill in the empty age fields: ', mean_age_to_fill)\n",
        "\n",
        "#Fill in the null values of the \"Age\" column with the mean\n",
        "df_test.loc[condition, 'Age'] = df_test.loc[condition, 'Age'].fillna(mean_age_to_fill)\n",
        "\n",
        "# df_test -> Pclass=1, Sex_female=1, new average age\n",
        "condition = (df_test['Pclass'] == 1) & (df_test['Sex_female'] == 1)\n",
        "\n",
        "# Filter the DataFrame with conditions and age not null\n",
        "filtered_df_test = df_test[condition & df_test['Age']]\n",
        "\n",
        "# Calculate the mean age\n",
        "mean_age = filtered_df_test['Age'].mean()\n",
        "print('New Average age: ', mean_age)"
      ]
    },
    {
      "cell_type": "markdown",
      "id": "3ee975e3",
      "metadata": {
        "id": "3ee975e3"
      },
      "source": [
        "## Pclass=2, Sex_female=1"
      ]
    },
    {
      "cell_type": "code",
      "execution_count": 129,
      "id": "f7b28900",
      "metadata": {
        "id": "f7b28900",
        "outputId": "51841ad5-0a0d-477a-dee3-6febd85ee79f",
        "colab": {
          "base_uri": "https://localhost:8080/"
        }
      },
      "outputs": [
        {
          "output_type": "stream",
          "name": "stdout",
          "text": [
            "Number of Pclass=2 men without registered age: 1\n",
            "Number of people for the specified conditions: 6\n",
            "Average age Pclass=2, Sex_female=1, Age_Group_1=1:  8.153333333333334\n",
            "Number of people for the specified conditions: 23\n",
            "Average age Pclass=2, Sex_female=1, Age_Group_2=1:  28.608695652173914\n",
            "Number of people for the specified conditions: 0\n",
            "Average age Pclass=2, Sex_female=1, Age_Group_3=1:  nan\n",
            "Number of people for the specified conditions: 29\n",
            "Average age Pclass=2, Sex_female=1:  24.376551724137933\n",
            "Number of people for the specified conditions: 1\n",
            "Average age to fill in the empty age fields:  24.376551724137933\n",
            "New Average age:  24.37655172413793\n"
          ]
        }
      ],
      "source": [
        "# df_test -> Pclass=2, Sex_female=1\n",
        "count = df_test[(df_test['Pclass'] == 2) & (df_test['Sex_female'] == 1) & (df_test['Age'].isnull())].shape[0]\n",
        "print(\"Number of Pclass=2 men without registered age:\", count)\n",
        "\n",
        "# df_test -> Pclass=2, Sex_female=1, Age_Group_1=1\n",
        "condition = (df_test['Pclass'] == 2) & (df_test['Sex_female'] == 1) & (df_test['Age_Group_1'] == 1)\n",
        "\n",
        "num_age = df_test[condition]['Age'].notnull().sum()\n",
        "print(\"Number of people for the specified conditions:\", num_age)\n",
        "\n",
        "# Filter the DataFrame with conditions and age not null\n",
        "filtered_df_test = df_test[condition & df_test['Age'].notnull()]\n",
        "\n",
        "# Calculate the mean age\n",
        "mean_age = filtered_df_test['Age'].mean()\n",
        "print('Average age Pclass=2, Sex_female=1, Age_Group_1=1: ', mean_age)\n",
        "\n",
        "# df_test -> Pclass=2, Sex_female=1, Age_Group_2=1\n",
        "condition = (df_test['Pclass'] == 2) & (df_test['Sex_female'] == 1) & (df_test['Age_Group_2'] == 1)\n",
        "\n",
        "num_age = df_test[condition]['Age'].notnull().sum()\n",
        "print(\"Number of people for the specified conditions:\", num_age)\n",
        "\n",
        "# Filter the DataFrame with conditions and age not null\n",
        "filtered_df_test = df_test[condition & df_test['Age'].notnull()]\n",
        "\n",
        "# Calculate the mean age\n",
        "mean_age = filtered_df_test['Age'].mean()\n",
        "print('Average age Pclass=2, Sex_female=1, Age_Group_2=1: ', mean_age)\n",
        "\n",
        "# df_test -> Pclass=2, Sex_female=1, Age_Group_3=1\n",
        "condition = (df_test['Pclass'] == 2) & (df_test['Sex_female'] == 1) & (df_test['Age_Group_1'] == 3)\n",
        "\n",
        "num_age = df_test[condition]['Age'].notnull().sum()\n",
        "print(\"Number of people for the specified conditions:\", num_age)\n",
        "\n",
        "# Filter the DataFrame with conditions and age not null\n",
        "filtered_df_test = df_test[condition & df_test['Age'].notnull()]\n",
        "\n",
        "# Calculate the mean age\n",
        "mean_age = filtered_df_test['Age'].mean()\n",
        "print('Average age Pclass=2, Sex_female=1, Age_Group_3=1: ', mean_age)\n",
        "\n",
        "# df_test -> Pclass=2, Sex_female=1\n",
        "condition = (df_test['Pclass'] == 2) & (df_test['Sex_female'] == 1)\n",
        "\n",
        "num_age = df_test[condition]['Age'].notnull().sum()\n",
        "print(\"Number of people for the specified conditions:\", num_age)\n",
        "\n",
        "# Filter the DataFrame with conditions and age not null\n",
        "filtered_df_test = df_test[condition & df_test['Age'].notnull()]\n",
        "\n",
        "# Calculate the mean age\n",
        "mean_age = filtered_df_test['Age'].mean()\n",
        "print('Average age Pclass=2, Sex_female=1: ', mean_age)\n",
        "\n",
        "# df_test -> Pclass=2, Sex_female=1, no Age information\n",
        "condition = (df_test['Pclass'] == 2) & (df_test['Sex_female'] == 1)\n",
        "num_nan_age = df_test[condition]['Age'].isnull().sum()\n",
        "print(\"Number of people for the specified conditions:\", num_nan_age)\n",
        "\n",
        "# Filter the DataFrame with conditions and age not null\n",
        "filtered_df_test = df_test[condition & df_test['Age'].notnull()]\n",
        "\n",
        "# Calculate the mean age\n",
        "mean_age_to_fill = filtered_df_test['Age'].mean()\n",
        "print('Average age to fill in the empty age fields: ', mean_age_to_fill)\n",
        "\n",
        "#Fill in the null values of the \"Age\" column with the mean\n",
        "df_test.loc[condition, 'Age'] = df_test.loc[condition, 'Age'].fillna(mean_age_to_fill)\n",
        "\n",
        "# df_test -> Pclass=2, Sex_female=1, new average age\n",
        "condition = (df_test['Pclass'] == 2) & (df_test['Sex_female'] == 1)\n",
        "\n",
        "# Filter the DataFrame with conditions and age not null\n",
        "filtered_df_test = df_test[condition & df_test['Age']]\n",
        "\n",
        "# Calculate the mean age\n",
        "mean_age = filtered_df_test['Age'].mean()\n",
        "print('New Average age: ', mean_age)"
      ]
    },
    {
      "cell_type": "markdown",
      "id": "a82351cf",
      "metadata": {
        "id": "a82351cf"
      },
      "source": [
        "## Pclass=3, Sex_female=1"
      ]
    },
    {
      "cell_type": "code",
      "execution_count": 130,
      "id": "6d87b042",
      "metadata": {
        "id": "6d87b042",
        "outputId": "6d9af99d-862d-4f4e-a3ff-3f0317620796",
        "colab": {
          "base_uri": "https://localhost:8080/"
        }
      },
      "outputs": [
        {
          "output_type": "stream",
          "name": "stdout",
          "text": [
            "Number of Pclass=3 men without registered age: 22\n",
            "Number of people for the specified conditions: 11\n",
            "Average age Pclass=3, Sex_female=1, Age_Group_1=1:  8.379090909090909\n",
            "Number of people for the specified conditions: 39\n",
            "Average age Pclass=3, Sex_female=1, Age_Group_2=1:  27.21794871794872\n",
            "Number of people for the specified conditions: 0\n",
            "Average age Pclass=3, Sex_female=1, Age_Group_3=1:  nan\n",
            "Number of people for the specified conditions: 50\n",
            "Average age Pclass=3, Sex_female=1:  23.073400000000003\n",
            "Number of people for the specified conditions: 22\n",
            "Average age to fill in the empty age fields:  23.073400000000003\n",
            "New Average age:  23.0734\n"
          ]
        }
      ],
      "source": [
        "# df_test -> Pclass=3, Sex_female=1\n",
        "count = df_test[(df_test['Pclass'] == 3) & (df_test['Sex_female'] == 1) & (df_test['Age'].isnull())].shape[0]\n",
        "print(\"Number of Pclass=3 men without registered age:\", count)\n",
        "\n",
        "# df_test -> Pclass=3, Sex_female=1, Age_Group_1=1\n",
        "condition = (df_test['Pclass'] == 3) & (df_test['Sex_female'] == 1) & (df_test['Age_Group_1'] == 1)\n",
        "\n",
        "num_age = df_test[condition]['Age'].notnull().sum()\n",
        "print(\"Number of people for the specified conditions:\", num_age)\n",
        "\n",
        "# Filter the DataFrame with conditions and age not null\n",
        "filtered_df_test = df_test[condition & df_test['Age'].notnull()]\n",
        "\n",
        "# Calculate the mean age\n",
        "mean_age = filtered_df_test['Age'].mean()\n",
        "print('Average age Pclass=3, Sex_female=1, Age_Group_1=1: ', mean_age)\n",
        "\n",
        "# df_test -> Pclass=3, Sex_female=1, Age_Group_2=1\n",
        "condition = (df_test['Pclass'] == 3) & (df_test['Sex_female'] == 1) & (df_test['Age_Group_2'] == 1)\n",
        "\n",
        "num_age = df_test[condition]['Age'].notnull().sum()\n",
        "print(\"Number of people for the specified conditions:\", num_age)\n",
        "\n",
        "# Filter the DataFrame with conditions and age not null\n",
        "filtered_df_test = df_test[condition & df_test['Age'].notnull()]\n",
        "\n",
        "# Calculate the mean age\n",
        "mean_age = filtered_df_test['Age'].mean()\n",
        "print('Average age Pclass=3, Sex_female=1, Age_Group_2=1: ', mean_age)\n",
        "\n",
        "# df_test -> Pclass=3, Sex_female=1, Age_Group_3=1\n",
        "condition = (df_test['Pclass'] == 3) & (df_test['Sex_female'] == 1) & (df_test['Age_Group_1'] == 3)\n",
        "\n",
        "num_age = df_test[condition]['Age'].notnull().sum()\n",
        "print(\"Number of people for the specified conditions:\", num_age)\n",
        "\n",
        "# Filter the DataFrame with conditions and age not null\n",
        "filtered_df_test = df_test[condition & df_test['Age'].notnull()]\n",
        "\n",
        "# Calculate the mean age\n",
        "mean_age = filtered_df_test['Age'].mean()\n",
        "print('Average age Pclass=3, Sex_female=1, Age_Group_3=1: ', mean_age)\n",
        "\n",
        "# df_test -> Pclass=3, Sex_female=1\n",
        "condition = (df_test['Pclass'] == 3) & (df_test['Sex_female'] == 1)\n",
        "\n",
        "num_age = df_test[condition]['Age'].notnull().sum()\n",
        "print(\"Number of people for the specified conditions:\", num_age)\n",
        "\n",
        "# Filter the DataFrame with conditions and age not null\n",
        "filtered_df_test = df_test[condition & df_test['Age'].notnull()]\n",
        "\n",
        "# Calculate the mean age\n",
        "mean_age = filtered_df_test['Age'].mean()\n",
        "print('Average age Pclass=3, Sex_female=1: ', mean_age)\n",
        "\n",
        "# df_test -> Pclass=3, Sex_female=1, no Age information\n",
        "condition = (df_test['Pclass'] == 3) & (df_test['Sex_female'] == 1)\n",
        "num_nan_age = df_test[condition]['Age'].isnull().sum()\n",
        "print(\"Number of people for the specified conditions:\", num_nan_age)\n",
        "\n",
        "# Filter the DataFrame with conditions and age not null\n",
        "filtered_df_test = df_test[condition & df_test['Age'].notnull()]\n",
        "\n",
        "# Calculate the mean age\n",
        "mean_age_to_fill = filtered_df_test['Age'].mean()\n",
        "print('Average age to fill in the empty age fields: ', mean_age_to_fill)\n",
        "\n",
        "#Fill in the null values of the \"Age\" column with the mean\n",
        "df_test.loc[condition, 'Age'] = df_test.loc[condition, 'Age'].fillna(mean_age_to_fill)\n",
        "\n",
        "# df_test -> Pclass=3, Sex_female=1, new average age\n",
        "condition = (df_test['Pclass'] == 3) & (df_test['Sex_female'] == 1)\n",
        "\n",
        "# Filter the DataFrame with conditions and age not null\n",
        "filtered_df_test = df_test[condition & df_test['Age']]\n",
        "\n",
        "# Calculate the mean age\n",
        "mean_age = filtered_df_test['Age'].mean()\n",
        "print('New Average age: ', mean_age)"
      ]
    },
    {
      "cell_type": "code",
      "execution_count": 130,
      "id": "301af271",
      "metadata": {
        "id": "301af271"
      },
      "outputs": [],
      "source": []
    },
    {
      "cell_type": "code",
      "execution_count": 131,
      "id": "11684306",
      "metadata": {
        "id": "11684306",
        "outputId": "2c169ed0-443c-4273-d4aa-ccd624d12c84",
        "colab": {
          "base_uri": "https://localhost:8080/"
        }
      },
      "outputs": [
        {
          "output_type": "stream",
          "name": "stdout",
          "text": [
            "There are no null fields in the DataFrame.\n"
          ]
        }
      ],
      "source": [
        "# Check if there are any null fields in the DataFrame\n",
        "is_null = df_test.isnull().any().any()\n",
        "\n",
        "if is_null:\n",
        "    print(\"There are null fields in the DataFrame.\")\n",
        "else:\n",
        "    print(\"There are no null fields in the DataFrame.\")"
      ]
    },
    {
      "cell_type": "code",
      "execution_count": 132,
      "id": "2d36cde5",
      "metadata": {
        "id": "2d36cde5",
        "outputId": "e3695126-50e2-4483-c577-903fd23296a9",
        "colab": {
          "base_uri": "https://localhost:8080/"
        }
      },
      "outputs": [
        {
          "output_type": "stream",
          "name": "stdout",
          "text": [
            "<class 'pandas.core.frame.DataFrame'>\n",
            "Int64Index: 891 entries, 445 to 890\n",
            "Data columns (total 15 columns):\n",
            " #   Column       Non-Null Count  Dtype  \n",
            "---  ------       --------------  -----  \n",
            " 0   PassengerId  891 non-null    int64  \n",
            " 1   Survived     891 non-null    int64  \n",
            " 2   Pclass       891 non-null    int64  \n",
            " 3   Age          891 non-null    float64\n",
            " 4   SibSp        891 non-null    int64  \n",
            " 5   Parch        891 non-null    int64  \n",
            " 6   Fare         891 non-null    float64\n",
            " 7   Embarked_C   891 non-null    uint8  \n",
            " 8   Embarked_Q   891 non-null    uint8  \n",
            " 9   Embarked_S   891 non-null    uint8  \n",
            " 10  Sex_female   891 non-null    uint8  \n",
            " 11  Sex_male     891 non-null    uint8  \n",
            " 12  Age_Group_1  891 non-null    uint8  \n",
            " 13  Age_Group_2  891 non-null    uint8  \n",
            " 14  Age_Group_3  891 non-null    uint8  \n",
            "dtypes: float64(2), int64(5), uint8(8)\n",
            "memory usage: 62.6 KB\n"
          ]
        }
      ],
      "source": [
        "df.info()"
      ]
    },
    {
      "cell_type": "code",
      "execution_count": 135,
      "id": "d8057dad",
      "metadata": {
        "id": "d8057dad"
      },
      "outputs": [],
      "source": [
        "df.to_csv('titanic_train_after_analysis.csv')"
      ]
    },
    {
      "cell_type": "code",
      "execution_count": 136,
      "id": "87509293",
      "metadata": {
        "id": "87509293"
      },
      "outputs": [],
      "source": [
        "df_test.to_csv('titanic_test_after_analysis.csv')"
      ]
    },
    {
      "cell_type": "markdown",
      "id": "08c8e665",
      "metadata": {
        "id": "08c8e665"
      },
      "source": [
        "## accuracy_score"
      ]
    },
    {
      "cell_type": "code",
      "execution_count": 137,
      "id": "ae579f83",
      "metadata": {
        "id": "ae579f83"
      },
      "outputs": [],
      "source": [
        "from sklearn.metrics import accuracy_score"
      ]
    },
    {
      "cell_type": "markdown",
      "id": "4eec19cf",
      "metadata": {
        "id": "4eec19cf"
      },
      "source": [
        "## train_test_split"
      ]
    },
    {
      "cell_type": "code",
      "execution_count": 138,
      "id": "7b91d77b",
      "metadata": {
        "id": "7b91d77b"
      },
      "outputs": [],
      "source": [
        "from sklearn.model_selection import train_test_split"
      ]
    },
    {
      "cell_type": "code",
      "execution_count": 139,
      "id": "ec39f64d",
      "metadata": {
        "id": "ec39f64d"
      },
      "outputs": [],
      "source": [
        "X = df.drop(['PassengerId', 'Survived'], axis=1)\n",
        "y = df['Survived']"
      ]
    },
    {
      "cell_type": "code",
      "execution_count": 140,
      "id": "0c75f9c7",
      "metadata": {
        "id": "0c75f9c7"
      },
      "outputs": [],
      "source": [
        "X_train, X_test, y_train, y_test = train_test_split(X, y, test_size=0.2, random_state=42)"
      ]
    },
    {
      "cell_type": "code",
      "execution_count": 141,
      "id": "381aac43",
      "metadata": {
        "id": "381aac43",
        "outputId": "b1dd9985-2791-4fc2-c9ac-6c7690a91123",
        "colab": {
          "base_uri": "https://localhost:8080/"
        }
      },
      "outputs": [
        {
          "output_type": "stream",
          "name": "stdout",
          "text": [
            "There are no null fields in the DataFrame.\n"
          ]
        }
      ],
      "source": [
        "# Check if there are any null fields in the DataFrame\n",
        "is_null = df.isnull().any().any()\n",
        "\n",
        "if is_null:\n",
        "    print(\"There are null fields in the DataFrame.\")\n",
        "else:\n",
        "    print(\"There are no null fields in the DataFrame.\")"
      ]
    },
    {
      "cell_type": "markdown",
      "id": "c981ebba",
      "metadata": {
        "id": "c981ebba"
      },
      "source": [
        "## DecisionTreeClassifier"
      ]
    },
    {
      "cell_type": "code",
      "execution_count": 142,
      "id": "f741b939",
      "metadata": {
        "scrolled": true,
        "id": "f741b939",
        "outputId": "eece254b-73e4-40ab-dd95-f37e84ba3a16",
        "colab": {
          "base_uri": "https://localhost:8080/"
        }
      },
      "outputs": [
        {
          "output_type": "stream",
          "name": "stdout",
          "text": [
            "Model accuracy: 82.68%\n"
          ]
        }
      ],
      "source": [
        "from sklearn.tree import DecisionTreeClassifier\n",
        "\n",
        "# Instantiate the Decision Tree classifier\n",
        "clf_DC = DecisionTreeClassifier(random_state=42)\n",
        "\n",
        "# Train the model using the training set\n",
        "clf_DC.fit(X_train, y_train)\n",
        "\n",
        "# Make predictions on the test set\n",
        "y_pred_DC = clf_DC.predict(X_test)\n",
        "\n",
        "# Evaluate the model accuracy\n",
        "accuracy = accuracy_score(y_test, y_pred_DC)\n",
        "print(\"Model accuracy: {:.2f}%\".format(accuracy * 100))"
      ]
    },
    {
      "cell_type": "markdown",
      "id": "5cd45be6",
      "metadata": {
        "id": "5cd45be6"
      },
      "source": [
        "## KNeighborsClassifier"
      ]
    },
    {
      "cell_type": "code",
      "execution_count": 143,
      "id": "853ee786",
      "metadata": {
        "id": "853ee786"
      },
      "outputs": [],
      "source": [
        "import warnings\n",
        "\n",
        "# Ignore the specific future warning\n",
        "warnings.filterwarnings(\"ignore\", category=FutureWarning)"
      ]
    },
    {
      "cell_type": "code",
      "execution_count": 144,
      "id": "e1616e4a",
      "metadata": {
        "id": "e1616e4a",
        "outputId": "567b2c70-d94a-4ed8-8421-810cad3a54bc",
        "colab": {
          "base_uri": "https://localhost:8080/"
        }
      },
      "outputs": [
        {
          "output_type": "stream",
          "name": "stdout",
          "text": [
            "Model accuracy: 86.59%\n"
          ]
        }
      ],
      "source": [
        "from sklearn.neighbors import KNeighborsClassifier\n",
        "\n",
        "neigh = KNeighborsClassifier(n_neighbors=3)\n",
        "clf_neigh = neigh.fit(X, y)\n",
        "\n",
        "# Make predictions on the test set\n",
        "y_pred_neigh = clf_neigh.predict(X_test)\n",
        "\n",
        "# Evaluate the model accuracy\n",
        "accuracy = accuracy_score(y_test, y_pred_neigh)\n",
        "print(\"Model accuracy: {:.2f}%\".format(accuracy * 100))"
      ]
    },
    {
      "cell_type": "markdown",
      "id": "15ac1733",
      "metadata": {
        "id": "15ac1733"
      },
      "source": [
        "## LogisticRegression"
      ]
    },
    {
      "cell_type": "code",
      "execution_count": 145,
      "id": "9f89024a",
      "metadata": {
        "id": "9f89024a",
        "outputId": "503469e8-536f-4e48-a659-65cba83bd99f",
        "colab": {
          "base_uri": "https://localhost:8080/"
        }
      },
      "outputs": [
        {
          "output_type": "stream",
          "name": "stdout",
          "text": [
            "Model accuracy: 81.93%\n"
          ]
        }
      ],
      "source": [
        "from sklearn.linear_model import LogisticRegression\n",
        "model = LogisticRegression(max_iter=1000, random_state=42)\n",
        "model = model.fit(X, y)\n",
        "y_pred_LR = model.predict(X_test)\n",
        "accuracy = model.score(X, y)\n",
        "print(\"Model accuracy: {:.2f}%\".format(accuracy * 100))"
      ]
    },
    {
      "cell_type": "markdown",
      "id": "e8ef9c89",
      "metadata": {
        "id": "e8ef9c89"
      },
      "source": [
        "## Confusion Matrix"
      ]
    },
    {
      "cell_type": "code",
      "execution_count": 146,
      "id": "9db69068",
      "metadata": {
        "id": "9db69068"
      },
      "outputs": [],
      "source": [
        "from sklearn.metrics import confusion_matrix"
      ]
    },
    {
      "cell_type": "markdown",
      "id": "3964afe4",
      "metadata": {
        "id": "3964afe4"
      },
      "source": [
        "## Confusion Matrix - DecisionTreeClassifier"
      ]
    },
    {
      "cell_type": "code",
      "execution_count": 147,
      "id": "867848a0",
      "metadata": {
        "id": "867848a0",
        "outputId": "538a40ac-a9e7-48ad-b30d-725a8a356b80",
        "colab": {
          "base_uri": "https://localhost:8080/"
        }
      },
      "outputs": [
        {
          "output_type": "stream",
          "name": "stdout",
          "text": [
            "Confusion Matrix DecisionTreeClassifier:\n",
            "[[93  9]\n",
            " [22 55]]\n"
          ]
        }
      ],
      "source": [
        "y_true = y_test\n",
        "y_pred_dt = y_pred_DC\n",
        "\n",
        "cm = confusion_matrix(y_true, y_pred_dt)\n",
        "\n",
        "print(\"Confusion Matrix DecisionTreeClassifier:\")\n",
        "print(cm)"
      ]
    },
    {
      "cell_type": "markdown",
      "id": "a2e5c17b",
      "metadata": {
        "id": "a2e5c17b"
      },
      "source": [
        "## Confusion Matrix - KNeighborsClassifier"
      ]
    },
    {
      "cell_type": "code",
      "execution_count": 148,
      "id": "3126ee2d",
      "metadata": {
        "id": "3126ee2d",
        "outputId": "3c7f93b9-9434-4132-9b30-5547f7b7e8ac",
        "colab": {
          "base_uri": "https://localhost:8080/"
        }
      },
      "outputs": [
        {
          "output_type": "stream",
          "name": "stdout",
          "text": [
            "Confusion Matrix KNeighborsClassifier:\n",
            "[[92 10]\n",
            " [14 63]]\n"
          ]
        }
      ],
      "source": [
        "y_true = y_test\n",
        "y_pred_knn = y_pred_neigh\n",
        "\n",
        "cm = confusion_matrix(y_true, y_pred_knn)\n",
        "\n",
        "print(\"Confusion Matrix KNeighborsClassifier:\")\n",
        "print(cm)"
      ]
    },
    {
      "cell_type": "markdown",
      "id": "8eeb465a",
      "metadata": {
        "id": "8eeb465a"
      },
      "source": [
        "## Confusion Matrix - LogisticRegression"
      ]
    },
    {
      "cell_type": "code",
      "execution_count": 149,
      "id": "9b38598b",
      "metadata": {
        "id": "9b38598b",
        "outputId": "df49d302-880f-4fc8-e31d-5878249ff28b",
        "colab": {
          "base_uri": "https://localhost:8080/"
        }
      },
      "outputs": [
        {
          "output_type": "stream",
          "name": "stdout",
          "text": [
            "Confusion Matrix LogisticRegression:\n",
            "[[96  6]\n",
            " [20 57]]\n"
          ]
        }
      ],
      "source": [
        "y_true = y_test\n",
        "y_pred_lr = y_pred_LR\n",
        "\n",
        "cm = confusion_matrix(y_true, y_pred_lr)\n",
        "\n",
        "print(\"Confusion Matrix LogisticRegression:\")\n",
        "print(cm)"
      ]
    },
    {
      "cell_type": "code",
      "execution_count": 150,
      "id": "91d6a422",
      "metadata": {
        "id": "91d6a422",
        "outputId": "15d79160-e938-4cff-addf-06145bccb0ae",
        "colab": {
          "base_uri": "https://localhost:8080/"
        }
      },
      "outputs": [
        {
          "output_type": "stream",
          "name": "stdout",
          "text": [
            "DecisionTreeClassifier:\n",
            "Accuracy: 0.8268156424581006\n",
            "Precision: 0.859375\n",
            "Recall: 0.7142857142857143\n",
            "F1-Score: 0.7801418439716311\n",
            "\n",
            "KNeighborsClassifier:\n",
            "Accuracy: 0.8659217877094972\n",
            "Precision: 0.863013698630137\n",
            "Recall: 0.8181818181818182\n",
            "F1-Score: 0.8400000000000001\n",
            "\n",
            "LogisticRegression:\n",
            "Accuracy: 0.8547486033519553\n",
            "Precision: 0.9047619047619048\n",
            "Recall: 0.7402597402597403\n",
            "F1-Score: 0.8142857142857143\n"
          ]
        }
      ],
      "source": [
        "from sklearn.metrics import accuracy_score, precision_score, recall_score, f1_score\n",
        "\n",
        "# Supondo que você já tenha as matrizes de confusão para cada modelo\n",
        "cm_dt = [[93, 9], [22, 55]]\n",
        "cm_knn = [[92, 10], [14, 63]]\n",
        "cm_lr = [[96, 6], [20, 57]]\n",
        "\n",
        "# Calcula as métricas para cada modelo\n",
        "accuracy_dt = accuracy_score(y_true, y_pred_dt)\n",
        "precision_dt = precision_score(y_true, y_pred_dt)\n",
        "recall_dt = recall_score(y_true, y_pred_dt)\n",
        "f1_dt = f1_score(y_true, y_pred_dt)\n",
        "\n",
        "accuracy_knn = accuracy_score(y_true, y_pred_knn)\n",
        "precision_knn = precision_score(y_true, y_pred_knn)\n",
        "recall_knn = recall_score(y_true, y_pred_knn)\n",
        "f1_knn = f1_score(y_true, y_pred_knn)\n",
        "\n",
        "accuracy_lr = accuracy_score(y_true, y_pred_lr)\n",
        "precision_lr = precision_score(y_true, y_pred_lr)\n",
        "recall_lr = recall_score(y_true, y_pred_lr)\n",
        "f1_lr = f1_score(y_true, y_pred_lr)\n",
        "\n",
        "# Imprime as métricas para cada modelo\n",
        "print(\"DecisionTreeClassifier:\")\n",
        "print(\"Accuracy:\", accuracy_dt)\n",
        "print(\"Precision:\", precision_dt)\n",
        "print(\"Recall:\", recall_dt)\n",
        "print(\"F1-Score:\", f1_dt)\n",
        "print()\n",
        "\n",
        "print(\"KNeighborsClassifier:\")\n",
        "print(\"Accuracy:\", accuracy_knn)\n",
        "print(\"Precision:\", precision_knn)\n",
        "print(\"Recall:\", recall_knn)\n",
        "print(\"F1-Score:\", f1_knn)\n",
        "print()\n",
        "\n",
        "print(\"LogisticRegression:\")\n",
        "print(\"Accuracy:\", accuracy_lr)\n",
        "print(\"Precision:\", precision_lr)\n",
        "print(\"Recall:\", recall_lr)\n",
        "print(\"F1-Score:\", f1_lr)"
      ]
    },
    {
      "cell_type": "markdown",
      "id": "bb1b1695",
      "metadata": {
        "id": "bb1b1695"
      },
      "source": [
        "# Prediction for test with KNeighborsClassifier model"
      ]
    },
    {
      "cell_type": "code",
      "execution_count": 151,
      "id": "cf04d70a",
      "metadata": {
        "id": "cf04d70a",
        "outputId": "13a28878-9fff-45c9-e0c3-923465a06ad0",
        "colab": {
          "base_uri": "https://localhost:8080/",
          "height": 270
        }
      },
      "outputs": [
        {
          "output_type": "execute_result",
          "data": {
            "text/plain": [
              "     Pclass   Age  SibSp  Parch     Fare  Embarked_C  Embarked_Q  Embarked_S  \\\n",
              "586       2  47.0      0      0  15.0000           0           0           1   \n",
              "267       3  25.0      1      0   7.7750           0           0           1   \n",
              "774       2  54.0      1      3  23.0000           0           0           1   \n",
              "112       3  22.0      0      0   8.0500           0           0           1   \n",
              "313       3  28.0      0      0   7.8958           0           0           1   \n",
              "\n",
              "     Sex_female  Sex_male  Age_Group_1  Age_Group_2  Age_Group_3  \n",
              "586           0         1            0            1            0  \n",
              "267           0         1            0            1            0  \n",
              "774           1         0            0            1            0  \n",
              "112           0         1            0            1            0  \n",
              "313           0         1            0            1            0  "
            ],
            "text/html": [
              "\n",
              "  <div id=\"df-0ac8fdaa-caf4-4e2b-b905-549c1d1ac060\">\n",
              "    <div class=\"colab-df-container\">\n",
              "      <div>\n",
              "<style scoped>\n",
              "    .dataframe tbody tr th:only-of-type {\n",
              "        vertical-align: middle;\n",
              "    }\n",
              "\n",
              "    .dataframe tbody tr th {\n",
              "        vertical-align: top;\n",
              "    }\n",
              "\n",
              "    .dataframe thead th {\n",
              "        text-align: right;\n",
              "    }\n",
              "</style>\n",
              "<table border=\"1\" class=\"dataframe\">\n",
              "  <thead>\n",
              "    <tr style=\"text-align: right;\">\n",
              "      <th></th>\n",
              "      <th>Pclass</th>\n",
              "      <th>Age</th>\n",
              "      <th>SibSp</th>\n",
              "      <th>Parch</th>\n",
              "      <th>Fare</th>\n",
              "      <th>Embarked_C</th>\n",
              "      <th>Embarked_Q</th>\n",
              "      <th>Embarked_S</th>\n",
              "      <th>Sex_female</th>\n",
              "      <th>Sex_male</th>\n",
              "      <th>Age_Group_1</th>\n",
              "      <th>Age_Group_2</th>\n",
              "      <th>Age_Group_3</th>\n",
              "    </tr>\n",
              "  </thead>\n",
              "  <tbody>\n",
              "    <tr>\n",
              "      <th>586</th>\n",
              "      <td>2</td>\n",
              "      <td>47.0</td>\n",
              "      <td>0</td>\n",
              "      <td>0</td>\n",
              "      <td>15.0000</td>\n",
              "      <td>0</td>\n",
              "      <td>0</td>\n",
              "      <td>1</td>\n",
              "      <td>0</td>\n",
              "      <td>1</td>\n",
              "      <td>0</td>\n",
              "      <td>1</td>\n",
              "      <td>0</td>\n",
              "    </tr>\n",
              "    <tr>\n",
              "      <th>267</th>\n",
              "      <td>3</td>\n",
              "      <td>25.0</td>\n",
              "      <td>1</td>\n",
              "      <td>0</td>\n",
              "      <td>7.7750</td>\n",
              "      <td>0</td>\n",
              "      <td>0</td>\n",
              "      <td>1</td>\n",
              "      <td>0</td>\n",
              "      <td>1</td>\n",
              "      <td>0</td>\n",
              "      <td>1</td>\n",
              "      <td>0</td>\n",
              "    </tr>\n",
              "    <tr>\n",
              "      <th>774</th>\n",
              "      <td>2</td>\n",
              "      <td>54.0</td>\n",
              "      <td>1</td>\n",
              "      <td>3</td>\n",
              "      <td>23.0000</td>\n",
              "      <td>0</td>\n",
              "      <td>0</td>\n",
              "      <td>1</td>\n",
              "      <td>1</td>\n",
              "      <td>0</td>\n",
              "      <td>0</td>\n",
              "      <td>1</td>\n",
              "      <td>0</td>\n",
              "    </tr>\n",
              "    <tr>\n",
              "      <th>112</th>\n",
              "      <td>3</td>\n",
              "      <td>22.0</td>\n",
              "      <td>0</td>\n",
              "      <td>0</td>\n",
              "      <td>8.0500</td>\n",
              "      <td>0</td>\n",
              "      <td>0</td>\n",
              "      <td>1</td>\n",
              "      <td>0</td>\n",
              "      <td>1</td>\n",
              "      <td>0</td>\n",
              "      <td>1</td>\n",
              "      <td>0</td>\n",
              "    </tr>\n",
              "    <tr>\n",
              "      <th>313</th>\n",
              "      <td>3</td>\n",
              "      <td>28.0</td>\n",
              "      <td>0</td>\n",
              "      <td>0</td>\n",
              "      <td>7.8958</td>\n",
              "      <td>0</td>\n",
              "      <td>0</td>\n",
              "      <td>1</td>\n",
              "      <td>0</td>\n",
              "      <td>1</td>\n",
              "      <td>0</td>\n",
              "      <td>1</td>\n",
              "      <td>0</td>\n",
              "    </tr>\n",
              "  </tbody>\n",
              "</table>\n",
              "</div>\n",
              "      <button class=\"colab-df-convert\" onclick=\"convertToInteractive('df-0ac8fdaa-caf4-4e2b-b905-549c1d1ac060')\"\n",
              "              title=\"Convert this dataframe to an interactive table.\"\n",
              "              style=\"display:none;\">\n",
              "        \n",
              "  <svg xmlns=\"http://www.w3.org/2000/svg\" height=\"24px\"viewBox=\"0 0 24 24\"\n",
              "       width=\"24px\">\n",
              "    <path d=\"M0 0h24v24H0V0z\" fill=\"none\"/>\n",
              "    <path d=\"M18.56 5.44l.94 2.06.94-2.06 2.06-.94-2.06-.94-.94-2.06-.94 2.06-2.06.94zm-11 1L8.5 8.5l.94-2.06 2.06-.94-2.06-.94L8.5 2.5l-.94 2.06-2.06.94zm10 10l.94 2.06.94-2.06 2.06-.94-2.06-.94-.94-2.06-.94 2.06-2.06.94z\"/><path d=\"M17.41 7.96l-1.37-1.37c-.4-.4-.92-.59-1.43-.59-.52 0-1.04.2-1.43.59L10.3 9.45l-7.72 7.72c-.78.78-.78 2.05 0 2.83L4 21.41c.39.39.9.59 1.41.59.51 0 1.02-.2 1.41-.59l7.78-7.78 2.81-2.81c.8-.78.8-2.07 0-2.86zM5.41 20L4 18.59l7.72-7.72 1.47 1.35L5.41 20z\"/>\n",
              "  </svg>\n",
              "      </button>\n",
              "      \n",
              "  <style>\n",
              "    .colab-df-container {\n",
              "      display:flex;\n",
              "      flex-wrap:wrap;\n",
              "      gap: 12px;\n",
              "    }\n",
              "\n",
              "    .colab-df-convert {\n",
              "      background-color: #E8F0FE;\n",
              "      border: none;\n",
              "      border-radius: 50%;\n",
              "      cursor: pointer;\n",
              "      display: none;\n",
              "      fill: #1967D2;\n",
              "      height: 32px;\n",
              "      padding: 0 0 0 0;\n",
              "      width: 32px;\n",
              "    }\n",
              "\n",
              "    .colab-df-convert:hover {\n",
              "      background-color: #E2EBFA;\n",
              "      box-shadow: 0px 1px 2px rgba(60, 64, 67, 0.3), 0px 1px 3px 1px rgba(60, 64, 67, 0.15);\n",
              "      fill: #174EA6;\n",
              "    }\n",
              "\n",
              "    [theme=dark] .colab-df-convert {\n",
              "      background-color: #3B4455;\n",
              "      fill: #D2E3FC;\n",
              "    }\n",
              "\n",
              "    [theme=dark] .colab-df-convert:hover {\n",
              "      background-color: #434B5C;\n",
              "      box-shadow: 0px 1px 3px 1px rgba(0, 0, 0, 0.15);\n",
              "      filter: drop-shadow(0px 1px 2px rgba(0, 0, 0, 0.3));\n",
              "      fill: #FFFFFF;\n",
              "    }\n",
              "  </style>\n",
              "\n",
              "      <script>\n",
              "        const buttonEl =\n",
              "          document.querySelector('#df-0ac8fdaa-caf4-4e2b-b905-549c1d1ac060 button.colab-df-convert');\n",
              "        buttonEl.style.display =\n",
              "          google.colab.kernel.accessAllowed ? 'block' : 'none';\n",
              "\n",
              "        async function convertToInteractive(key) {\n",
              "          const element = document.querySelector('#df-0ac8fdaa-caf4-4e2b-b905-549c1d1ac060');\n",
              "          const dataTable =\n",
              "            await google.colab.kernel.invokeFunction('convertToInteractive',\n",
              "                                                     [key], {});\n",
              "          if (!dataTable) return;\n",
              "\n",
              "          const docLinkHtml = 'Like what you see? Visit the ' +\n",
              "            '<a target=\"_blank\" href=https://colab.research.google.com/notebooks/data_table.ipynb>data table notebook</a>'\n",
              "            + ' to learn more about interactive tables.';\n",
              "          element.innerHTML = '';\n",
              "          dataTable['output_type'] = 'display_data';\n",
              "          await google.colab.output.renderOutput(dataTable, element);\n",
              "          const docLink = document.createElement('div');\n",
              "          docLink.innerHTML = docLinkHtml;\n",
              "          element.appendChild(docLink);\n",
              "        }\n",
              "      </script>\n",
              "    </div>\n",
              "  </div>\n",
              "  "
            ]
          },
          "metadata": {},
          "execution_count": 151
        }
      ],
      "source": [
        "X_train.head()"
      ]
    },
    {
      "cell_type": "code",
      "execution_count": 152,
      "id": "bb65d19f",
      "metadata": {
        "id": "bb65d19f",
        "outputId": "d1dae448-0a1e-4b13-fadb-75e935df69a0",
        "colab": {
          "base_uri": "https://localhost:8080/",
          "height": 270
        }
      },
      "outputs": [
        {
          "output_type": "execute_result",
          "data": {
            "text/plain": [
              "     Pclass        Age  SibSp  Parch     Fare  Embarked_C  Embarked_Q  \\\n",
              "119       3   2.000000      4      2  31.2750           0           0   \n",
              "881       3  33.000000      0      0   7.8958           0           0   \n",
              "301       3  22.274211      2      0  23.2500           0           1   \n",
              "77        3  27.255814      0      0   8.0500           0           0   \n",
              "275       1  63.000000      1      0  77.9583           0           0   \n",
              "\n",
              "     Embarked_S  Sex_female  Sex_male  Age_Group_1  Age_Group_2  Age_Group_3  \n",
              "119           1           1         0            1            0            0  \n",
              "881           1           0         1            0            1            0  \n",
              "301           0           0         1            0            0            0  \n",
              "77            1           0         1            0            0            0  \n",
              "275           1           1         0            0            1            0  "
            ],
            "text/html": [
              "\n",
              "  <div id=\"df-937691b7-8d52-4988-8879-92057c9018ab\">\n",
              "    <div class=\"colab-df-container\">\n",
              "      <div>\n",
              "<style scoped>\n",
              "    .dataframe tbody tr th:only-of-type {\n",
              "        vertical-align: middle;\n",
              "    }\n",
              "\n",
              "    .dataframe tbody tr th {\n",
              "        vertical-align: top;\n",
              "    }\n",
              "\n",
              "    .dataframe thead th {\n",
              "        text-align: right;\n",
              "    }\n",
              "</style>\n",
              "<table border=\"1\" class=\"dataframe\">\n",
              "  <thead>\n",
              "    <tr style=\"text-align: right;\">\n",
              "      <th></th>\n",
              "      <th>Pclass</th>\n",
              "      <th>Age</th>\n",
              "      <th>SibSp</th>\n",
              "      <th>Parch</th>\n",
              "      <th>Fare</th>\n",
              "      <th>Embarked_C</th>\n",
              "      <th>Embarked_Q</th>\n",
              "      <th>Embarked_S</th>\n",
              "      <th>Sex_female</th>\n",
              "      <th>Sex_male</th>\n",
              "      <th>Age_Group_1</th>\n",
              "      <th>Age_Group_2</th>\n",
              "      <th>Age_Group_3</th>\n",
              "    </tr>\n",
              "  </thead>\n",
              "  <tbody>\n",
              "    <tr>\n",
              "      <th>119</th>\n",
              "      <td>3</td>\n",
              "      <td>2.000000</td>\n",
              "      <td>4</td>\n",
              "      <td>2</td>\n",
              "      <td>31.2750</td>\n",
              "      <td>0</td>\n",
              "      <td>0</td>\n",
              "      <td>1</td>\n",
              "      <td>1</td>\n",
              "      <td>0</td>\n",
              "      <td>1</td>\n",
              "      <td>0</td>\n",
              "      <td>0</td>\n",
              "    </tr>\n",
              "    <tr>\n",
              "      <th>881</th>\n",
              "      <td>3</td>\n",
              "      <td>33.000000</td>\n",
              "      <td>0</td>\n",
              "      <td>0</td>\n",
              "      <td>7.8958</td>\n",
              "      <td>0</td>\n",
              "      <td>0</td>\n",
              "      <td>1</td>\n",
              "      <td>0</td>\n",
              "      <td>1</td>\n",
              "      <td>0</td>\n",
              "      <td>1</td>\n",
              "      <td>0</td>\n",
              "    </tr>\n",
              "    <tr>\n",
              "      <th>301</th>\n",
              "      <td>3</td>\n",
              "      <td>22.274211</td>\n",
              "      <td>2</td>\n",
              "      <td>0</td>\n",
              "      <td>23.2500</td>\n",
              "      <td>0</td>\n",
              "      <td>1</td>\n",
              "      <td>0</td>\n",
              "      <td>0</td>\n",
              "      <td>1</td>\n",
              "      <td>0</td>\n",
              "      <td>0</td>\n",
              "      <td>0</td>\n",
              "    </tr>\n",
              "    <tr>\n",
              "      <th>77</th>\n",
              "      <td>3</td>\n",
              "      <td>27.255814</td>\n",
              "      <td>0</td>\n",
              "      <td>0</td>\n",
              "      <td>8.0500</td>\n",
              "      <td>0</td>\n",
              "      <td>0</td>\n",
              "      <td>1</td>\n",
              "      <td>0</td>\n",
              "      <td>1</td>\n",
              "      <td>0</td>\n",
              "      <td>0</td>\n",
              "      <td>0</td>\n",
              "    </tr>\n",
              "    <tr>\n",
              "      <th>275</th>\n",
              "      <td>1</td>\n",
              "      <td>63.000000</td>\n",
              "      <td>1</td>\n",
              "      <td>0</td>\n",
              "      <td>77.9583</td>\n",
              "      <td>0</td>\n",
              "      <td>0</td>\n",
              "      <td>1</td>\n",
              "      <td>1</td>\n",
              "      <td>0</td>\n",
              "      <td>0</td>\n",
              "      <td>1</td>\n",
              "      <td>0</td>\n",
              "    </tr>\n",
              "  </tbody>\n",
              "</table>\n",
              "</div>\n",
              "      <button class=\"colab-df-convert\" onclick=\"convertToInteractive('df-937691b7-8d52-4988-8879-92057c9018ab')\"\n",
              "              title=\"Convert this dataframe to an interactive table.\"\n",
              "              style=\"display:none;\">\n",
              "        \n",
              "  <svg xmlns=\"http://www.w3.org/2000/svg\" height=\"24px\"viewBox=\"0 0 24 24\"\n",
              "       width=\"24px\">\n",
              "    <path d=\"M0 0h24v24H0V0z\" fill=\"none\"/>\n",
              "    <path d=\"M18.56 5.44l.94 2.06.94-2.06 2.06-.94-2.06-.94-.94-2.06-.94 2.06-2.06.94zm-11 1L8.5 8.5l.94-2.06 2.06-.94-2.06-.94L8.5 2.5l-.94 2.06-2.06.94zm10 10l.94 2.06.94-2.06 2.06-.94-2.06-.94-.94-2.06-.94 2.06-2.06.94z\"/><path d=\"M17.41 7.96l-1.37-1.37c-.4-.4-.92-.59-1.43-.59-.52 0-1.04.2-1.43.59L10.3 9.45l-7.72 7.72c-.78.78-.78 2.05 0 2.83L4 21.41c.39.39.9.59 1.41.59.51 0 1.02-.2 1.41-.59l7.78-7.78 2.81-2.81c.8-.78.8-2.07 0-2.86zM5.41 20L4 18.59l7.72-7.72 1.47 1.35L5.41 20z\"/>\n",
              "  </svg>\n",
              "      </button>\n",
              "      \n",
              "  <style>\n",
              "    .colab-df-container {\n",
              "      display:flex;\n",
              "      flex-wrap:wrap;\n",
              "      gap: 12px;\n",
              "    }\n",
              "\n",
              "    .colab-df-convert {\n",
              "      background-color: #E8F0FE;\n",
              "      border: none;\n",
              "      border-radius: 50%;\n",
              "      cursor: pointer;\n",
              "      display: none;\n",
              "      fill: #1967D2;\n",
              "      height: 32px;\n",
              "      padding: 0 0 0 0;\n",
              "      width: 32px;\n",
              "    }\n",
              "\n",
              "    .colab-df-convert:hover {\n",
              "      background-color: #E2EBFA;\n",
              "      box-shadow: 0px 1px 2px rgba(60, 64, 67, 0.3), 0px 1px 3px 1px rgba(60, 64, 67, 0.15);\n",
              "      fill: #174EA6;\n",
              "    }\n",
              "\n",
              "    [theme=dark] .colab-df-convert {\n",
              "      background-color: #3B4455;\n",
              "      fill: #D2E3FC;\n",
              "    }\n",
              "\n",
              "    [theme=dark] .colab-df-convert:hover {\n",
              "      background-color: #434B5C;\n",
              "      box-shadow: 0px 1px 3px 1px rgba(0, 0, 0, 0.15);\n",
              "      filter: drop-shadow(0px 1px 2px rgba(0, 0, 0, 0.3));\n",
              "      fill: #FFFFFF;\n",
              "    }\n",
              "  </style>\n",
              "\n",
              "      <script>\n",
              "        const buttonEl =\n",
              "          document.querySelector('#df-937691b7-8d52-4988-8879-92057c9018ab button.colab-df-convert');\n",
              "        buttonEl.style.display =\n",
              "          google.colab.kernel.accessAllowed ? 'block' : 'none';\n",
              "\n",
              "        async function convertToInteractive(key) {\n",
              "          const element = document.querySelector('#df-937691b7-8d52-4988-8879-92057c9018ab');\n",
              "          const dataTable =\n",
              "            await google.colab.kernel.invokeFunction('convertToInteractive',\n",
              "                                                     [key], {});\n",
              "          if (!dataTable) return;\n",
              "\n",
              "          const docLinkHtml = 'Like what you see? Visit the ' +\n",
              "            '<a target=\"_blank\" href=https://colab.research.google.com/notebooks/data_table.ipynb>data table notebook</a>'\n",
              "            + ' to learn more about interactive tables.';\n",
              "          element.innerHTML = '';\n",
              "          dataTable['output_type'] = 'display_data';\n",
              "          await google.colab.output.renderOutput(dataTable, element);\n",
              "          const docLink = document.createElement('div');\n",
              "          docLink.innerHTML = docLinkHtml;\n",
              "          element.appendChild(docLink);\n",
              "        }\n",
              "      </script>\n",
              "    </div>\n",
              "  </div>\n",
              "  "
            ]
          },
          "metadata": {},
          "execution_count": 152
        }
      ],
      "source": [
        "X_test.head()"
      ]
    },
    {
      "cell_type": "code",
      "execution_count": 153,
      "id": "098ddff0",
      "metadata": {
        "id": "098ddff0"
      },
      "outputs": [],
      "source": [
        "X_test = df_test.drop(\"PassengerId\", axis=1)"
      ]
    },
    {
      "cell_type": "code",
      "execution_count": 154,
      "id": "0b5b110d",
      "metadata": {
        "id": "0b5b110d",
        "outputId": "27931bbc-0c55-42e4-a77e-784b6ee5db18",
        "colab": {
          "base_uri": "https://localhost:8080/"
        }
      },
      "outputs": [
        {
          "output_type": "stream",
          "name": "stdout",
          "text": [
            "     Pclass        Age  SibSp  Parch      Fare  Embarked_C  Embarked_Q  \\\n",
            "208       1  33.000000      0      0   27.7208           1           0   \n",
            "350       1  45.000000      0      1   63.3583           1           0   \n",
            "122       1  35.000000      1      0   57.7500           1           0   \n",
            "343       1  58.000000      0      1  512.3292           1           0   \n",
            "131       1  53.000000      0      0   28.5000           1           0   \n",
            "..      ...        ...    ...    ...       ...         ...         ...   \n",
            "165       3  26.000000      1      1   22.0250           0           0   \n",
            "163       3  24.525104      0      0    7.0000           0           0   \n",
            "161       3   7.000000      1      1   15.2458           1           0   \n",
            "199       3  23.073400      0      0    8.1125           0           0   \n",
            "417       3  24.525104      1      1   22.3583           1           0   \n",
            "\n",
            "     Embarked_S  Sex_female  Sex_male  Age_Group_1  Age_Group_2  Age_Group_3  \n",
            "208           0           1         0            0            1            0  \n",
            "350           0           1         0            0            1            0  \n",
            "122           0           1         0            0            1            0  \n",
            "343           0           1         0            0            1            0  \n",
            "131           0           0         1            0            1            0  \n",
            "..          ...         ...       ...          ...          ...          ...  \n",
            "165           1           1         0            0            1            0  \n",
            "163           1           0         1            0            0            0  \n",
            "161           0           0         1            1            0            0  \n",
            "199           1           1         0            0            0            0  \n",
            "417           0           0         1            0            0            0  \n",
            "\n",
            "[418 rows x 13 columns]\n"
          ]
        }
      ],
      "source": [
        "print(X_test)"
      ]
    },
    {
      "cell_type": "code",
      "execution_count": 155,
      "id": "eac4f452",
      "metadata": {
        "id": "eac4f452"
      },
      "outputs": [],
      "source": [
        "# Make predictions on the test set\n",
        "y_pred_neigh = clf_neigh.predict(X_test)\n",
        "#print(y_pred_neigh)"
      ]
    },
    {
      "cell_type": "code",
      "execution_count": 156,
      "id": "a6e8729f",
      "metadata": {
        "id": "a6e8729f"
      },
      "outputs": [],
      "source": [
        "#Create a new column\n",
        "df_test['Survived'] = y_pred_neigh"
      ]
    },
    {
      "cell_type": "code",
      "execution_count": 157,
      "id": "d8fd4b87",
      "metadata": {
        "id": "d8fd4b87"
      },
      "outputs": [],
      "source": [
        "#select only column ID and Survived\n",
        "result_test = df_test[['PassengerId', 'Survived']]"
      ]
    },
    {
      "cell_type": "code",
      "execution_count": 158,
      "id": "66b43b86",
      "metadata": {
        "id": "66b43b86",
        "outputId": "b084b9aa-7de7-4a2f-ef08-97b375c918b2",
        "colab": {
          "base_uri": "https://localhost:8080/",
          "height": 423
        }
      },
      "outputs": [
        {
          "output_type": "execute_result",
          "data": {
            "text/plain": [
              "     PassengerId  Survived\n",
              "208         1100         1\n",
              "350         1242         1\n",
              "122         1014         1\n",
              "343         1235         1\n",
              "131         1023         1\n",
              "..           ...       ...\n",
              "165         1057         0\n",
              "163         1055         0\n",
              "161         1053         1\n",
              "199         1091         0\n",
              "417         1309         0\n",
              "\n",
              "[418 rows x 2 columns]"
            ],
            "text/html": [
              "\n",
              "  <div id=\"df-6b83ce0f-ccb9-42b2-bb53-5d826841be5a\">\n",
              "    <div class=\"colab-df-container\">\n",
              "      <div>\n",
              "<style scoped>\n",
              "    .dataframe tbody tr th:only-of-type {\n",
              "        vertical-align: middle;\n",
              "    }\n",
              "\n",
              "    .dataframe tbody tr th {\n",
              "        vertical-align: top;\n",
              "    }\n",
              "\n",
              "    .dataframe thead th {\n",
              "        text-align: right;\n",
              "    }\n",
              "</style>\n",
              "<table border=\"1\" class=\"dataframe\">\n",
              "  <thead>\n",
              "    <tr style=\"text-align: right;\">\n",
              "      <th></th>\n",
              "      <th>PassengerId</th>\n",
              "      <th>Survived</th>\n",
              "    </tr>\n",
              "  </thead>\n",
              "  <tbody>\n",
              "    <tr>\n",
              "      <th>208</th>\n",
              "      <td>1100</td>\n",
              "      <td>1</td>\n",
              "    </tr>\n",
              "    <tr>\n",
              "      <th>350</th>\n",
              "      <td>1242</td>\n",
              "      <td>1</td>\n",
              "    </tr>\n",
              "    <tr>\n",
              "      <th>122</th>\n",
              "      <td>1014</td>\n",
              "      <td>1</td>\n",
              "    </tr>\n",
              "    <tr>\n",
              "      <th>343</th>\n",
              "      <td>1235</td>\n",
              "      <td>1</td>\n",
              "    </tr>\n",
              "    <tr>\n",
              "      <th>131</th>\n",
              "      <td>1023</td>\n",
              "      <td>1</td>\n",
              "    </tr>\n",
              "    <tr>\n",
              "      <th>...</th>\n",
              "      <td>...</td>\n",
              "      <td>...</td>\n",
              "    </tr>\n",
              "    <tr>\n",
              "      <th>165</th>\n",
              "      <td>1057</td>\n",
              "      <td>0</td>\n",
              "    </tr>\n",
              "    <tr>\n",
              "      <th>163</th>\n",
              "      <td>1055</td>\n",
              "      <td>0</td>\n",
              "    </tr>\n",
              "    <tr>\n",
              "      <th>161</th>\n",
              "      <td>1053</td>\n",
              "      <td>1</td>\n",
              "    </tr>\n",
              "    <tr>\n",
              "      <th>199</th>\n",
              "      <td>1091</td>\n",
              "      <td>0</td>\n",
              "    </tr>\n",
              "    <tr>\n",
              "      <th>417</th>\n",
              "      <td>1309</td>\n",
              "      <td>0</td>\n",
              "    </tr>\n",
              "  </tbody>\n",
              "</table>\n",
              "<p>418 rows × 2 columns</p>\n",
              "</div>\n",
              "      <button class=\"colab-df-convert\" onclick=\"convertToInteractive('df-6b83ce0f-ccb9-42b2-bb53-5d826841be5a')\"\n",
              "              title=\"Convert this dataframe to an interactive table.\"\n",
              "              style=\"display:none;\">\n",
              "        \n",
              "  <svg xmlns=\"http://www.w3.org/2000/svg\" height=\"24px\"viewBox=\"0 0 24 24\"\n",
              "       width=\"24px\">\n",
              "    <path d=\"M0 0h24v24H0V0z\" fill=\"none\"/>\n",
              "    <path d=\"M18.56 5.44l.94 2.06.94-2.06 2.06-.94-2.06-.94-.94-2.06-.94 2.06-2.06.94zm-11 1L8.5 8.5l.94-2.06 2.06-.94-2.06-.94L8.5 2.5l-.94 2.06-2.06.94zm10 10l.94 2.06.94-2.06 2.06-.94-2.06-.94-.94-2.06-.94 2.06-2.06.94z\"/><path d=\"M17.41 7.96l-1.37-1.37c-.4-.4-.92-.59-1.43-.59-.52 0-1.04.2-1.43.59L10.3 9.45l-7.72 7.72c-.78.78-.78 2.05 0 2.83L4 21.41c.39.39.9.59 1.41.59.51 0 1.02-.2 1.41-.59l7.78-7.78 2.81-2.81c.8-.78.8-2.07 0-2.86zM5.41 20L4 18.59l7.72-7.72 1.47 1.35L5.41 20z\"/>\n",
              "  </svg>\n",
              "      </button>\n",
              "      \n",
              "  <style>\n",
              "    .colab-df-container {\n",
              "      display:flex;\n",
              "      flex-wrap:wrap;\n",
              "      gap: 12px;\n",
              "    }\n",
              "\n",
              "    .colab-df-convert {\n",
              "      background-color: #E8F0FE;\n",
              "      border: none;\n",
              "      border-radius: 50%;\n",
              "      cursor: pointer;\n",
              "      display: none;\n",
              "      fill: #1967D2;\n",
              "      height: 32px;\n",
              "      padding: 0 0 0 0;\n",
              "      width: 32px;\n",
              "    }\n",
              "\n",
              "    .colab-df-convert:hover {\n",
              "      background-color: #E2EBFA;\n",
              "      box-shadow: 0px 1px 2px rgba(60, 64, 67, 0.3), 0px 1px 3px 1px rgba(60, 64, 67, 0.15);\n",
              "      fill: #174EA6;\n",
              "    }\n",
              "\n",
              "    [theme=dark] .colab-df-convert {\n",
              "      background-color: #3B4455;\n",
              "      fill: #D2E3FC;\n",
              "    }\n",
              "\n",
              "    [theme=dark] .colab-df-convert:hover {\n",
              "      background-color: #434B5C;\n",
              "      box-shadow: 0px 1px 3px 1px rgba(0, 0, 0, 0.15);\n",
              "      filter: drop-shadow(0px 1px 2px rgba(0, 0, 0, 0.3));\n",
              "      fill: #FFFFFF;\n",
              "    }\n",
              "  </style>\n",
              "\n",
              "      <script>\n",
              "        const buttonEl =\n",
              "          document.querySelector('#df-6b83ce0f-ccb9-42b2-bb53-5d826841be5a button.colab-df-convert');\n",
              "        buttonEl.style.display =\n",
              "          google.colab.kernel.accessAllowed ? 'block' : 'none';\n",
              "\n",
              "        async function convertToInteractive(key) {\n",
              "          const element = document.querySelector('#df-6b83ce0f-ccb9-42b2-bb53-5d826841be5a');\n",
              "          const dataTable =\n",
              "            await google.colab.kernel.invokeFunction('convertToInteractive',\n",
              "                                                     [key], {});\n",
              "          if (!dataTable) return;\n",
              "\n",
              "          const docLinkHtml = 'Like what you see? Visit the ' +\n",
              "            '<a target=\"_blank\" href=https://colab.research.google.com/notebooks/data_table.ipynb>data table notebook</a>'\n",
              "            + ' to learn more about interactive tables.';\n",
              "          element.innerHTML = '';\n",
              "          dataTable['output_type'] = 'display_data';\n",
              "          await google.colab.output.renderOutput(dataTable, element);\n",
              "          const docLink = document.createElement('div');\n",
              "          docLink.innerHTML = docLinkHtml;\n",
              "          element.appendChild(docLink);\n",
              "        }\n",
              "      </script>\n",
              "    </div>\n",
              "  </div>\n",
              "  "
            ]
          },
          "metadata": {},
          "execution_count": 158
        }
      ],
      "source": [
        "result_test"
      ]
    },
    {
      "cell_type": "code",
      "execution_count": 159,
      "id": "66e35d18",
      "metadata": {
        "id": "66e35d18"
      },
      "outputs": [],
      "source": [
        "result_test.to_csv('result_test.csv', index=False)"
      ]
    }
  ],
  "metadata": {
    "kernelspec": {
      "display_name": "Python 3 (ipykernel)",
      "language": "python",
      "name": "python3"
    },
    "language_info": {
      "codemirror_mode": {
        "name": "ipython",
        "version": 3
      },
      "file_extension": ".py",
      "mimetype": "text/x-python",
      "name": "python",
      "nbconvert_exporter": "python",
      "pygments_lexer": "ipython3",
      "version": "3.9.13"
    },
    "colab": {
      "provenance": [],
      "include_colab_link": true
    }
  },
  "nbformat": 4,
  "nbformat_minor": 5
}